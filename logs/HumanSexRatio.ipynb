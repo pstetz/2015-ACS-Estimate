{
 "cells": [
  {
   "cell_type": "markdown",
   "metadata": {},
   "source": [
    "### Imports"
   ]
  },
  {
   "cell_type": "code",
   "execution_count": 3,
   "metadata": {
    "collapsed": true
   },
   "outputs": [],
   "source": [
    "### Data handling imports\n",
    "import pandas as pd\n",
    "import numpy as np\n",
    "\n",
    "### Plotting imports\n",
    "import matplotlib.pyplot as plt\n",
    "import seaborn as sns\n",
    "sns.set()\n",
    "%matplotlib inline\n",
    "\n",
    "county = pd.read_csv(\"../data/acs2015_county_data.csv\")"
   ]
  },
  {
   "cell_type": "markdown",
   "metadata": {},
   "source": [
    "### Main"
   ]
  },
  {
   "cell_type": "code",
   "execution_count": null,
   "metadata": {
    "collapsed": true
   },
   "outputs": [],
   "source": [
    "# Statistics imports\n",
    "import scipy, scipy.stats\n",
    "\n",
    "################  Configure me!!  ################\n",
    "\n",
    "selected_county = (\"Los Angeles\", \"California\")\n",
    "\n",
    "##################################################\n",
    "\n",
    "# Gets the selected county from the data\n",
    "selected_county = county[(county.State == selected_county[1]) & (county.County == selected_county[0])]\n",
    "\n",
    "### Gets the total population and the number of men\n",
    "n = selected_county.TotalPop.sum()\n",
    "men = selected_county.Men.median()\n",
    "women = selected_county.Women.median()\n",
    "\n",
    "# Calculates the number of standard deivations\n",
    "distance = abs((n / 2) - men)\n",
    "sigma = distance / np.sqrt(n / 4)\n",
    "\n",
    "# Get the probability distribution for a population this size\n",
    "x = np.linspace(.4*n, .6*n, n+1)\n",
    "pmf = scipy.stats.binom.pmf(x, n, 0.5)\n",
    "pmf = scipy.stats.binom.pmf(x, n, 0.5)\n",
    "\n",
    "### Plots the probability distribution and the actual value\n",
    "plt.figure(figsize=(12, 6))\n",
    "plt.plot(x, pmf, label=\"PMF\")\n",
    "plt.axvline(men, color=\"red\", label=\"Male Actual\")\n",
    "plt.axvline(women, color=\"k\", label=\"Female Actual\")\n",
    "\n",
    "### Limits the plot to the only interesting sectiton\n",
    "llim, rlim = n/2 - 1.2*distance, n/2 + 1.2*distance\n",
    "plt.xlim(llim, rlim)\n",
    "\n",
    "# Labels the plot\n",
    "plt.title(\"Actual is {} $\\sigma$ away\".format(round(sigma, 3)), fontsize=14)\n",
    "plt.xlabel(\"Number of people\")\n",
    "plt.ylabel(\"Probability\")\n",
    "_ = plt.legend(frameon=True, bbox_to_anchor=(1.1, 1.05)).get_frame().set_edgecolor('black')"
   ]
  }
 ],
 "metadata": {
  "kernelspec": {
   "display_name": "Python 3",
   "language": "python",
   "name": "python3"
  },
  "language_info": {
   "codemirror_mode": {
    "name": "ipython",
    "version": 3
   },
   "file_extension": ".py",
   "mimetype": "text/x-python",
   "name": "python",
   "nbconvert_exporter": "python",
   "pygments_lexer": "ipython3",
   "version": "3.6.3"
  }
 },
 "nbformat": 4,
 "nbformat_minor": 2
}
