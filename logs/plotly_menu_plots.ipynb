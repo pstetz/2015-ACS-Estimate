{
 "cells": [
  {
   "cell_type": "markdown",
   "metadata": {},
   "source": [
    "# Credit:\n",
    "\n",
    "[Leonardo Ferreira](https://www.kaggle.com/kabure) and [his work](https://www.kaggle.com/kabure/financial-hedging-eda-interactive-plots)"
   ]
  },
  {
   "cell_type": "markdown",
   "metadata": {},
   "source": [
    "### Imports"
   ]
  },
  {
   "cell_type": "code",
   "execution_count": 1,
   "metadata": {},
   "outputs": [
    {
     "data": {
      "text/html": [
       "<script>requirejs.config({paths: { 'plotly': ['https://cdn.plot.ly/plotly-latest.min']},});if(!window.Plotly) {{require(['plotly'],function(plotly) {window.Plotly=plotly;});}}</script>"
      ],
      "text/vnd.plotly.v1+html": [
       "<script>requirejs.config({paths: { 'plotly': ['https://cdn.plot.ly/plotly-latest.min']},});if(!window.Plotly) {{require(['plotly'],function(plotly) {window.Plotly=plotly;});}}</script>"
      ]
     },
     "metadata": {},
     "output_type": "display_data"
    }
   ],
   "source": [
    "# Load the librarys\n",
    "import pandas as pd\n",
    "import numpy as np\n",
    "import seaborn as sns\n",
    "import matplotlib.pyplot as plt\n",
    "%matplotlib inline\n",
    "\n",
    "from plotly import tools\n",
    "import plotly.offline as py\n",
    "from plotly.offline import init_notebook_mode, iplot, plot\n",
    "import plotly.graph_objs as go\n",
    "init_notebook_mode(connected=True)\n",
    "\n",
    "import warnings\n",
    "warnings.filterwarnings('ignore')"
   ]
  },
  {
   "cell_type": "markdown",
   "metadata": {},
   "source": [
    "### Load data"
   ]
  },
  {
   "cell_type": "code",
   "execution_count": 2,
   "metadata": {},
   "outputs": [
    {
     "ename": "FileNotFoundError",
     "evalue": "File b'../../../data/census/census_county.csv' does not exist",
     "output_type": "error",
     "traceback": [
      "\u001b[0;31m---------------------------------------------------------------------------\u001b[0m",
      "\u001b[0;31mFileNotFoundError\u001b[0m                         Traceback (most recent call last)",
      "\u001b[0;32m<ipython-input-2-ea2df693b1f6>\u001b[0m in \u001b[0;36m<module>\u001b[0;34m()\u001b[0m\n\u001b[0;32m----> 1\u001b[0;31m \u001b[0mcounty\u001b[0m \u001b[0;34m=\u001b[0m \u001b[0mpd\u001b[0m\u001b[0;34m.\u001b[0m\u001b[0mread_csv\u001b[0m\u001b[0;34m(\u001b[0m\u001b[0;34m\"../../../data/census/census_county.csv\"\u001b[0m\u001b[0;34m)\u001b[0m\u001b[0;34m\u001b[0m\u001b[0m\n\u001b[0m",
      "\u001b[0;32m/anaconda3/lib/python3.6/site-packages/pandas/io/parsers.py\u001b[0m in \u001b[0;36mparser_f\u001b[0;34m(filepath_or_buffer, sep, delimiter, header, names, index_col, usecols, squeeze, prefix, mangle_dupe_cols, dtype, engine, converters, true_values, false_values, skipinitialspace, skiprows, nrows, na_values, keep_default_na, na_filter, verbose, skip_blank_lines, parse_dates, infer_datetime_format, keep_date_col, date_parser, dayfirst, iterator, chunksize, compression, thousands, decimal, lineterminator, quotechar, quoting, escapechar, comment, encoding, dialect, tupleize_cols, error_bad_lines, warn_bad_lines, skipfooter, skip_footer, doublequote, delim_whitespace, as_recarray, compact_ints, use_unsigned, low_memory, buffer_lines, memory_map, float_precision)\u001b[0m\n\u001b[1;32m    653\u001b[0m                     skip_blank_lines=skip_blank_lines)\n\u001b[1;32m    654\u001b[0m \u001b[0;34m\u001b[0m\u001b[0m\n\u001b[0;32m--> 655\u001b[0;31m         \u001b[0;32mreturn\u001b[0m \u001b[0m_read\u001b[0m\u001b[0;34m(\u001b[0m\u001b[0mfilepath_or_buffer\u001b[0m\u001b[0;34m,\u001b[0m \u001b[0mkwds\u001b[0m\u001b[0;34m)\u001b[0m\u001b[0;34m\u001b[0m\u001b[0m\n\u001b[0m\u001b[1;32m    656\u001b[0m \u001b[0;34m\u001b[0m\u001b[0m\n\u001b[1;32m    657\u001b[0m     \u001b[0mparser_f\u001b[0m\u001b[0;34m.\u001b[0m\u001b[0m__name__\u001b[0m \u001b[0;34m=\u001b[0m \u001b[0mname\u001b[0m\u001b[0;34m\u001b[0m\u001b[0m\n",
      "\u001b[0;32m/anaconda3/lib/python3.6/site-packages/pandas/io/parsers.py\u001b[0m in \u001b[0;36m_read\u001b[0;34m(filepath_or_buffer, kwds)\u001b[0m\n\u001b[1;32m    403\u001b[0m \u001b[0;34m\u001b[0m\u001b[0m\n\u001b[1;32m    404\u001b[0m     \u001b[0;31m# Create the parser.\u001b[0m\u001b[0;34m\u001b[0m\u001b[0;34m\u001b[0m\u001b[0m\n\u001b[0;32m--> 405\u001b[0;31m     \u001b[0mparser\u001b[0m \u001b[0;34m=\u001b[0m \u001b[0mTextFileReader\u001b[0m\u001b[0;34m(\u001b[0m\u001b[0mfilepath_or_buffer\u001b[0m\u001b[0;34m,\u001b[0m \u001b[0;34m**\u001b[0m\u001b[0mkwds\u001b[0m\u001b[0;34m)\u001b[0m\u001b[0;34m\u001b[0m\u001b[0m\n\u001b[0m\u001b[1;32m    406\u001b[0m \u001b[0;34m\u001b[0m\u001b[0m\n\u001b[1;32m    407\u001b[0m     \u001b[0;32mif\u001b[0m \u001b[0mchunksize\u001b[0m \u001b[0;32mor\u001b[0m \u001b[0miterator\u001b[0m\u001b[0;34m:\u001b[0m\u001b[0;34m\u001b[0m\u001b[0m\n",
      "\u001b[0;32m/anaconda3/lib/python3.6/site-packages/pandas/io/parsers.py\u001b[0m in \u001b[0;36m__init__\u001b[0;34m(self, f, engine, **kwds)\u001b[0m\n\u001b[1;32m    762\u001b[0m             \u001b[0mself\u001b[0m\u001b[0;34m.\u001b[0m\u001b[0moptions\u001b[0m\u001b[0;34m[\u001b[0m\u001b[0;34m'has_index_names'\u001b[0m\u001b[0;34m]\u001b[0m \u001b[0;34m=\u001b[0m \u001b[0mkwds\u001b[0m\u001b[0;34m[\u001b[0m\u001b[0;34m'has_index_names'\u001b[0m\u001b[0;34m]\u001b[0m\u001b[0;34m\u001b[0m\u001b[0m\n\u001b[1;32m    763\u001b[0m \u001b[0;34m\u001b[0m\u001b[0m\n\u001b[0;32m--> 764\u001b[0;31m         \u001b[0mself\u001b[0m\u001b[0;34m.\u001b[0m\u001b[0m_make_engine\u001b[0m\u001b[0;34m(\u001b[0m\u001b[0mself\u001b[0m\u001b[0;34m.\u001b[0m\u001b[0mengine\u001b[0m\u001b[0;34m)\u001b[0m\u001b[0;34m\u001b[0m\u001b[0m\n\u001b[0m\u001b[1;32m    765\u001b[0m \u001b[0;34m\u001b[0m\u001b[0m\n\u001b[1;32m    766\u001b[0m     \u001b[0;32mdef\u001b[0m \u001b[0mclose\u001b[0m\u001b[0;34m(\u001b[0m\u001b[0mself\u001b[0m\u001b[0;34m)\u001b[0m\u001b[0;34m:\u001b[0m\u001b[0;34m\u001b[0m\u001b[0m\n",
      "\u001b[0;32m/anaconda3/lib/python3.6/site-packages/pandas/io/parsers.py\u001b[0m in \u001b[0;36m_make_engine\u001b[0;34m(self, engine)\u001b[0m\n\u001b[1;32m    983\u001b[0m     \u001b[0;32mdef\u001b[0m \u001b[0m_make_engine\u001b[0m\u001b[0;34m(\u001b[0m\u001b[0mself\u001b[0m\u001b[0;34m,\u001b[0m \u001b[0mengine\u001b[0m\u001b[0;34m=\u001b[0m\u001b[0;34m'c'\u001b[0m\u001b[0;34m)\u001b[0m\u001b[0;34m:\u001b[0m\u001b[0;34m\u001b[0m\u001b[0m\n\u001b[1;32m    984\u001b[0m         \u001b[0;32mif\u001b[0m \u001b[0mengine\u001b[0m \u001b[0;34m==\u001b[0m \u001b[0;34m'c'\u001b[0m\u001b[0;34m:\u001b[0m\u001b[0;34m\u001b[0m\u001b[0m\n\u001b[0;32m--> 985\u001b[0;31m             \u001b[0mself\u001b[0m\u001b[0;34m.\u001b[0m\u001b[0m_engine\u001b[0m \u001b[0;34m=\u001b[0m \u001b[0mCParserWrapper\u001b[0m\u001b[0;34m(\u001b[0m\u001b[0mself\u001b[0m\u001b[0;34m.\u001b[0m\u001b[0mf\u001b[0m\u001b[0;34m,\u001b[0m \u001b[0;34m**\u001b[0m\u001b[0mself\u001b[0m\u001b[0;34m.\u001b[0m\u001b[0moptions\u001b[0m\u001b[0;34m)\u001b[0m\u001b[0;34m\u001b[0m\u001b[0m\n\u001b[0m\u001b[1;32m    986\u001b[0m         \u001b[0;32melse\u001b[0m\u001b[0;34m:\u001b[0m\u001b[0;34m\u001b[0m\u001b[0m\n\u001b[1;32m    987\u001b[0m             \u001b[0;32mif\u001b[0m \u001b[0mengine\u001b[0m \u001b[0;34m==\u001b[0m \u001b[0;34m'python'\u001b[0m\u001b[0;34m:\u001b[0m\u001b[0;34m\u001b[0m\u001b[0m\n",
      "\u001b[0;32m/anaconda3/lib/python3.6/site-packages/pandas/io/parsers.py\u001b[0m in \u001b[0;36m__init__\u001b[0;34m(self, src, **kwds)\u001b[0m\n\u001b[1;32m   1603\u001b[0m         \u001b[0mkwds\u001b[0m\u001b[0;34m[\u001b[0m\u001b[0;34m'allow_leading_cols'\u001b[0m\u001b[0;34m]\u001b[0m \u001b[0;34m=\u001b[0m \u001b[0mself\u001b[0m\u001b[0;34m.\u001b[0m\u001b[0mindex_col\u001b[0m \u001b[0;32mis\u001b[0m \u001b[0;32mnot\u001b[0m \u001b[0;32mFalse\u001b[0m\u001b[0;34m\u001b[0m\u001b[0m\n\u001b[1;32m   1604\u001b[0m \u001b[0;34m\u001b[0m\u001b[0m\n\u001b[0;32m-> 1605\u001b[0;31m         \u001b[0mself\u001b[0m\u001b[0;34m.\u001b[0m\u001b[0m_reader\u001b[0m \u001b[0;34m=\u001b[0m \u001b[0mparsers\u001b[0m\u001b[0;34m.\u001b[0m\u001b[0mTextReader\u001b[0m\u001b[0;34m(\u001b[0m\u001b[0msrc\u001b[0m\u001b[0;34m,\u001b[0m \u001b[0;34m**\u001b[0m\u001b[0mkwds\u001b[0m\u001b[0;34m)\u001b[0m\u001b[0;34m\u001b[0m\u001b[0m\n\u001b[0m\u001b[1;32m   1606\u001b[0m \u001b[0;34m\u001b[0m\u001b[0m\n\u001b[1;32m   1607\u001b[0m         \u001b[0;31m# XXX\u001b[0m\u001b[0;34m\u001b[0m\u001b[0;34m\u001b[0m\u001b[0m\n",
      "\u001b[0;32mpandas/_libs/parsers.pyx\u001b[0m in \u001b[0;36mpandas._libs.parsers.TextReader.__cinit__ (pandas/_libs/parsers.c:4209)\u001b[0;34m()\u001b[0m\n",
      "\u001b[0;32mpandas/_libs/parsers.pyx\u001b[0m in \u001b[0;36mpandas._libs.parsers.TextReader._setup_parser_source (pandas/_libs/parsers.c:8873)\u001b[0;34m()\u001b[0m\n",
      "\u001b[0;31mFileNotFoundError\u001b[0m: File b'../../../data/census/census_county.csv' does not exist"
     ]
    }
   ],
   "source": [
    "county = pd.read_csv(\"../../../data/census/census_county.csv\")"
   ]
  },
  {
   "cell_type": "markdown",
   "metadata": {},
   "source": [
    "# Races\n",
    "\n",
    "#### setup"
   ]
  },
  {
   "cell_type": "code",
   "execution_count": 37,
   "metadata": {
    "collapsed": true
   },
   "outputs": [],
   "source": [
    "races = ['Hispanic', 'White', 'Black', 'Native', 'Asian', 'Pacific']\n",
    "\n",
    "for race in races:\n",
    "    county[race + \"_pop\"] = (county[race] * county.TotalPop) / 100"
   ]
  },
  {
   "cell_type": "markdown",
   "metadata": {},
   "source": [
    "### Races - by county"
   ]
  },
  {
   "cell_type": "code",
   "execution_count": 44,
   "metadata": {},
   "outputs": [
    {
     "data": {
      "text/plain": [
       "[              State          County  Hispanic_pop                       Place\n",
       " 0        California     Los Angeles   4838503.016     Los Angeles, California\n",
       " 1             Texas          Harris   1812246.592               Harris, Texas\n",
       " 2           Florida      Miami-Dade   1731211.552         Miami-Dade, Florida\n",
       " 3          Illinois            Cook   1293389.071              Cook, Illinois\n",
       " 4           Arizona        Maricopa   1209461.043           Maricopa, Arizona\n",
       " 5        California       Riverside   1080075.040       Riverside, California\n",
       " 6             Texas           Bexar   1078871.682                Bexar, Texas\n",
       " 7        California  San Bernardino   1070426.959  San Bernardino, California\n",
       " 8        California          Orange   1065695.598          Orange, California\n",
       " 9        California       San Diego   1060398.584       San Diego, California\n",
       " 10            Texas          Dallas    969151.170               Dallas, Texas\n",
       " 11         New York           Bronx    779882.922             Bronx, New York\n",
       " 12            Texas         Hidalgo    745487.470              Hidalgo, Texas\n",
       " 13            Texas         El Paso    675680.235              El Paso, Texas\n",
       " 14         New York          Queens    642017.781            Queens, New York\n",
       " 15           Nevada           Clark    610671.600               Clark, Nevada\n",
       " 16            Texas         Tarrant    528409.176              Tarrant, Texas\n",
       " 17         New York           Kings    508670.764             Kings, New York\n",
       " 18          Florida         Broward    497651.040            Broward, Florida\n",
       " 19       California     Santa Clara    496927.634     Santa Clara, California\n",
       " 20       California          Fresno    493682.484          Fresno, California\n",
       " 21       California            Kern    441525.360            Kern, California\n",
       " 22         New York        New York    420412.806          New York, New York\n",
       " 23            Texas          Travis    377994.365               Travis, Texas\n",
       " 24            Texas         Cameron    369883.095              Cameron, Texas\n",
       " 25      Puerto Rico        San Juan    364714.800       San Juan, Puerto Rico\n",
       " 26       California         Alameda    358206.158         Alameda, California\n",
       " 27          Arizona            Pima    356477.709               Pima, Arizona\n",
       " 28          Florida          Orange    352734.193             Orange, Florida\n",
       " 29       California         Ventura    349786.528         Ventura, California\n",
       " ...             ...             ...           ...                         ...\n",
       " 3190    Mississippi       Jefferson         7.586      Jefferson, Mississippi\n",
       " 3191       Nebraska            Rock         7.005              Rock, Nebraska\n",
       " 3192      Tennessee         Hancock         6.642          Hancock, Tennessee\n",
       " 3193    Mississippi       Issaquena         6.455      Issaquena, Mississippi\n",
       " 3194        Montana        Garfield         6.282           Garfield, Montana\n",
       " 3195        Montana       Petroleum         6.202          Petroleum, Montana\n",
       " 3196        Georgia          Miller         5.936             Miller, Georgia\n",
       " 3197   North Dakota          Divide         4.628        Divide, North Dakota\n",
       " 3198       Nebraska          Thomas         4.050            Thomas, Nebraska\n",
       " 3199   North Dakota        Sheridan         4.011      Sheridan, North Dakota\n",
       " 3200         Hawaii         Kalawao         3.995             Kalawao, Hawaii\n",
       " 3201       Nebraska       McPherson         3.897         McPherson, Nebraska\n",
       " 3202   North Dakota          Emmons         3.463        Emmons, North Dakota\n",
       " 3203   South Dakota        Campbell         3.096      Campbell, South Dakota\n",
       " 3204   South Dakota           Jones         2.343         Jones, South Dakota\n",
       " 3205   North Dakota           Slope         2.019         Slope, North Dakota\n",
       " 3206       Nebraska         Wheeler         0.000           Wheeler, Nebraska\n",
       " 3207       Virginia        Highland         0.000          Highland, Virginia\n",
       " 3208       Nebraska          Blaine         0.000            Blaine, Nebraska\n",
       " 3209        Georgia         Quitman         0.000            Quitman, Georgia\n",
       " 3210  West Virginia         Jackson         0.000      Jackson, West Virginia\n",
       " 3211       Virginia           Craig         0.000             Craig, Virginia\n",
       " 3212   South Dakota          Haakon         0.000        Haakon, South Dakota\n",
       " 3213   North Dakota        Cavalier         0.000      Cavalier, North Dakota\n",
       " 3214       Kentucky       Robertson         0.000         Robertson, Kentucky\n",
       " 3215       Nebraska          Arthur         0.000            Arthur, Nebraska\n",
       " 3216        Indiana            Ohio         0.000               Ohio, Indiana\n",
       " 3217       Nebraska       Keya Paha         0.000         Keya Paha, Nebraska\n",
       " 3218       Nebraska            Loup         0.000              Loup, Nebraska\n",
       " 3219  West Virginia        Nicholas         0.000     Nicholas, West Virginia\n",
       " \n",
       " [3220 rows x 4 columns],\n",
       "               State        County    White_pop                      Place\n",
       " 0        California   Los Angeles  2700326.372    Los Angeles, California\n",
       " 1           Arizona      Maricopa  2302395.939          Maricopa, Arizona\n",
       " 2          Illinois          Cook  2256885.383             Cook, Illinois\n",
       " 3        California     San Diego  1514855.120      San Diego, California\n",
       " 4             Texas        Harris  1380966.754              Harris, Texas\n",
       " 5        California        Orange  1321213.256         Orange, California\n",
       " 6        Washington          King  1284734.768           King, Washington\n",
       " 7     Massachusetts     Middlesex  1162418.652   Middlesex, Massachusetts\n",
       " 8          New York       Suffolk  1044955.608          Suffolk, New York\n",
       " 9      Pennsylvania     Allegheny   979991.420    Allegheny, Pennsylvania\n",
       " 10            Texas       Tarrant   953433.948             Tarrant, Texas\n",
       " 11           Nevada         Clark   932291.976              Clark, Nevada\n",
       " 12         New York         Kings   926507.463            Kings, New York\n",
       " 13         Michigan       Oakland   903684.705          Oakland, Michigan\n",
       " 14         Michigan         Wayne   885926.562            Wayne, Michigan\n",
       " 15       California     Riverside   868656.096      Riverside, California\n",
       " 16         New York        Nassau   852050.948           Nassau, New York\n",
       " 17        Minnesota      Hennepin   843234.304        Hennepin, Minnesota\n",
       " 18             Ohio      Franklin   799970.738             Franklin, Ohio\n",
       " 19          Florida    Palm Beach   794192.256        Palm Beach, Florida\n",
       " 20             Utah     Salt Lake   785481.424            Salt Lake, Utah\n",
       " 21            Texas        Dallas   782775.945              Dallas, Texas\n",
       " 22         New York      New York   767497.797         New York, New York\n",
       " 23             Ohio      Cuyahoga   762966.156             Cuyahoga, Ohio\n",
       " 24          Florida       Broward   744633.408           Broward, Florida\n",
       " 25         New York          Erie   705933.344             Erie, New York\n",
       " 26          Florida      Pinellas   703265.135          Pinellas, Florida\n",
       " 27         Michigan        Macomb   695716.846           Macomb, Michigan\n",
       " 28       California    Sacramento   686009.376     Sacramento, California\n",
       " 29         Missouri     St. Louis   678899.706        St. Louis, Missouri\n",
       " ...             ...           ...          ...                        ...\n",
       " 3190    Puerto Rico   San Lorenzo       79.556   San Lorenzo, Puerto Rico\n",
       " 3191    Puerto Rico   Barceloneta       74.325   Barceloneta, Puerto Rico\n",
       " 3192    Puerto Rico       Yabucoa       72.558       Yabucoa, Puerto Rico\n",
       " 3193    Puerto Rico         Lares       57.454         Lares, Puerto Rico\n",
       " 3194    Puerto Rico       Culebra       52.938       Culebra, Puerto Rico\n",
       " 3195    Puerto Rico      Aibonito       49.658      Aibonito, Puerto Rico\n",
       " 3196          Texas        Loving       47.970              Loving, Texas\n",
       " 3197    Puerto Rico     Canóvanas       47.432     Canóvanas, Puerto Rico\n",
       " 3198    Puerto Rico  Santa Isabel       45.826  Santa Isabel, Puerto Rico\n",
       " 3199    Puerto Rico   Las Piedras       38.605   Las Piedras, Puerto Rico\n",
       " 3200    Puerto Rico         Ceiba       38.430         Ceiba, Puerto Rico\n",
       " 3201    Puerto Rico        Arroyo       38.036        Arroyo, Puerto Rico\n",
       " 3202    Puerto Rico      Adjuntas       37.924      Adjuntas, Puerto Rico\n",
       " 3203    Puerto Rico       Corozal       35.975       Corozal, Puerto Rico\n",
       " 3204    Puerto Rico   Hormigueros       33.690   Hormigueros, Puerto Rico\n",
       " 3205    Puerto Rico       Morovis       32.294       Morovis, Puerto Rico\n",
       " 3206         Hawaii       Kalawao       31.960            Kalawao, Hawaii\n",
       " 3207    Puerto Rico        Jayuya       31.780        Jayuya, Puerto Rico\n",
       " 3208    Puerto Rico     Naranjito       29.751     Naranjito, Puerto Rico\n",
       " 3209    Puerto Rico       Naguabo       26.804       Naguabo, Puerto Rico\n",
       " 3210    Puerto Rico       Florida       24.816       Florida, Puerto Rico\n",
       " 3211    Puerto Rico         Lajas       24.722         Lajas, Puerto Rico\n",
       " 3212    Puerto Rico      Orocovis       22.595      Orocovis, Puerto Rico\n",
       " 3213    Puerto Rico       Comerío       20.339       Comerío, Puerto Rico\n",
       " 3214    Puerto Rico      Patillas       18.441      Patillas, Puerto Rico\n",
       " 3215    Puerto Rico       Maunabo       11.701       Maunabo, Puerto Rico\n",
       " 3216    Puerto Rico  Barranquitas        0.000  Barranquitas, Puerto Rico\n",
       " 3217    Puerto Rico       Maricao        0.000       Maricao, Puerto Rico\n",
       " 3218    Puerto Rico         Loíza        0.000         Loíza, Puerto Rico\n",
       " 3219    Puerto Rico      Villalba        0.000      Villalba, Puerto Rico\n",
       " \n",
       " [3220 rows x 4 columns],\n",
       "                      State                County    Black_pop  \\\n",
       " 0                 Illinois                  Cook  1241025.141   \n",
       " 1                 New York                 Kings   809720.808   \n",
       " 2                    Texas                Harris   805926.970   \n",
       " 3               California           Los Angeles   803071.040   \n",
       " 4                 Michigan                 Wayne   697355.848   \n",
       " 5             Pennsylvania          Philadelphia   645354.880   \n",
       " 6                 Maryland       Prince George's   558902.816   \n",
       " 7                    Texas                Dallas   541730.654   \n",
       " 8                  Florida               Broward   495807.888   \n",
       " 9                Tennessee                Shelby   492318.750   \n",
       " 10                 Florida            Miami-Dade   443359.056   \n",
       " 11                 Georgia                Fulton   427997.805   \n",
       " 12                New York                 Bronx   422793.672   \n",
       " 13                New York                Queens   400398.186   \n",
       " 14                Maryland        Baltimore city   387788.842   \n",
       " 15                 Georgia                DeKalb   379655.430   \n",
       " 16                    Ohio              Cuyahoga   370114.377   \n",
       " 17    District of Columbia  District of Columbia   310792.320   \n",
       " 18              New Jersey                 Essex   306352.683   \n",
       " 19          North Carolina           Mecklenburg   302037.840   \n",
       " 20                   Texas               Tarrant   289093.426   \n",
       " 21                 Alabama             Jefferson   278108.972   \n",
       " 22                 Florida                 Duval   258295.170   \n",
       " 23                    Ohio              Franklin   256525.571   \n",
       " 24               Wisconsin             Milwaukee   249500.079   \n",
       " 25                 Indiana                Marion   248257.780   \n",
       " 26                 Florida                Orange   244578.761   \n",
       " 27                 Florida            Palm Beach   241291.050   \n",
       " 28                Missouri             St. Louis   233309.191   \n",
       " 29               Louisiana               Orleans   222275.420   \n",
       " ...                    ...                   ...          ...   \n",
       " 3190                 Idaho                   Gem        0.000   \n",
       " 3191           Puerto Rico               Naguabo        0.000   \n",
       " 3192              Colorado              Hinsdale        0.000   \n",
       " 3193                 Idaho               Lincoln        0.000   \n",
       " 3194                 Texas                Zapata        0.000   \n",
       " 3195              Missouri                 Worth        0.000   \n",
       " 3196           Puerto Rico           San Lorenzo        0.000   \n",
       " 3197               Montana         Golden Valley        0.000   \n",
       " 3198                 Texas                Kenedy        0.000   \n",
       " 3199                 Texas             Glasscock        0.000   \n",
       " 3200               Montana              Garfield        0.000   \n",
       " 3201           Puerto Rico             Vega Alta        0.000   \n",
       " 3202               Montana               Daniels        0.000   \n",
       " 3203           Puerto Rico         Trujillo Alto        0.000   \n",
       " 3204                 Texas                 Irion        0.000   \n",
       " 3205              Nebraska                  Loup        0.000   \n",
       " 3206              Nebraska             McPherson        0.000   \n",
       " 3207               Montana                Carter        0.000   \n",
       " 3208                 Texas                Kimble        0.000   \n",
       " 3209                 Texas              McMullen        0.000   \n",
       " 3210                 Texas                  King        0.000   \n",
       " 3211                Hawaii               Kalawao        0.000   \n",
       " 3212               Montana                Carbon        0.000   \n",
       " 3213              Nebraska              Nuckolls        0.000   \n",
       " 3214                 Texas                Loving        0.000   \n",
       " 3215           Puerto Rico          Santa Isabel        0.000   \n",
       " 3216                 Texas                 Mason        0.000   \n",
       " 3217                 Idaho                 Adams        0.000   \n",
       " 3218           Puerto Rico         San Sebastián        0.000   \n",
       " 3219          North Dakota                 Wells        0.000   \n",
       " \n",
       "                                            Place  \n",
       " 0                                 Cook, Illinois  \n",
       " 1                                Kings, New York  \n",
       " 2                                  Harris, Texas  \n",
       " 3                        Los Angeles, California  \n",
       " 4                                Wayne, Michigan  \n",
       " 5                     Philadelphia, Pennsylvania  \n",
       " 6                      Prince George's, Maryland  \n",
       " 7                                  Dallas, Texas  \n",
       " 8                               Broward, Florida  \n",
       " 9                              Shelby, Tennessee  \n",
       " 10                           Miami-Dade, Florida  \n",
       " 11                               Fulton, Georgia  \n",
       " 12                               Bronx, New York  \n",
       " 13                              Queens, New York  \n",
       " 14                      Baltimore city, Maryland  \n",
       " 15                               DeKalb, Georgia  \n",
       " 16                                Cuyahoga, Ohio  \n",
       " 17    District of Columbia, District of Columbia  \n",
       " 18                             Essex, New Jersey  \n",
       " 19                   Mecklenburg, North Carolina  \n",
       " 20                                Tarrant, Texas  \n",
       " 21                            Jefferson, Alabama  \n",
       " 22                                Duval, Florida  \n",
       " 23                                Franklin, Ohio  \n",
       " 24                          Milwaukee, Wisconsin  \n",
       " 25                               Marion, Indiana  \n",
       " 26                               Orange, Florida  \n",
       " 27                           Palm Beach, Florida  \n",
       " 28                           St. Louis, Missouri  \n",
       " 29                            Orleans, Louisiana  \n",
       " ...                                          ...  \n",
       " 3190                                  Gem, Idaho  \n",
       " 3191                        Naguabo, Puerto Rico  \n",
       " 3192                          Hinsdale, Colorado  \n",
       " 3193                              Lincoln, Idaho  \n",
       " 3194                               Zapata, Texas  \n",
       " 3195                             Worth, Missouri  \n",
       " 3196                    San Lorenzo, Puerto Rico  \n",
       " 3197                      Golden Valley, Montana  \n",
       " 3198                               Kenedy, Texas  \n",
       " 3199                            Glasscock, Texas  \n",
       " 3200                           Garfield, Montana  \n",
       " 3201                      Vega Alta, Puerto Rico  \n",
       " 3202                            Daniels, Montana  \n",
       " 3203                  Trujillo Alto, Puerto Rico  \n",
       " 3204                                Irion, Texas  \n",
       " 3205                              Loup, Nebraska  \n",
       " 3206                         McPherson, Nebraska  \n",
       " 3207                             Carter, Montana  \n",
       " 3208                               Kimble, Texas  \n",
       " 3209                             McMullen, Texas  \n",
       " 3210                                 King, Texas  \n",
       " 3211                             Kalawao, Hawaii  \n",
       " 3212                             Carbon, Montana  \n",
       " 3213                          Nuckolls, Nebraska  \n",
       " 3214                               Loving, Texas  \n",
       " 3215                   Santa Isabel, Puerto Rico  \n",
       " 3216                                Mason, Texas  \n",
       " 3217                                Adams, Idaho  \n",
       " 3218                  San Sebastián, Puerto Rico  \n",
       " 3219                         Wells, North Dakota  \n",
       " \n",
       " [3220 rows x 4 columns],\n",
       "                State                  County  Native_pop  \\\n",
       " 0            Arizona                Maricopa   64290.288   \n",
       " 1         New Mexico                McKinley   53500.554   \n",
       " 2            Arizona                  Apache   51712.908   \n",
       " 3     North Carolina                 Robeson   50711.496   \n",
       " 4            Arizona                  Navajo   46399.736   \n",
       " 5         New Mexico                San Juan   45423.279   \n",
       " 6            Arizona                Coconino   35542.260   \n",
       " 7           Oklahoma                   Tulsa   27426.740   \n",
       " 8         New Mexico              Bernalillo   26283.777   \n",
       " 9            Arizona                    Pima   23964.888   \n",
       " 10        California             Los Angeles   20076.776   \n",
       " 11          Oklahoma                Oklahoma   19616.480   \n",
       " 12            Alaska  Anchorage Municipality   18843.741   \n",
       " 13           Arizona                   Pinal   18319.284   \n",
       " 14        New Mexico                Sandoval   16259.922   \n",
       " 15          Oklahoma                Cherokee   15439.137   \n",
       " 16            Alaska      Bethel Census Area   14327.456   \n",
       " 17      South Dakota           Oglala Lakota   13034.913   \n",
       " 18        California               San Diego   12892.384   \n",
       " 19        Washington                    King   12274.536   \n",
       " 20          Oklahoma                Muskogee   11306.064   \n",
       " 21      North Dakota                 Rolette   11192.456   \n",
       " 22        New Mexico                  Cibola   10542.070   \n",
       " 23          Oklahoma                  Rogers   10435.230   \n",
       " 24          Oklahoma               Cleveland    9938.718   \n",
       " 25          Oklahoma            Pottawatomie    9318.816   \n",
       " 26        California               Riverside    9192.128   \n",
       " 27         Minnesota                Beltrami    9086.800   \n",
       " 28             Texas                  Harris    8712.724   \n",
       " 29        Washington                  Yakima    8659.280   \n",
       " ...              ...                     ...         ...   \n",
       " 3190         Georgia                  Schley       0.000   \n",
       " 3191     Mississippi                 Sharkey       0.000   \n",
       " 3192         Georgia                Randolph       0.000   \n",
       " 3193     Mississippi                 Simpson       0.000   \n",
       " 3194         Georgia                  Putnam       0.000   \n",
       " 3195         Georgia                 Pulaski       0.000   \n",
       " 3196         Georgia                    Polk       0.000   \n",
       " 3197         Georgia                Treutlen       0.000   \n",
       " 3198     Mississippi                   Perry       0.000   \n",
       " 3199     Puerto Rico              Juana Díaz       0.000   \n",
       " 3200           Texas                    Real       0.000   \n",
       " 3201     Puerto Rico                  Jayuya       0.000   \n",
       " 3202           Idaho                  Blaine       0.000   \n",
       " 3203           Texas                  Panola       0.000   \n",
       " 3204     Mississippi                 Leflore       0.000   \n",
       " 3205     Mississippi                 Lincoln       0.000   \n",
       " 3206     Mississippi                  Monroe       0.000   \n",
       " 3207          Hawaii                 Kalawao       0.000   \n",
       " 3208           Texas                  Reagan       0.000   \n",
       " 3209         Georgia                   Worth       0.000   \n",
       " 3210     Mississippi                  Panola       0.000   \n",
       " 3211         Georgia                  Wilkes       0.000   \n",
       " 3212         Georgia                  Wilcox       0.000   \n",
       " 3213     Mississippi              Montgomery       0.000   \n",
       " 3214         Georgia                   White       0.000   \n",
       " 3215         Georgia                 Webster       0.000   \n",
       " 3216     Puerto Rico                 Isabela       0.000   \n",
       " 3217         Georgia              Washington       0.000   \n",
       " 3218     Puerto Rico                 Humacao       0.000   \n",
       " 3219          Kansas                  Pawnee       0.000   \n",
       " \n",
       "                                Place  \n",
       " 0                  Maricopa, Arizona  \n",
       " 1               McKinley, New Mexico  \n",
       " 2                    Apache, Arizona  \n",
       " 3            Robeson, North Carolina  \n",
       " 4                    Navajo, Arizona  \n",
       " 5               San Juan, New Mexico  \n",
       " 6                  Coconino, Arizona  \n",
       " 7                    Tulsa, Oklahoma  \n",
       " 8             Bernalillo, New Mexico  \n",
       " 9                      Pima, Arizona  \n",
       " 10           Los Angeles, California  \n",
       " 11                Oklahoma, Oklahoma  \n",
       " 12    Anchorage Municipality, Alaska  \n",
       " 13                    Pinal, Arizona  \n",
       " 14              Sandoval, New Mexico  \n",
       " 15                Cherokee, Oklahoma  \n",
       " 16        Bethel Census Area, Alaska  \n",
       " 17       Oglala Lakota, South Dakota  \n",
       " 18             San Diego, California  \n",
       " 19                  King, Washington  \n",
       " 20                Muskogee, Oklahoma  \n",
       " 21             Rolette, North Dakota  \n",
       " 22                Cibola, New Mexico  \n",
       " 23                  Rogers, Oklahoma  \n",
       " 24               Cleveland, Oklahoma  \n",
       " 25            Pottawatomie, Oklahoma  \n",
       " 26             Riverside, California  \n",
       " 27               Beltrami, Minnesota  \n",
       " 28                     Harris, Texas  \n",
       " 29                Yakima, Washington  \n",
       " ...                              ...  \n",
       " 3190                 Schley, Georgia  \n",
       " 3191            Sharkey, Mississippi  \n",
       " 3192               Randolph, Georgia  \n",
       " 3193            Simpson, Mississippi  \n",
       " 3194                 Putnam, Georgia  \n",
       " 3195                Pulaski, Georgia  \n",
       " 3196                   Polk, Georgia  \n",
       " 3197               Treutlen, Georgia  \n",
       " 3198              Perry, Mississippi  \n",
       " 3199         Juana Díaz, Puerto Rico  \n",
       " 3200                     Real, Texas  \n",
       " 3201             Jayuya, Puerto Rico  \n",
       " 3202                   Blaine, Idaho  \n",
       " 3203                   Panola, Texas  \n",
       " 3204            Leflore, Mississippi  \n",
       " 3205            Lincoln, Mississippi  \n",
       " 3206             Monroe, Mississippi  \n",
       " 3207                 Kalawao, Hawaii  \n",
       " 3208                   Reagan, Texas  \n",
       " 3209                  Worth, Georgia  \n",
       " 3210             Panola, Mississippi  \n",
       " 3211                 Wilkes, Georgia  \n",
       " 3212                 Wilcox, Georgia  \n",
       " 3213         Montgomery, Mississippi  \n",
       " 3214                  White, Georgia  \n",
       " 3215                Webster, Georgia  \n",
       " 3216            Isabela, Puerto Rico  \n",
       " 3217             Washington, Georgia  \n",
       " 3218            Humacao, Puerto Rico  \n",
       " 3219                  Pawnee, Kansas  \n",
       " \n",
       " [3220 rows x 4 columns],\n",
       "               State          County    Asian_pop                       Place\n",
       " 0        California     Los Angeles  1405374.320     Los Angeles, California\n",
       " 1        California     Santa Clara   625829.915     Santa Clara, California\n",
       " 2        California          Orange   585820.972          Orange, California\n",
       " 3          New York          Queens   556875.638            Queens, New York\n",
       " 4        California         Alameda   435870.325         Alameda, California\n",
       " 5            Hawaii        Honolulu   409418.048            Honolulu, Hawaii\n",
       " 6        California       San Diego   360986.752       San Diego, California\n",
       " 7          Illinois            Cook   350838.331              Cook, Illinois\n",
       " 8        Washington            King   317092.180            King, Washington\n",
       " 9          New York           Kings   295859.526             Kings, New York\n",
       " 10            Texas          Harris   283163.530               Harris, Texas\n",
       " 11       California   San Francisco   281655.605   San Francisco, California\n",
       " 12       California      Sacramento   216943.136      Sacramento, California\n",
       " 13         Virginia         Fairfax   206556.126           Fairfax, Virginia\n",
       " 14       California       San Mateo   196167.522       San Mateo, California\n",
       " 15       New Jersey       Middlesex   192629.600       Middlesex, New Jersey\n",
       " 16         New York        New York   189022.812          New York, New York\n",
       " 17           Nevada           Clark   183201.480               Clark, Nevada\n",
       " 18       California    Contra Costa   165506.268    Contra Costa, California\n",
       " 19    Massachusetts       Middlesex   163392.180    Middlesex, Massachusetts\n",
       " 20          Arizona        Maricopa   148671.291           Maricopa, Arizona\n",
       " 21         Maryland      Montgomery   146571.696        Montgomery, Maryland\n",
       " 22       New Jersey          Bergen   143581.150          Bergen, New Jersey\n",
       " 23            Texas          Dallas   139160.168               Dallas, Texas\n",
       " 24       California       Riverside   137881.920       Riverside, California\n",
       " 25       California  San Bernardino   136159.985  San Bernardino, California\n",
       " 26            Texas       Fort Bend   120474.573            Fort Bend, Texas\n",
       " 27         New York          Nassau   115142.020            Nassau, New York\n",
       " 28            Texas          Collin   106914.660               Collin, Texas\n",
       " 29     Pennsylvania    Philadelphia   105744.896  Philadelphia, Pennsylvania\n",
       " ...             ...             ...          ...                         ...\n",
       " 3190    Puerto Rico         Corozal        0.000        Corozal, Puerto Rico\n",
       " 3191    Puerto Rico         Culebra        0.000        Culebra, Puerto Rico\n",
       " 3192    Puerto Rico          Dorado        0.000         Dorado, Puerto Rico\n",
       " 3193    Puerto Rico         Florida        0.000        Florida, Puerto Rico\n",
       " 3194    Puerto Rico          Gurabo        0.000         Gurabo, Puerto Rico\n",
       " 3195        Georgia      Jeff Davis        0.000         Jeff Davis, Georgia\n",
       " 3196    Puerto Rico         Guánica        0.000        Guánica, Puerto Rico\n",
       " 3197    Puerto Rico     Hormigueros        0.000    Hormigueros, Puerto Rico\n",
       " 3198    Puerto Rico         Humacao        0.000        Humacao, Puerto Rico\n",
       " 3199        Georgia            Clay        0.000               Clay, Georgia\n",
       " 3200    Puerto Rico         Isabela        0.000        Isabela, Puerto Rico\n",
       " 3201    Puerto Rico          Jayuya        0.000         Jayuya, Puerto Rico\n",
       " 3202    Puerto Rico          Ciales        0.000         Ciales, Puerto Rico\n",
       " 3203        Georgia          Echols        0.000             Echols, Georgia\n",
       " 3204    Puerto Rico       Canóvanas        0.000      Canóvanas, Puerto Rico\n",
       " 3205        Georgia         Emanuel        0.000            Emanuel, Georgia\n",
       " 3206    Puerto Rico           Camuy        0.000          Camuy, Puerto Rico\n",
       " 3207    Puerto Rico          Caguas        0.000         Caguas, Puerto Rico\n",
       " 3208    Puerto Rico       Cabo Rojo        0.000      Cabo Rojo, Puerto Rico\n",
       " 3209    Puerto Rico    Barranquitas        0.000   Barranquitas, Puerto Rico\n",
       " 3210    Puerto Rico          Añasco        0.000         Añasco, Puerto Rico\n",
       " 3211    Puerto Rico          Arroyo        0.000         Arroyo, Puerto Rico\n",
       " 3212    Puerto Rico         Arecibo        0.000        Arecibo, Puerto Rico\n",
       " 3213        Georgia        Glascock        0.000           Glascock, Georgia\n",
       " 3214    Puerto Rico        Aibonito        0.000       Aibonito, Puerto Rico\n",
       " 3215    Puerto Rico    Aguas Buenas        0.000   Aguas Buenas, Puerto Rico\n",
       " 3216    Puerto Rico        Adjuntas        0.000       Adjuntas, Puerto Rico\n",
       " 3217        Georgia           Heard        0.000              Heard, Georgia\n",
       " 3218         Oregon         Gilliam        0.000             Gilliam, Oregon\n",
       " 3219   North Dakota          Nelson        0.000        Nelson, North Dakota\n",
       " \n",
       " [3220 rows x 4 columns],\n",
       "                State                  County  Pacific_pop  \\\n",
       " 0             Hawaii                Honolulu    84639.308   \n",
       " 1             Hawaii                  Hawaii    21254.502   \n",
       " 2         California             Los Angeles    20076.776   \n",
       " 3         Washington                    King    16366.048   \n",
       " 4               Utah               Salt Lake    16184.370   \n",
       " 5             Hawaii                    Maui    15442.848   \n",
       " 6         California              Sacramento    14658.320   \n",
       " 7             Nevada                   Clark    14249.004   \n",
       " 8         California               San Diego    12892.384   \n",
       " 9         California                 Alameda    12679.864   \n",
       " 10        Washington                  Pierce    10685.376   \n",
       " 11        California               San Mateo    10482.234   \n",
       " 12        California                  Orange     9348.207   \n",
       " 13           Arizona                Maricopa     8036.286   \n",
       " 14        California               Riverside     6894.096   \n",
       " 15            Hawaii                   Kauai     6341.881   \n",
       " 16        California          San Bernardino     6284.307   \n",
       " 17            Alaska  Anchorage Municipality     6281.247   \n",
       " 18        California             Santa Clara     5604.447   \n",
       " 19        California            Contra Costa     5480.340   \n",
       " 20          Arkansas              Washington     4761.504   \n",
       " 21            Oregon               Multnomah     4610.508   \n",
       " 22              Utah                    Utah     4415.656   \n",
       " 23             Texas                  Harris     4356.362   \n",
       " 24             Texas                 Tarrant     3829.052   \n",
       " 25        California              Stanislaus     3691.569   \n",
       " 26        California             San Joaquin     3542.770   \n",
       " 27        California                  Solano     3406.024   \n",
       " 28        California           San Francisco     3363.052   \n",
       " 29        Washington                   Clark     3111.542   \n",
       " ...              ...                     ...          ...   \n",
       " 3190  North Carolina                  Stanly        0.000   \n",
       " 3191  North Carolina                Scotland        0.000   \n",
       " 3192  North Carolina                 Sampson        0.000   \n",
       " 3193  North Carolina              Rutherford        0.000   \n",
       " 3194  North Carolina                   Rowan        0.000   \n",
       " 3195  North Carolina                 Robeson        0.000   \n",
       " 3196  North Carolina                Richmond        0.000   \n",
       " 3197  North Carolina                Randolph        0.000   \n",
       " 3198  North Carolina                  Wilkes        0.000   \n",
       " 3199  North Carolina                  Yadkin        0.000   \n",
       " 3200    North Dakota                   Adams        0.000   \n",
       " 3201    North Dakota                  Barnes        0.000   \n",
       " 3202    North Dakota                 LaMoure        0.000   \n",
       " 3203    North Dakota                  Kidder        0.000   \n",
       " 3204    North Dakota                  Griggs        0.000   \n",
       " 3205    North Dakota                   Grant        0.000   \n",
       " 3206    North Dakota             Grand Forks        0.000   \n",
       " 3207    North Dakota           Golden Valley        0.000   \n",
       " 3208    North Dakota                  Foster        0.000   \n",
       " 3209    North Dakota                  Emmons        0.000   \n",
       " 3210    North Dakota                  Divide        0.000   \n",
       " 3211    North Dakota                  Dickey        0.000   \n",
       " 3212    North Dakota                Cavalier        0.000   \n",
       " 3213    North Dakota                    Cass        0.000   \n",
       " 3214    North Dakota                Burleigh        0.000   \n",
       " 3215    North Dakota                   Burke        0.000   \n",
       " 3216    North Dakota                  Bowman        0.000   \n",
       " 3217    North Dakota               Bottineau        0.000   \n",
       " 3218    North Dakota                Billings        0.000   \n",
       " 3219         Alabama                 Autauga        0.000   \n",
       " \n",
       "                                Place  \n",
       " 0                   Honolulu, Hawaii  \n",
       " 1                     Hawaii, Hawaii  \n",
       " 2            Los Angeles, California  \n",
       " 3                   King, Washington  \n",
       " 4                    Salt Lake, Utah  \n",
       " 5                       Maui, Hawaii  \n",
       " 6             Sacramento, California  \n",
       " 7                      Clark, Nevada  \n",
       " 8              San Diego, California  \n",
       " 9                Alameda, California  \n",
       " 10                Pierce, Washington  \n",
       " 11             San Mateo, California  \n",
       " 12                Orange, California  \n",
       " 13                 Maricopa, Arizona  \n",
       " 14             Riverside, California  \n",
       " 15                     Kauai, Hawaii  \n",
       " 16        San Bernardino, California  \n",
       " 17    Anchorage Municipality, Alaska  \n",
       " 18           Santa Clara, California  \n",
       " 19          Contra Costa, California  \n",
       " 20              Washington, Arkansas  \n",
       " 21                 Multnomah, Oregon  \n",
       " 22                        Utah, Utah  \n",
       " 23                     Harris, Texas  \n",
       " 24                    Tarrant, Texas  \n",
       " 25            Stanislaus, California  \n",
       " 26           San Joaquin, California  \n",
       " 27                Solano, California  \n",
       " 28         San Francisco, California  \n",
       " 29                 Clark, Washington  \n",
       " ...                              ...  \n",
       " 3190          Stanly, North Carolina  \n",
       " 3191        Scotland, North Carolina  \n",
       " 3192         Sampson, North Carolina  \n",
       " 3193      Rutherford, North Carolina  \n",
       " 3194           Rowan, North Carolina  \n",
       " 3195         Robeson, North Carolina  \n",
       " 3196        Richmond, North Carolina  \n",
       " 3197        Randolph, North Carolina  \n",
       " 3198          Wilkes, North Carolina  \n",
       " 3199          Yadkin, North Carolina  \n",
       " 3200             Adams, North Dakota  \n",
       " 3201            Barnes, North Dakota  \n",
       " 3202           LaMoure, North Dakota  \n",
       " 3203            Kidder, North Dakota  \n",
       " 3204            Griggs, North Dakota  \n",
       " 3205             Grant, North Dakota  \n",
       " 3206       Grand Forks, North Dakota  \n",
       " 3207     Golden Valley, North Dakota  \n",
       " 3208            Foster, North Dakota  \n",
       " 3209            Emmons, North Dakota  \n",
       " 3210            Divide, North Dakota  \n",
       " 3211            Dickey, North Dakota  \n",
       " 3212          Cavalier, North Dakota  \n",
       " 3213              Cass, North Dakota  \n",
       " 3214          Burleigh, North Dakota  \n",
       " 3215             Burke, North Dakota  \n",
       " 3216            Bowman, North Dakota  \n",
       " 3217         Bottineau, North Dakota  \n",
       " 3218          Billings, North Dakota  \n",
       " 3219                Autauga, Alabama  \n",
       " \n",
       " [3220 rows x 4 columns]]"
      ]
     },
     "execution_count": 44,
     "metadata": {},
     "output_type": "execute_result"
    }
   ],
   "source": [
    "datas"
   ]
  },
  {
   "cell_type": "code",
   "execution_count": 48,
   "metadata": {},
   "outputs": [
    {
     "name": "stdout",
     "output_type": "stream",
     "text": [
      "This is the format of your plot grid:\n",
      "[ (1,1) x1,y1 ]  [ (1,2) x2,y2 ]\n",
      "[ (2,1) x3,y3 ]  [ (2,2) x4,y4 ]\n",
      "\n"
     ]
    },
    {
     "data": {
      "application/vnd.plotly.v1+json": {
       "data": [
        {
         "showlegend": false,
         "type": "bar",
         "x": [
          "Los Angeles, California",
          "Harris, Texas",
          "Miami-Dade, Florida",
          "Cook, Illinois",
          "Maricopa, Arizona",
          "Riverside, California",
          "Bexar, Texas",
          "San Bernardino, California",
          "Orange, California",
          "San Diego, California"
         ],
         "xaxis": "x1",
         "y": [
          4838503,
          1812246,
          1731211,
          1293389,
          1209461,
          1080075,
          1078871,
          1070426,
          1065695,
          1060398
         ],
         "yaxis": "y1"
        },
        {
         "showlegend": false,
         "type": "bar",
         "x": [
          "Los Angeles, California",
          "Maricopa, Arizona",
          "Cook, Illinois",
          "San Diego, California",
          "Harris, Texas",
          "Orange, California",
          "King, Washington",
          "Middlesex, Massachusetts",
          "Suffolk, New York",
          "Allegheny, Pennsylvania"
         ],
         "xaxis": "x1",
         "y": [
          2700326,
          2302395,
          2256885,
          1514855,
          1380966,
          1321213,
          1284734,
          1162418,
          1044955,
          979991
         ],
         "yaxis": "y1"
        },
        {
         "showlegend": false,
         "type": "bar",
         "x": [
          "Cook, Illinois",
          "Kings, New York",
          "Harris, Texas",
          "Los Angeles, California",
          "Wayne, Michigan",
          "Philadelphia, Pennsylvania",
          "Prince George's, Maryland",
          "Dallas, Texas",
          "Broward, Florida",
          "Shelby, Tennessee"
         ],
         "xaxis": "x1",
         "y": [
          1241025,
          809720,
          805926,
          803071,
          697355,
          645354,
          558902,
          541730,
          495807,
          492318
         ],
         "yaxis": "y1"
        },
        {
         "showlegend": false,
         "type": "bar",
         "x": [
          "Maricopa, Arizona",
          "McKinley, New Mexico",
          "Apache, Arizona",
          "Robeson, North Carolina",
          "Navajo, Arizona",
          "San Juan, New Mexico",
          "Coconino, Arizona",
          "Tulsa, Oklahoma",
          "Bernalillo, New Mexico",
          "Pima, Arizona"
         ],
         "xaxis": "x1",
         "y": [
          64290,
          53500,
          51712,
          50711,
          46399,
          45423,
          35542,
          27426,
          26283,
          23964
         ],
         "yaxis": "y1"
        },
        {
         "showlegend": false,
         "type": "bar",
         "x": [
          "Los Angeles, California",
          "Santa Clara, California",
          "Orange, California",
          "Queens, New York",
          "Alameda, California",
          "Honolulu, Hawaii",
          "San Diego, California",
          "Cook, Illinois",
          "King, Washington",
          "Kings, New York"
         ],
         "xaxis": "x1",
         "y": [
          1405374,
          625829,
          585820,
          556875,
          435870,
          409418,
          360986,
          350838,
          317092,
          295859
         ],
         "yaxis": "y1"
        },
        {
         "showlegend": false,
         "type": "bar",
         "x": [
          "Honolulu, Hawaii",
          "Hawaii, Hawaii",
          "Los Angeles, California",
          "King, Washington",
          "Salt Lake, Utah",
          "Maui, Hawaii",
          "Sacramento, California",
          "Clark, Nevada",
          "San Diego, California",
          "Alameda, California"
         ],
         "xaxis": "x1",
         "y": [
          84639,
          21254,
          20076,
          16366,
          16184,
          15442,
          14658,
          14249,
          12892,
          12679
         ],
         "yaxis": "y1"
        },
        {
         "showlegend": false,
         "type": "bar",
         "x": [
          "Loup, Nebraska",
          "Jackson, West Virginia",
          "Haakon, South Dakota",
          "Wheeler, Nebraska",
          "Robertson, Kentucky",
          "Nicholas, West Virginia",
          "Arthur, Nebraska",
          "Blaine, Nebraska",
          "Cavalier, North Dakota",
          "Keya Paha, Nebraska"
         ],
         "xaxis": "x2",
         "y": [
          0,
          0,
          0,
          0,
          0,
          0,
          0,
          0,
          0,
          0
         ],
         "yaxis": "y2"
        },
        {
         "showlegend": false,
         "type": "bar",
         "x": [
          "Florida, Puerto Rico",
          "Lajas, Puerto Rico",
          "Orocovis, Puerto Rico",
          "Comerío, Puerto Rico",
          "Patillas, Puerto Rico",
          "Maunabo, Puerto Rico",
          "Barranquitas, Puerto Rico",
          "Maricao, Puerto Rico",
          "Loíza, Puerto Rico",
          "Villalba, Puerto Rico"
         ],
         "xaxis": "x2",
         "y": [
          24,
          24,
          22,
          20,
          18,
          11,
          0,
          0,
          0,
          0
         ],
         "yaxis": "y2"
        },
        {
         "showlegend": false,
         "type": "bar",
         "x": [
          "Gosper, Nebraska",
          "Faulk, South Dakota",
          "Gregory, South Dakota",
          "Hand, South Dakota",
          "Frontier, Nebraska",
          "Hyde, South Dakota",
          "Jerauld, South Dakota",
          "Deuel, Nebraska",
          "Lyman, South Dakota",
          "Blaine, Nebraska"
         ],
         "xaxis": "x2",
         "y": [
          0,
          0,
          0,
          0,
          0,
          0,
          0,
          0,
          0,
          0
         ],
         "yaxis": "y2"
        },
        {
         "showlegend": false,
         "type": "bar",
         "x": [
          "Cidra, Puerto Rico",
          "Ciales, Puerto Rico",
          "Ceiba, Puerto Rico",
          "Stonewall, Texas",
          "Bristol, Rhode Island",
          "Sutton, Texas",
          "Clay, Georgia",
          "Ohio, Indiana",
          "Pike, Indiana",
          "Washington, Georgia"
         ],
         "xaxis": "x2",
         "y": [
          0,
          0,
          0,
          0,
          0,
          0,
          0,
          0,
          0,
          0
         ],
         "yaxis": "y2"
        },
        {
         "showlegend": false,
         "type": "bar",
         "x": [
          "Añasco, Puerto Rico",
          "Glascock, Georgia",
          "Arroyo, Puerto Rico",
          "Arecibo, Puerto Rico",
          "Aibonito, Puerto Rico",
          "Aguas Buenas, Puerto Rico",
          "Adjuntas, Puerto Rico",
          "Heard, Georgia",
          "Jeff Davis, Georgia",
          "Nelson, North Dakota"
         ],
         "xaxis": "x2",
         "y": [
          0,
          0,
          0,
          0,
          0,
          0,
          0,
          0,
          0,
          0
         ],
         "yaxis": "y2"
        },
        {
         "showlegend": false,
         "type": "bar",
         "x": [
          "Divide, North Dakota",
          "Dickey, North Dakota",
          "Cavalier, North Dakota",
          "Cass, North Dakota",
          "Burleigh, North Dakota",
          "Burke, North Dakota",
          "Bowman, North Dakota",
          "Bottineau, North Dakota",
          "Billings, North Dakota",
          "Autauga, Alabama"
         ],
         "xaxis": "x2",
         "y": [
          0,
          0,
          0,
          0,
          0,
          0,
          0,
          0,
          0,
          0
         ],
         "yaxis": "y2"
        },
        {
         "showlegend": false,
         "type": "bar",
         "x": [
          "Loíza, Puerto Rico",
          "Maricao, Puerto Rico",
          "Maunabo, Puerto Rico",
          "Barranquitas, Puerto Rico",
          "Orocovis, Puerto Rico",
          "Canóvanas, Puerto Rico",
          "Lajas, Puerto Rico",
          "Comerío, Puerto Rico",
          "Coamo, Puerto Rico",
          "Jayuya, Puerto Rico"
         ],
         "xaxis": "x3",
         "y": [
          99.9,
          99.9,
          99.9,
          99.9,
          99.9,
          99.9,
          99.9,
          99.8,
          99.8,
          99.8
         ],
         "yaxis": "y3"
        },
        {
         "showlegend": false,
         "type": "bar",
         "x": [
          "Wheeler, Nebraska",
          "Jackson, Kentucky",
          "Highland, Virginia",
          "Magoffin, Kentucky",
          "Nicholas, West Virginia",
          "Pike, Indiana",
          "Robertson, Kentucky",
          "Hamilton, Illinois",
          "Arthur, Nebraska",
          "Ohio, Indiana"
         ],
         "xaxis": "x3",
         "y": [
          99.8,
          99.6,
          99.5,
          99.5,
          99.3,
          99.1,
          99.1,
          99.1,
          98.9,
          98.9
         ],
         "yaxis": "y3"
        },
        {
         "showlegend": false,
         "type": "bar",
         "x": [
          "Jefferson, Mississippi",
          "Claiborne, Mississippi",
          "Holmes, Mississippi",
          "Macon, Alabama",
          "Greene, Alabama",
          "Petersburg city, Virginia",
          "Coahoma, Mississippi",
          "Tunica, Mississippi",
          "Humphreys, Mississippi",
          "Lowndes, Alabama"
         ],
         "xaxis": "x3",
         "y": [
          85.9,
          84.2,
          82.6,
          80.9,
          80.6,
          76.7,
          75.8,
          75.5,
          75.1,
          74.1
         ],
         "yaxis": "y3"
        },
        {
         "showlegend": false,
         "type": "bar",
         "x": [
          "Oglala Lakota, South Dakota",
          "Kusilvak Census Area, Alaska",
          "Northwest Arctic Borough, Alaska",
          "Bethel Census Area, Alaska",
          "Menominee, Wisconsin",
          "Sioux, North Dakota",
          "Rolette, North Dakota",
          "Dewey, South Dakota",
          "Buffalo, South Dakota",
          "Todd, South Dakota"
         ],
         "xaxis": "x3",
         "y": [
          92.1,
          87.4,
          81.5,
          80.6,
          80,
          79.4,
          77.2,
          75.6,
          74.9,
          74.4
         ],
         "yaxis": "y3"
        },
        {
         "showlegend": false,
         "type": "bar",
         "x": [
          "Honolulu, Hawaii",
          "Aleutians West Census Area, Alaska",
          "Kauai, Hawaii",
          "Santa Clara, California",
          "San Francisco, California",
          "Aleutians East Borough, Alaska",
          "Alameda, California",
          "Maui, Hawaii",
          "San Mateo, California",
          "Queens, New York"
         ],
         "xaxis": "x3",
         "y": [
          41.6,
          36.8,
          33.6,
          33.5,
          33.5,
          30.5,
          27.5,
          26.7,
          26.2,
          24.2
         ],
         "yaxis": "y3"
        },
        {
         "showlegend": false,
         "type": "bar",
         "x": [
          "Kalawao, Hawaii",
          "Hawaii, Hawaii",
          "Maui, Hawaii",
          "Kauai, Hawaii",
          "Honolulu, Hawaii",
          "North Slope Borough, Alaska",
          "Aleutians West Census Area, Alaska",
          "Washington, Arkansas",
          "Garfield, Oklahoma",
          "Anchorage Municipality, Alaska"
         ],
         "xaxis": "x3",
         "y": [
          35.3,
          11.1,
          9.6,
          9.1,
          8.6,
          5.6,
          2.4,
          2.2,
          2.1,
          2.1
         ],
         "yaxis": "y3"
        },
        {
         "showlegend": false,
         "type": "bar",
         "x": [
          "Robertson, Kentucky",
          "Craig, Virginia",
          "Jackson, West Virginia",
          "Highland, Virginia",
          "Keya Paha, Nebraska",
          "Quitman, Georgia",
          "Nicholas, West Virginia",
          "Ohio, Indiana",
          "Haakon, South Dakota",
          "Cavalier, North Dakota"
         ],
         "xaxis": "x4",
         "y": [
          0,
          0,
          0,
          0,
          0,
          0,
          0,
          0,
          0,
          0
         ],
         "yaxis": "y4"
        },
        {
         "showlegend": false,
         "type": "bar",
         "x": [
          "Maunabo, Puerto Rico",
          "Naguabo, Puerto Rico",
          "Naranjito, Puerto Rico",
          "Orocovis, Puerto Rico",
          "Patillas, Puerto Rico",
          "Comerío, Puerto Rico",
          "Maricao, Puerto Rico",
          "Loíza, Puerto Rico",
          "Villalba, Puerto Rico",
          "Barranquitas, Puerto Rico"
         ],
         "xaxis": "x4",
         "y": [
          0.1,
          0.1,
          0.1,
          0.1,
          0.1,
          0.1,
          0,
          0,
          0,
          0
         ],
         "yaxis": "y4"
        },
        {
         "showlegend": false,
         "type": "bar",
         "x": [
          "Naguabo, Puerto Rico",
          "Morovis, Puerto Rico",
          "Comanche, Kansas",
          "Moca, Puerto Rico",
          "Grant, Nebraska",
          "Gosper, Nebraska",
          "Maunabo, Puerto Rico",
          "Frontier, Nebraska",
          "Grant, Kansas",
          "Richardson, Nebraska"
         ],
         "xaxis": "x4",
         "y": [
          0,
          0,
          0,
          0,
          0,
          0,
          0,
          0,
          0,
          0
         ],
         "yaxis": "y4"
        },
        {
         "showlegend": false,
         "type": "bar",
         "x": [
          "Winkler, Texas",
          "Peach, Georgia",
          "Knox, Missouri",
          "Willacy, Texas",
          "Montgomery, Missouri",
          "Murray, Georgia",
          "Morgan, Missouri",
          "Wharton, Texas",
          "Meriwether, Georgia",
          "Dickenson, Virginia"
         ],
         "xaxis": "x4",
         "y": [
          0,
          0,
          0,
          0,
          0,
          0,
          0,
          0,
          0,
          0
         ],
         "yaxis": "y4"
        },
        {
         "showlegend": false,
         "type": "bar",
         "x": [
          "Armstrong, Texas",
          "Wayne, Kentucky",
          "White, Tennessee",
          "Trimble, Kentucky",
          "Glascock, Georgia",
          "Todd, Kentucky",
          "Sequatchie, Tennessee",
          "Rockcastle, Kentucky",
          "Robertson, Kentucky",
          "Ralls, Missouri"
         ],
         "xaxis": "x4",
         "y": [
          0,
          0,
          0,
          0,
          0,
          0,
          0,
          0,
          0,
          0
         ],
         "yaxis": "y4"
        },
        {
         "showlegend": false,
         "type": "bar",
         "x": [
          "Divide, North Dakota",
          "Dickey, North Dakota",
          "Cavalier, North Dakota",
          "Cass, North Dakota",
          "Burleigh, North Dakota",
          "Burke, North Dakota",
          "Bowman, North Dakota",
          "Bottineau, North Dakota",
          "Billings, North Dakota",
          "Autauga, Alabama"
         ],
         "xaxis": "x4",
         "y": [
          0,
          0,
          0,
          0,
          0,
          0,
          0,
          0,
          0,
          0
         ],
         "yaxis": "y4"
        }
       ],
       "layout": {
        "annotations": [
         {
          "font": {
           "size": 16
          },
          "showarrow": false,
          "text": "Highest Population",
          "x": 0.225,
          "xanchor": "center",
          "xref": "paper",
          "y": 1,
          "yanchor": "bottom",
          "yref": "paper"
         },
         {
          "font": {
           "size": 16
          },
          "showarrow": false,
          "text": "Lowest Population",
          "x": 0.775,
          "xanchor": "center",
          "xref": "paper",
          "y": 1,
          "yanchor": "bottom",
          "yref": "paper"
         },
         {
          "font": {
           "size": 16
          },
          "showarrow": false,
          "text": "Highest Representation",
          "x": 0.225,
          "xanchor": "center",
          "xref": "paper",
          "y": 0.375,
          "yanchor": "bottom",
          "yref": "paper"
         },
         {
          "font": {
           "size": 16
          },
          "showarrow": false,
          "text": "Lowest Representation",
          "x": 0.775,
          "xanchor": "center",
          "xref": "paper",
          "y": 0.375,
          "yanchor": "bottom",
          "yref": "paper"
         }
        ],
        "height": 800,
        "showlegend": false,
        "title": "Racial Population in Counties",
        "updatemenus": [
         {
          "active": -1,
          "buttons": [
           {
            "args": [
             {
              "visible": [
               true,
               false,
               false,
               false,
               false,
               false
              ]
             },
             {
              "title": "Hispanic"
             }
            ],
            "label": "Hispanic",
            "method": "update"
           },
           {
            "args": [
             {
              "visible": [
               false,
               true,
               false,
               false,
               false,
               false
              ]
             },
             {
              "title": "White"
             }
            ],
            "label": "White",
            "method": "update"
           },
           {
            "args": [
             {
              "visible": [
               false,
               false,
               true,
               false,
               false,
               false
              ]
             },
             {
              "title": "Black"
             }
            ],
            "label": "Black",
            "method": "update"
           },
           {
            "args": [
             {
              "visible": [
               false,
               false,
               false,
               true,
               false,
               false
              ]
             },
             {
              "title": "Native"
             }
            ],
            "label": "Native",
            "method": "update"
           },
           {
            "args": [
             {
              "visible": [
               false,
               false,
               false,
               false,
               true,
               false
              ]
             },
             {
              "title": "Asian"
             }
            ],
            "label": "Asian",
            "method": "update"
           },
           {
            "args": [
             {
              "visible": [
               false,
               false,
               false,
               false,
               false,
               true
              ]
             },
             {
              "title": "Pacific"
             }
            ],
            "label": "Pacific",
            "method": "update"
           }
          ],
          "x": -0.15
         }
        ],
        "width": 1000,
        "xaxis1": {
         "anchor": "y1",
         "domain": [
          0,
          0.45
         ]
        },
        "xaxis2": {
         "anchor": "y2",
         "domain": [
          0.55,
          1
         ]
        },
        "xaxis3": {
         "anchor": "y3",
         "domain": [
          0,
          0.45
         ]
        },
        "xaxis4": {
         "anchor": "y4",
         "domain": [
          0.55,
          1
         ]
        },
        "yaxis1": {
         "anchor": "x1",
         "domain": [
          0.625,
          1
         ]
        },
        "yaxis2": {
         "anchor": "x2",
         "domain": [
          0.625,
          1
         ]
        },
        "yaxis3": {
         "anchor": "x3",
         "domain": [
          0,
          0.375
         ]
        },
        "yaxis4": {
         "anchor": "x4",
         "domain": [
          0,
          0.375
         ]
        }
       }
      },
      "text/html": [
       "<div id=\"1128dc71-fe20-4f9e-a4de-9cd42c72f9ad\" style=\"height: 800px; width: 1000px;\" class=\"plotly-graph-div\"></div><script type=\"text/javascript\">require([\"plotly\"], function(Plotly) { window.PLOTLYENV=window.PLOTLYENV || {};window.PLOTLYENV.BASE_URL=\"https://plot.ly\";Plotly.newPlot(\"1128dc71-fe20-4f9e-a4de-9cd42c72f9ad\", [{\"type\": \"bar\", \"x\": [\"Los Angeles, California\", \"Harris, Texas\", \"Miami-Dade, Florida\", \"Cook, Illinois\", \"Maricopa, Arizona\", \"Riverside, California\", \"Bexar, Texas\", \"San Bernardino, California\", \"Orange, California\", \"San Diego, California\"], \"y\": [4838503, 1812246, 1731211, 1293389, 1209461, 1080075, 1078871, 1070426, 1065695, 1060398], \"showlegend\": false, \"xaxis\": \"x1\", \"yaxis\": \"y1\"}, {\"type\": \"bar\", \"x\": [\"Los Angeles, California\", \"Maricopa, Arizona\", \"Cook, Illinois\", \"San Diego, California\", \"Harris, Texas\", \"Orange, California\", \"King, Washington\", \"Middlesex, Massachusetts\", \"Suffolk, New York\", \"Allegheny, Pennsylvania\"], \"y\": [2700326, 2302395, 2256885, 1514855, 1380966, 1321213, 1284734, 1162418, 1044955, 979991], \"showlegend\": false, \"xaxis\": \"x1\", \"yaxis\": \"y1\"}, {\"type\": \"bar\", \"x\": [\"Cook, Illinois\", \"Kings, New York\", \"Harris, Texas\", \"Los Angeles, California\", \"Wayne, Michigan\", \"Philadelphia, Pennsylvania\", \"Prince George's, Maryland\", \"Dallas, Texas\", \"Broward, Florida\", \"Shelby, Tennessee\"], \"y\": [1241025, 809720, 805926, 803071, 697355, 645354, 558902, 541730, 495807, 492318], \"showlegend\": false, \"xaxis\": \"x1\", \"yaxis\": \"y1\"}, {\"type\": \"bar\", \"x\": [\"Maricopa, Arizona\", \"McKinley, New Mexico\", \"Apache, Arizona\", \"Robeson, North Carolina\", \"Navajo, Arizona\", \"San Juan, New Mexico\", \"Coconino, Arizona\", \"Tulsa, Oklahoma\", \"Bernalillo, New Mexico\", \"Pima, Arizona\"], \"y\": [64290, 53500, 51712, 50711, 46399, 45423, 35542, 27426, 26283, 23964], \"showlegend\": false, \"xaxis\": \"x1\", \"yaxis\": \"y1\"}, {\"type\": \"bar\", \"x\": [\"Los Angeles, California\", \"Santa Clara, California\", \"Orange, California\", \"Queens, New York\", \"Alameda, California\", \"Honolulu, Hawaii\", \"San Diego, California\", \"Cook, Illinois\", \"King, Washington\", \"Kings, New York\"], \"y\": [1405374, 625829, 585820, 556875, 435870, 409418, 360986, 350838, 317092, 295859], \"showlegend\": false, \"xaxis\": \"x1\", \"yaxis\": \"y1\"}, {\"type\": \"bar\", \"x\": [\"Honolulu, Hawaii\", \"Hawaii, Hawaii\", \"Los Angeles, California\", \"King, Washington\", \"Salt Lake, Utah\", \"Maui, Hawaii\", \"Sacramento, California\", \"Clark, Nevada\", \"San Diego, California\", \"Alameda, California\"], \"y\": [84639, 21254, 20076, 16366, 16184, 15442, 14658, 14249, 12892, 12679], \"showlegend\": false, \"xaxis\": \"x1\", \"yaxis\": \"y1\"}, {\"type\": \"bar\", \"x\": [\"Loup, Nebraska\", \"Jackson, West Virginia\", \"Haakon, South Dakota\", \"Wheeler, Nebraska\", \"Robertson, Kentucky\", \"Nicholas, West Virginia\", \"Arthur, Nebraska\", \"Blaine, Nebraska\", \"Cavalier, North Dakota\", \"Keya Paha, Nebraska\"], \"y\": [0, 0, 0, 0, 0, 0, 0, 0, 0, 0], \"showlegend\": false, \"xaxis\": \"x2\", \"yaxis\": \"y2\"}, {\"type\": \"bar\", \"x\": [\"Florida, Puerto Rico\", \"Lajas, Puerto Rico\", \"Orocovis, Puerto Rico\", \"Comer\\u00edo, Puerto Rico\", \"Patillas, Puerto Rico\", \"Maunabo, Puerto Rico\", \"Barranquitas, Puerto Rico\", \"Maricao, Puerto Rico\", \"Lo\\u00edza, Puerto Rico\", \"Villalba, Puerto Rico\"], \"y\": [24, 24, 22, 20, 18, 11, 0, 0, 0, 0], \"showlegend\": false, \"xaxis\": \"x2\", \"yaxis\": \"y2\"}, {\"type\": \"bar\", \"x\": [\"Gosper, Nebraska\", \"Faulk, South Dakota\", \"Gregory, South Dakota\", \"Hand, South Dakota\", \"Frontier, Nebraska\", \"Hyde, South Dakota\", \"Jerauld, South Dakota\", \"Deuel, Nebraska\", \"Lyman, South Dakota\", \"Blaine, Nebraska\"], \"y\": [0, 0, 0, 0, 0, 0, 0, 0, 0, 0], \"showlegend\": false, \"xaxis\": \"x2\", \"yaxis\": \"y2\"}, {\"type\": \"bar\", \"x\": [\"Cidra, Puerto Rico\", \"Ciales, Puerto Rico\", \"Ceiba, Puerto Rico\", \"Stonewall, Texas\", \"Bristol, Rhode Island\", \"Sutton, Texas\", \"Clay, Georgia\", \"Ohio, Indiana\", \"Pike, Indiana\", \"Washington, Georgia\"], \"y\": [0, 0, 0, 0, 0, 0, 0, 0, 0, 0], \"showlegend\": false, \"xaxis\": \"x2\", \"yaxis\": \"y2\"}, {\"type\": \"bar\", \"x\": [\"A\\u00f1asco, Puerto Rico\", \"Glascock, Georgia\", \"Arroyo, Puerto Rico\", \"Arecibo, Puerto Rico\", \"Aibonito, Puerto Rico\", \"Aguas Buenas, Puerto Rico\", \"Adjuntas, Puerto Rico\", \"Heard, Georgia\", \"Jeff Davis, Georgia\", \"Nelson, North Dakota\"], \"y\": [0, 0, 0, 0, 0, 0, 0, 0, 0, 0], \"showlegend\": false, \"xaxis\": \"x2\", \"yaxis\": \"y2\"}, {\"type\": \"bar\", \"x\": [\"Divide, North Dakota\", \"Dickey, North Dakota\", \"Cavalier, North Dakota\", \"Cass, North Dakota\", \"Burleigh, North Dakota\", \"Burke, North Dakota\", \"Bowman, North Dakota\", \"Bottineau, North Dakota\", \"Billings, North Dakota\", \"Autauga, Alabama\"], \"y\": [0, 0, 0, 0, 0, 0, 0, 0, 0, 0], \"showlegend\": false, \"xaxis\": \"x2\", \"yaxis\": \"y2\"}, {\"type\": \"bar\", \"x\": [\"Lo\\u00edza, Puerto Rico\", \"Maricao, Puerto Rico\", \"Maunabo, Puerto Rico\", \"Barranquitas, Puerto Rico\", \"Orocovis, Puerto Rico\", \"Can\\u00f3vanas, Puerto Rico\", \"Lajas, Puerto Rico\", \"Comer\\u00edo, Puerto Rico\", \"Coamo, Puerto Rico\", \"Jayuya, Puerto Rico\"], \"y\": [99.9, 99.9, 99.9, 99.9, 99.9, 99.9, 99.9, 99.8, 99.8, 99.8], \"showlegend\": false, \"xaxis\": \"x3\", \"yaxis\": \"y3\"}, {\"type\": \"bar\", \"x\": [\"Wheeler, Nebraska\", \"Jackson, Kentucky\", \"Highland, Virginia\", \"Magoffin, Kentucky\", \"Nicholas, West Virginia\", \"Pike, Indiana\", \"Robertson, Kentucky\", \"Hamilton, Illinois\", \"Arthur, Nebraska\", \"Ohio, Indiana\"], \"y\": [99.8, 99.6, 99.5, 99.5, 99.3, 99.1, 99.1, 99.1, 98.9, 98.9], \"showlegend\": false, \"xaxis\": \"x3\", \"yaxis\": \"y3\"}, {\"type\": \"bar\", \"x\": [\"Jefferson, Mississippi\", \"Claiborne, Mississippi\", \"Holmes, Mississippi\", \"Macon, Alabama\", \"Greene, Alabama\", \"Petersburg city, Virginia\", \"Coahoma, Mississippi\", \"Tunica, Mississippi\", \"Humphreys, Mississippi\", \"Lowndes, Alabama\"], \"y\": [85.9, 84.2, 82.6, 80.9, 80.6, 76.7, 75.8, 75.5, 75.1, 74.1], \"showlegend\": false, \"xaxis\": \"x3\", \"yaxis\": \"y3\"}, {\"type\": \"bar\", \"x\": [\"Oglala Lakota, South Dakota\", \"Kusilvak Census Area, Alaska\", \"Northwest Arctic Borough, Alaska\", \"Bethel Census Area, Alaska\", \"Menominee, Wisconsin\", \"Sioux, North Dakota\", \"Rolette, North Dakota\", \"Dewey, South Dakota\", \"Buffalo, South Dakota\", \"Todd, South Dakota\"], \"y\": [92.1, 87.4, 81.5, 80.6, 80.0, 79.4, 77.2, 75.6, 74.9, 74.4], \"showlegend\": false, \"xaxis\": \"x3\", \"yaxis\": \"y3\"}, {\"type\": \"bar\", \"x\": [\"Honolulu, Hawaii\", \"Aleutians West Census Area, Alaska\", \"Kauai, Hawaii\", \"Santa Clara, California\", \"San Francisco, California\", \"Aleutians East Borough, Alaska\", \"Alameda, California\", \"Maui, Hawaii\", \"San Mateo, California\", \"Queens, New York\"], \"y\": [41.6, 36.8, 33.6, 33.5, 33.5, 30.5, 27.5, 26.7, 26.2, 24.2], \"showlegend\": false, \"xaxis\": \"x3\", \"yaxis\": \"y3\"}, {\"type\": \"bar\", \"x\": [\"Kalawao, Hawaii\", \"Hawaii, Hawaii\", \"Maui, Hawaii\", \"Kauai, Hawaii\", \"Honolulu, Hawaii\", \"North Slope Borough, Alaska\", \"Aleutians West Census Area, Alaska\", \"Washington, Arkansas\", \"Garfield, Oklahoma\", \"Anchorage Municipality, Alaska\"], \"y\": [35.3, 11.1, 9.6, 9.1, 8.6, 5.6, 2.4, 2.2, 2.1, 2.1], \"showlegend\": false, \"xaxis\": \"x3\", \"yaxis\": \"y3\"}, {\"type\": \"bar\", \"x\": [\"Robertson, Kentucky\", \"Craig, Virginia\", \"Jackson, West Virginia\", \"Highland, Virginia\", \"Keya Paha, Nebraska\", \"Quitman, Georgia\", \"Nicholas, West Virginia\", \"Ohio, Indiana\", \"Haakon, South Dakota\", \"Cavalier, North Dakota\"], \"y\": [0.0, 0.0, 0.0, 0.0, 0.0, 0.0, 0.0, 0.0, 0.0, 0.0], \"showlegend\": false, \"xaxis\": \"x4\", \"yaxis\": \"y4\"}, {\"type\": \"bar\", \"x\": [\"Maunabo, Puerto Rico\", \"Naguabo, Puerto Rico\", \"Naranjito, Puerto Rico\", \"Orocovis, Puerto Rico\", \"Patillas, Puerto Rico\", \"Comer\\u00edo, Puerto Rico\", \"Maricao, Puerto Rico\", \"Lo\\u00edza, Puerto Rico\", \"Villalba, Puerto Rico\", \"Barranquitas, Puerto Rico\"], \"y\": [0.1, 0.1, 0.1, 0.1, 0.1, 0.1, 0.0, 0.0, 0.0, 0.0], \"showlegend\": false, \"xaxis\": \"x4\", \"yaxis\": \"y4\"}, {\"type\": \"bar\", \"x\": [\"Naguabo, Puerto Rico\", \"Morovis, Puerto Rico\", \"Comanche, Kansas\", \"Moca, Puerto Rico\", \"Grant, Nebraska\", \"Gosper, Nebraska\", \"Maunabo, Puerto Rico\", \"Frontier, Nebraska\", \"Grant, Kansas\", \"Richardson, Nebraska\"], \"y\": [0.0, 0.0, 0.0, 0.0, 0.0, 0.0, 0.0, 0.0, 0.0, 0.0], \"showlegend\": false, \"xaxis\": \"x4\", \"yaxis\": \"y4\"}, {\"type\": \"bar\", \"x\": [\"Winkler, Texas\", \"Peach, Georgia\", \"Knox, Missouri\", \"Willacy, Texas\", \"Montgomery, Missouri\", \"Murray, Georgia\", \"Morgan, Missouri\", \"Wharton, Texas\", \"Meriwether, Georgia\", \"Dickenson, Virginia\"], \"y\": [0.0, 0.0, 0.0, 0.0, 0.0, 0.0, 0.0, 0.0, 0.0, 0.0], \"showlegend\": false, \"xaxis\": \"x4\", \"yaxis\": \"y4\"}, {\"type\": \"bar\", \"x\": [\"Armstrong, Texas\", \"Wayne, Kentucky\", \"White, Tennessee\", \"Trimble, Kentucky\", \"Glascock, Georgia\", \"Todd, Kentucky\", \"Sequatchie, Tennessee\", \"Rockcastle, Kentucky\", \"Robertson, Kentucky\", \"Ralls, Missouri\"], \"y\": [0.0, 0.0, 0.0, 0.0, 0.0, 0.0, 0.0, 0.0, 0.0, 0.0], \"showlegend\": false, \"xaxis\": \"x4\", \"yaxis\": \"y4\"}, {\"type\": \"bar\", \"x\": [\"Divide, North Dakota\", \"Dickey, North Dakota\", \"Cavalier, North Dakota\", \"Cass, North Dakota\", \"Burleigh, North Dakota\", \"Burke, North Dakota\", \"Bowman, North Dakota\", \"Bottineau, North Dakota\", \"Billings, North Dakota\", \"Autauga, Alabama\"], \"y\": [0.0, 0.0, 0.0, 0.0, 0.0, 0.0, 0.0, 0.0, 0.0, 0.0], \"showlegend\": false, \"xaxis\": \"x4\", \"yaxis\": \"y4\"}], {\"xaxis1\": {\"domain\": [0.0, 0.45], \"anchor\": \"y1\"}, \"yaxis1\": {\"domain\": [0.625, 1.0], \"anchor\": \"x1\"}, \"xaxis2\": {\"domain\": [0.55, 1.0], \"anchor\": \"y2\"}, \"yaxis2\": {\"domain\": [0.625, 1.0], \"anchor\": \"x2\"}, \"xaxis3\": {\"domain\": [0.0, 0.45], \"anchor\": \"y3\"}, \"yaxis3\": {\"domain\": [0.0, 0.375], \"anchor\": \"x3\"}, \"xaxis4\": {\"domain\": [0.55, 1.0], \"anchor\": \"y4\"}, \"yaxis4\": {\"domain\": [0.0, 0.375], \"anchor\": \"x4\"}, \"annotations\": [{\"y\": 1.0, \"xref\": \"paper\", \"x\": 0.225, \"yref\": \"paper\", \"text\": \"Highest Population\", \"showarrow\": false, \"font\": {\"size\": 16}, \"xanchor\": \"center\", \"yanchor\": \"bottom\"}, {\"y\": 1.0, \"xref\": \"paper\", \"x\": 0.775, \"yref\": \"paper\", \"text\": \"Lowest Population\", \"showarrow\": false, \"font\": {\"size\": 16}, \"xanchor\": \"center\", \"yanchor\": \"bottom\"}, {\"y\": 0.375, \"xref\": \"paper\", \"x\": 0.225, \"yref\": \"paper\", \"text\": \"Highest Representation\", \"showarrow\": false, \"font\": {\"size\": 16}, \"xanchor\": \"center\", \"yanchor\": \"bottom\"}, {\"y\": 0.375, \"xref\": \"paper\", \"x\": 0.775, \"yref\": \"paper\", \"text\": \"Lowest Representation\", \"showarrow\": false, \"font\": {\"size\": 16}, \"xanchor\": \"center\", \"yanchor\": \"bottom\"}], \"title\": \"Racial Population in Counties\", \"showlegend\": false, \"updatemenus\": [{\"active\": -1, \"x\": -0.15, \"buttons\": [{\"label\": \"Hispanic\", \"method\": \"update\", \"args\": [{\"visible\": [true, false, false, false, false, false]}, {\"title\": \"Hispanic\"}]}, {\"label\": \"White\", \"method\": \"update\", \"args\": [{\"visible\": [false, true, false, false, false, false]}, {\"title\": \"White\"}]}, {\"label\": \"Black\", \"method\": \"update\", \"args\": [{\"visible\": [false, false, true, false, false, false]}, {\"title\": \"Black\"}]}, {\"label\": \"Native\", \"method\": \"update\", \"args\": [{\"visible\": [false, false, false, true, false, false]}, {\"title\": \"Native\"}]}, {\"label\": \"Asian\", \"method\": \"update\", \"args\": [{\"visible\": [false, false, false, false, true, false]}, {\"title\": \"Asian\"}]}, {\"label\": \"Pacific\", \"method\": \"update\", \"args\": [{\"visible\": [false, false, false, false, false, true]}, {\"title\": \"Pacific\"}]}]}], \"height\": 800, \"width\": 1000}, {\"showLink\": true, \"linkText\": \"Export to plot.ly\"})});</script>"
      ],
      "text/vnd.plotly.v1+html": [
       "<div id=\"1128dc71-fe20-4f9e-a4de-9cd42c72f9ad\" style=\"height: 800px; width: 1000px;\" class=\"plotly-graph-div\"></div><script type=\"text/javascript\">require([\"plotly\"], function(Plotly) { window.PLOTLYENV=window.PLOTLYENV || {};window.PLOTLYENV.BASE_URL=\"https://plot.ly\";Plotly.newPlot(\"1128dc71-fe20-4f9e-a4de-9cd42c72f9ad\", [{\"type\": \"bar\", \"x\": [\"Los Angeles, California\", \"Harris, Texas\", \"Miami-Dade, Florida\", \"Cook, Illinois\", \"Maricopa, Arizona\", \"Riverside, California\", \"Bexar, Texas\", \"San Bernardino, California\", \"Orange, California\", \"San Diego, California\"], \"y\": [4838503, 1812246, 1731211, 1293389, 1209461, 1080075, 1078871, 1070426, 1065695, 1060398], \"showlegend\": false, \"xaxis\": \"x1\", \"yaxis\": \"y1\"}, {\"type\": \"bar\", \"x\": [\"Los Angeles, California\", \"Maricopa, Arizona\", \"Cook, Illinois\", \"San Diego, California\", \"Harris, Texas\", \"Orange, California\", \"King, Washington\", \"Middlesex, Massachusetts\", \"Suffolk, New York\", \"Allegheny, Pennsylvania\"], \"y\": [2700326, 2302395, 2256885, 1514855, 1380966, 1321213, 1284734, 1162418, 1044955, 979991], \"showlegend\": false, \"xaxis\": \"x1\", \"yaxis\": \"y1\"}, {\"type\": \"bar\", \"x\": [\"Cook, Illinois\", \"Kings, New York\", \"Harris, Texas\", \"Los Angeles, California\", \"Wayne, Michigan\", \"Philadelphia, Pennsylvania\", \"Prince George's, Maryland\", \"Dallas, Texas\", \"Broward, Florida\", \"Shelby, Tennessee\"], \"y\": [1241025, 809720, 805926, 803071, 697355, 645354, 558902, 541730, 495807, 492318], \"showlegend\": false, \"xaxis\": \"x1\", \"yaxis\": \"y1\"}, {\"type\": \"bar\", \"x\": [\"Maricopa, Arizona\", \"McKinley, New Mexico\", \"Apache, Arizona\", \"Robeson, North Carolina\", \"Navajo, Arizona\", \"San Juan, New Mexico\", \"Coconino, Arizona\", \"Tulsa, Oklahoma\", \"Bernalillo, New Mexico\", \"Pima, Arizona\"], \"y\": [64290, 53500, 51712, 50711, 46399, 45423, 35542, 27426, 26283, 23964], \"showlegend\": false, \"xaxis\": \"x1\", \"yaxis\": \"y1\"}, {\"type\": \"bar\", \"x\": [\"Los Angeles, California\", \"Santa Clara, California\", \"Orange, California\", \"Queens, New York\", \"Alameda, California\", \"Honolulu, Hawaii\", \"San Diego, California\", \"Cook, Illinois\", \"King, Washington\", \"Kings, New York\"], \"y\": [1405374, 625829, 585820, 556875, 435870, 409418, 360986, 350838, 317092, 295859], \"showlegend\": false, \"xaxis\": \"x1\", \"yaxis\": \"y1\"}, {\"type\": \"bar\", \"x\": [\"Honolulu, Hawaii\", \"Hawaii, Hawaii\", \"Los Angeles, California\", \"King, Washington\", \"Salt Lake, Utah\", \"Maui, Hawaii\", \"Sacramento, California\", \"Clark, Nevada\", \"San Diego, California\", \"Alameda, California\"], \"y\": [84639, 21254, 20076, 16366, 16184, 15442, 14658, 14249, 12892, 12679], \"showlegend\": false, \"xaxis\": \"x1\", \"yaxis\": \"y1\"}, {\"type\": \"bar\", \"x\": [\"Loup, Nebraska\", \"Jackson, West Virginia\", \"Haakon, South Dakota\", \"Wheeler, Nebraska\", \"Robertson, Kentucky\", \"Nicholas, West Virginia\", \"Arthur, Nebraska\", \"Blaine, Nebraska\", \"Cavalier, North Dakota\", \"Keya Paha, Nebraska\"], \"y\": [0, 0, 0, 0, 0, 0, 0, 0, 0, 0], \"showlegend\": false, \"xaxis\": \"x2\", \"yaxis\": \"y2\"}, {\"type\": \"bar\", \"x\": [\"Florida, Puerto Rico\", \"Lajas, Puerto Rico\", \"Orocovis, Puerto Rico\", \"Comer\\u00edo, Puerto Rico\", \"Patillas, Puerto Rico\", \"Maunabo, Puerto Rico\", \"Barranquitas, Puerto Rico\", \"Maricao, Puerto Rico\", \"Lo\\u00edza, Puerto Rico\", \"Villalba, Puerto Rico\"], \"y\": [24, 24, 22, 20, 18, 11, 0, 0, 0, 0], \"showlegend\": false, \"xaxis\": \"x2\", \"yaxis\": \"y2\"}, {\"type\": \"bar\", \"x\": [\"Gosper, Nebraska\", \"Faulk, South Dakota\", \"Gregory, South Dakota\", \"Hand, South Dakota\", \"Frontier, Nebraska\", \"Hyde, South Dakota\", \"Jerauld, South Dakota\", \"Deuel, Nebraska\", \"Lyman, South Dakota\", \"Blaine, Nebraska\"], \"y\": [0, 0, 0, 0, 0, 0, 0, 0, 0, 0], \"showlegend\": false, \"xaxis\": \"x2\", \"yaxis\": \"y2\"}, {\"type\": \"bar\", \"x\": [\"Cidra, Puerto Rico\", \"Ciales, Puerto Rico\", \"Ceiba, Puerto Rico\", \"Stonewall, Texas\", \"Bristol, Rhode Island\", \"Sutton, Texas\", \"Clay, Georgia\", \"Ohio, Indiana\", \"Pike, Indiana\", \"Washington, Georgia\"], \"y\": [0, 0, 0, 0, 0, 0, 0, 0, 0, 0], \"showlegend\": false, \"xaxis\": \"x2\", \"yaxis\": \"y2\"}, {\"type\": \"bar\", \"x\": [\"A\\u00f1asco, Puerto Rico\", \"Glascock, Georgia\", \"Arroyo, Puerto Rico\", \"Arecibo, Puerto Rico\", \"Aibonito, Puerto Rico\", \"Aguas Buenas, Puerto Rico\", \"Adjuntas, Puerto Rico\", \"Heard, Georgia\", \"Jeff Davis, Georgia\", \"Nelson, North Dakota\"], \"y\": [0, 0, 0, 0, 0, 0, 0, 0, 0, 0], \"showlegend\": false, \"xaxis\": \"x2\", \"yaxis\": \"y2\"}, {\"type\": \"bar\", \"x\": [\"Divide, North Dakota\", \"Dickey, North Dakota\", \"Cavalier, North Dakota\", \"Cass, North Dakota\", \"Burleigh, North Dakota\", \"Burke, North Dakota\", \"Bowman, North Dakota\", \"Bottineau, North Dakota\", \"Billings, North Dakota\", \"Autauga, Alabama\"], \"y\": [0, 0, 0, 0, 0, 0, 0, 0, 0, 0], \"showlegend\": false, \"xaxis\": \"x2\", \"yaxis\": \"y2\"}, {\"type\": \"bar\", \"x\": [\"Lo\\u00edza, Puerto Rico\", \"Maricao, Puerto Rico\", \"Maunabo, Puerto Rico\", \"Barranquitas, Puerto Rico\", \"Orocovis, Puerto Rico\", \"Can\\u00f3vanas, Puerto Rico\", \"Lajas, Puerto Rico\", \"Comer\\u00edo, Puerto Rico\", \"Coamo, Puerto Rico\", \"Jayuya, Puerto Rico\"], \"y\": [99.9, 99.9, 99.9, 99.9, 99.9, 99.9, 99.9, 99.8, 99.8, 99.8], \"showlegend\": false, \"xaxis\": \"x3\", \"yaxis\": \"y3\"}, {\"type\": \"bar\", \"x\": [\"Wheeler, Nebraska\", \"Jackson, Kentucky\", \"Highland, Virginia\", \"Magoffin, Kentucky\", \"Nicholas, West Virginia\", \"Pike, Indiana\", \"Robertson, Kentucky\", \"Hamilton, Illinois\", \"Arthur, Nebraska\", \"Ohio, Indiana\"], \"y\": [99.8, 99.6, 99.5, 99.5, 99.3, 99.1, 99.1, 99.1, 98.9, 98.9], \"showlegend\": false, \"xaxis\": \"x3\", \"yaxis\": \"y3\"}, {\"type\": \"bar\", \"x\": [\"Jefferson, Mississippi\", \"Claiborne, Mississippi\", \"Holmes, Mississippi\", \"Macon, Alabama\", \"Greene, Alabama\", \"Petersburg city, Virginia\", \"Coahoma, Mississippi\", \"Tunica, Mississippi\", \"Humphreys, Mississippi\", \"Lowndes, Alabama\"], \"y\": [85.9, 84.2, 82.6, 80.9, 80.6, 76.7, 75.8, 75.5, 75.1, 74.1], \"showlegend\": false, \"xaxis\": \"x3\", \"yaxis\": \"y3\"}, {\"type\": \"bar\", \"x\": [\"Oglala Lakota, South Dakota\", \"Kusilvak Census Area, Alaska\", \"Northwest Arctic Borough, Alaska\", \"Bethel Census Area, Alaska\", \"Menominee, Wisconsin\", \"Sioux, North Dakota\", \"Rolette, North Dakota\", \"Dewey, South Dakota\", \"Buffalo, South Dakota\", \"Todd, South Dakota\"], \"y\": [92.1, 87.4, 81.5, 80.6, 80.0, 79.4, 77.2, 75.6, 74.9, 74.4], \"showlegend\": false, \"xaxis\": \"x3\", \"yaxis\": \"y3\"}, {\"type\": \"bar\", \"x\": [\"Honolulu, Hawaii\", \"Aleutians West Census Area, Alaska\", \"Kauai, Hawaii\", \"Santa Clara, California\", \"San Francisco, California\", \"Aleutians East Borough, Alaska\", \"Alameda, California\", \"Maui, Hawaii\", \"San Mateo, California\", \"Queens, New York\"], \"y\": [41.6, 36.8, 33.6, 33.5, 33.5, 30.5, 27.5, 26.7, 26.2, 24.2], \"showlegend\": false, \"xaxis\": \"x3\", \"yaxis\": \"y3\"}, {\"type\": \"bar\", \"x\": [\"Kalawao, Hawaii\", \"Hawaii, Hawaii\", \"Maui, Hawaii\", \"Kauai, Hawaii\", \"Honolulu, Hawaii\", \"North Slope Borough, Alaska\", \"Aleutians West Census Area, Alaska\", \"Washington, Arkansas\", \"Garfield, Oklahoma\", \"Anchorage Municipality, Alaska\"], \"y\": [35.3, 11.1, 9.6, 9.1, 8.6, 5.6, 2.4, 2.2, 2.1, 2.1], \"showlegend\": false, \"xaxis\": \"x3\", \"yaxis\": \"y3\"}, {\"type\": \"bar\", \"x\": [\"Robertson, Kentucky\", \"Craig, Virginia\", \"Jackson, West Virginia\", \"Highland, Virginia\", \"Keya Paha, Nebraska\", \"Quitman, Georgia\", \"Nicholas, West Virginia\", \"Ohio, Indiana\", \"Haakon, South Dakota\", \"Cavalier, North Dakota\"], \"y\": [0.0, 0.0, 0.0, 0.0, 0.0, 0.0, 0.0, 0.0, 0.0, 0.0], \"showlegend\": false, \"xaxis\": \"x4\", \"yaxis\": \"y4\"}, {\"type\": \"bar\", \"x\": [\"Maunabo, Puerto Rico\", \"Naguabo, Puerto Rico\", \"Naranjito, Puerto Rico\", \"Orocovis, Puerto Rico\", \"Patillas, Puerto Rico\", \"Comer\\u00edo, Puerto Rico\", \"Maricao, Puerto Rico\", \"Lo\\u00edza, Puerto Rico\", \"Villalba, Puerto Rico\", \"Barranquitas, Puerto Rico\"], \"y\": [0.1, 0.1, 0.1, 0.1, 0.1, 0.1, 0.0, 0.0, 0.0, 0.0], \"showlegend\": false, \"xaxis\": \"x4\", \"yaxis\": \"y4\"}, {\"type\": \"bar\", \"x\": [\"Naguabo, Puerto Rico\", \"Morovis, Puerto Rico\", \"Comanche, Kansas\", \"Moca, Puerto Rico\", \"Grant, Nebraska\", \"Gosper, Nebraska\", \"Maunabo, Puerto Rico\", \"Frontier, Nebraska\", \"Grant, Kansas\", \"Richardson, Nebraska\"], \"y\": [0.0, 0.0, 0.0, 0.0, 0.0, 0.0, 0.0, 0.0, 0.0, 0.0], \"showlegend\": false, \"xaxis\": \"x4\", \"yaxis\": \"y4\"}, {\"type\": \"bar\", \"x\": [\"Winkler, Texas\", \"Peach, Georgia\", \"Knox, Missouri\", \"Willacy, Texas\", \"Montgomery, Missouri\", \"Murray, Georgia\", \"Morgan, Missouri\", \"Wharton, Texas\", \"Meriwether, Georgia\", \"Dickenson, Virginia\"], \"y\": [0.0, 0.0, 0.0, 0.0, 0.0, 0.0, 0.0, 0.0, 0.0, 0.0], \"showlegend\": false, \"xaxis\": \"x4\", \"yaxis\": \"y4\"}, {\"type\": \"bar\", \"x\": [\"Armstrong, Texas\", \"Wayne, Kentucky\", \"White, Tennessee\", \"Trimble, Kentucky\", \"Glascock, Georgia\", \"Todd, Kentucky\", \"Sequatchie, Tennessee\", \"Rockcastle, Kentucky\", \"Robertson, Kentucky\", \"Ralls, Missouri\"], \"y\": [0.0, 0.0, 0.0, 0.0, 0.0, 0.0, 0.0, 0.0, 0.0, 0.0], \"showlegend\": false, \"xaxis\": \"x4\", \"yaxis\": \"y4\"}, {\"type\": \"bar\", \"x\": [\"Divide, North Dakota\", \"Dickey, North Dakota\", \"Cavalier, North Dakota\", \"Cass, North Dakota\", \"Burleigh, North Dakota\", \"Burke, North Dakota\", \"Bowman, North Dakota\", \"Bottineau, North Dakota\", \"Billings, North Dakota\", \"Autauga, Alabama\"], \"y\": [0.0, 0.0, 0.0, 0.0, 0.0, 0.0, 0.0, 0.0, 0.0, 0.0], \"showlegend\": false, \"xaxis\": \"x4\", \"yaxis\": \"y4\"}], {\"xaxis1\": {\"domain\": [0.0, 0.45], \"anchor\": \"y1\"}, \"yaxis1\": {\"domain\": [0.625, 1.0], \"anchor\": \"x1\"}, \"xaxis2\": {\"domain\": [0.55, 1.0], \"anchor\": \"y2\"}, \"yaxis2\": {\"domain\": [0.625, 1.0], \"anchor\": \"x2\"}, \"xaxis3\": {\"domain\": [0.0, 0.45], \"anchor\": \"y3\"}, \"yaxis3\": {\"domain\": [0.0, 0.375], \"anchor\": \"x3\"}, \"xaxis4\": {\"domain\": [0.55, 1.0], \"anchor\": \"y4\"}, \"yaxis4\": {\"domain\": [0.0, 0.375], \"anchor\": \"x4\"}, \"annotations\": [{\"y\": 1.0, \"xref\": \"paper\", \"x\": 0.225, \"yref\": \"paper\", \"text\": \"Highest Population\", \"showarrow\": false, \"font\": {\"size\": 16}, \"xanchor\": \"center\", \"yanchor\": \"bottom\"}, {\"y\": 1.0, \"xref\": \"paper\", \"x\": 0.775, \"yref\": \"paper\", \"text\": \"Lowest Population\", \"showarrow\": false, \"font\": {\"size\": 16}, \"xanchor\": \"center\", \"yanchor\": \"bottom\"}, {\"y\": 0.375, \"xref\": \"paper\", \"x\": 0.225, \"yref\": \"paper\", \"text\": \"Highest Representation\", \"showarrow\": false, \"font\": {\"size\": 16}, \"xanchor\": \"center\", \"yanchor\": \"bottom\"}, {\"y\": 0.375, \"xref\": \"paper\", \"x\": 0.775, \"yref\": \"paper\", \"text\": \"Lowest Representation\", \"showarrow\": false, \"font\": {\"size\": 16}, \"xanchor\": \"center\", \"yanchor\": \"bottom\"}], \"title\": \"Racial Population in Counties\", \"showlegend\": false, \"updatemenus\": [{\"active\": -1, \"x\": -0.15, \"buttons\": [{\"label\": \"Hispanic\", \"method\": \"update\", \"args\": [{\"visible\": [true, false, false, false, false, false]}, {\"title\": \"Hispanic\"}]}, {\"label\": \"White\", \"method\": \"update\", \"args\": [{\"visible\": [false, true, false, false, false, false]}, {\"title\": \"White\"}]}, {\"label\": \"Black\", \"method\": \"update\", \"args\": [{\"visible\": [false, false, true, false, false, false]}, {\"title\": \"Black\"}]}, {\"label\": \"Native\", \"method\": \"update\", \"args\": [{\"visible\": [false, false, false, true, false, false]}, {\"title\": \"Native\"}]}, {\"label\": \"Asian\", \"method\": \"update\", \"args\": [{\"visible\": [false, false, false, false, true, false]}, {\"title\": \"Asian\"}]}, {\"label\": \"Pacific\", \"method\": \"update\", \"args\": [{\"visible\": [false, false, false, false, false, true]}, {\"title\": \"Pacific\"}]}]}], \"height\": 800, \"width\": 1000}, {\"showLink\": true, \"linkText\": \"Export to plot.ly\"})});</script>"
      ]
     },
     "metadata": {},
     "output_type": "display_data"
    }
   ],
   "source": [
    "races = ['Hispanic', 'White', 'Black', 'Native', 'Asian', 'Pacific']\n",
    "\n",
    "### Create individual figures\n",
    "fig = tools.make_subplots(rows=2, cols=2, subplot_titles=('Highest Population',     'Lowest Population',\n",
    "                                                          'Highest Representation', 'Lowest Representation'))\n",
    "\n",
    "###################################### Population ######################################\n",
    "\n",
    "datas = []\n",
    "for race in races:\n",
    "    data = county.groupby([\"State\", \"County\"])[race + \"_pop\"].sum().map(int).sort_values(ascending=False)\n",
    "    data = data.reset_index()\n",
    "    data[\"Place\"] = data[\"County\"] + \", \" + data[\"State\"]\n",
    "    data = data.rename(columns={race + \"_pop\": \"Values\"})\n",
    "    datas.append(data)\n",
    "    \n",
    "\n",
    "for data in datas:\n",
    "    trace = go.Bar(\n",
    "                    x=data.head(10).Place,\n",
    "                    y=data.head(10).Values, \n",
    "                    showlegend=False\n",
    "                )\n",
    "    fig.append_trace(trace, 1, 1)\n",
    "    \n",
    "for data in datas:\n",
    "    trace = go.Bar(\n",
    "                    x=data.tail(10).Place,\n",
    "                    y=data.tail(10).Values, \n",
    "                    showlegend=False\n",
    "                )\n",
    "    fig.append_trace(trace, 1, 2)\n",
    "    \n",
    "###################################### Representation ######################################\n",
    "\n",
    "datas = []\n",
    "for race in races:\n",
    "    data = county.groupby([\"State\", \"County\"])[race].median().sort_values(ascending=False)\n",
    "    data = data.reset_index()\n",
    "    data[\"Place\"] = data[\"County\"] + \", \" + data[\"State\"]\n",
    "    data = data.rename(columns={race: \"Values\"})\n",
    "    datas.append(data)\n",
    "\n",
    "for data in datas:\n",
    "    trace = go.Bar(\n",
    "                    x=data.head(10).Place,\n",
    "                    y=data.head(10).Values, \n",
    "                    showlegend=False\n",
    "                )\n",
    "    fig.append_trace(trace, 2, 1)\n",
    "    \n",
    "for data in datas:\n",
    "    trace = go.Bar(\n",
    "                    x=data.tail(10).Place,\n",
    "                    y=data.tail(10).Values, \n",
    "                    showlegend=False\n",
    "                )\n",
    "    fig.append_trace(trace, 2, 2)\n",
    "\n",
    "### Create buttons for drop down menu\n",
    "buttons = []\n",
    "for i, label in enumerate(races):\n",
    "    visibility = [i==j for j in range(len(races))]\n",
    "    button = dict(\n",
    "                 label =  label,\n",
    "                 method = 'update',\n",
    "                 args = [{'visible': visibility},\n",
    "                     {'title': label}])\n",
    "    buttons.append(button)\n",
    "\n",
    "### Create menu\n",
    "updatemenus = list([\n",
    "    dict(active=-1,\n",
    "         x=-0.15,\n",
    "         buttons=buttons\n",
    "    )\n",
    "])\n",
    "\n",
    "### Final figure edits\n",
    "fig['layout']['title'] = 'Racial Population in Counties'\n",
    "fig['layout']['showlegend'] = False\n",
    "fig['layout']['updatemenus'] = updatemenus\n",
    "fig['layout'].update(height=800, width=1000)\n",
    "\n",
    "iplot(fig, filename='dropdown')"
   ]
  },
  {
   "cell_type": "markdown",
   "metadata": {},
   "source": [
    "### Races - by state"
   ]
  },
  {
   "cell_type": "code",
   "execution_count": 41,
   "metadata": {},
   "outputs": [
    {
     "name": "stdout",
     "output_type": "stream",
     "text": [
      "This is the format of your plot grid:\n",
      "[ (1,1) x1,y1 ]  [ (1,2) x2,y2 ]\n",
      "[ (2,1) x3,y3 ]  [ (2,2) x4,y4 ]\n",
      "\n"
     ]
    },
    {
     "data": {
      "application/vnd.plotly.v1+json": {
       "data": [
        {
         "showlegend": false,
         "type": "bar",
         "x": [
          "California",
          "Texas",
          "Florida",
          "New York",
          "Puerto Rico",
          "Illinois",
          "Arizona",
          "New Jersey",
          "Colorado",
          "New Mexico",
          "Georgia",
          "North Carolina",
          "Washington"
         ],
         "xaxis": "x1",
         "y": [
          14746532.032999998,
          10194837.559999991,
          4662134.837,
          3617636.3590000006,
          3547284.0209999993,
          2120792.3290000004,
          2015062.8630000001,
          1688186.3800000004,
          1112575.628,
          986910.9329999998,
          914556.3089999998,
          869613.223,
          836260.3939999999
         ],
         "yaxis": "y1"
        },
        {
         "showlegend": false,
         "type": "bar",
         "x": [
          "California",
          "Texas",
          "New York",
          "Florida",
          "Pennsylvania",
          "Ohio",
          "Illinois",
          "Michigan",
          "North Carolina",
          "Georgia",
          "Indiana",
          "Virginia",
          "New Jersey"
         ],
         "xaxis": "x1",
         "y": [
          14878725.560999997,
          11636307.436999999,
          11169069.494000003,
          11013332.006000003,
          9979061.065999998,
          9291060.975000001,
          8043137.392000002,
          7512845.460000002,
          6324234.337000001,
          5460393.624999998,
          5288487.117,
          5237894.664999999,
          5093783.116
         ],
         "yaxis": "y1"
        },
        {
         "showlegend": false,
         "type": "bar",
         "x": [
          "Texas",
          "Georgia",
          "Florida",
          "New York",
          "California",
          "North Carolina",
          "Illinois",
          "Maryland",
          "Virginia",
          "Louisiana",
          "Ohio",
          "Michigan",
          "Pennsylvania"
         ],
         "xaxis": "x1",
         "y": [
          3073829.2819999964,
          3054274.573000001,
          3033825.6819999986,
          2831158.4860000005,
          2157961.356,
          2084965.8400000003,
          1821204.951,
          1723691.2629999998,
          1560970.1439999999,
          1474422.329,
          1393793.4810000001,
          1366280.845,
          1347726.5210000002
         ],
         "yaxis": "y1"
        },
        {
         "showlegend": false,
         "type": "bar",
         "x": [
          "Oklahoma",
          "Arizona",
          "New Mexico",
          "California",
          "North Carolina",
          "Alaska",
          "Washington",
          "South Dakota",
          "Texas",
          "Montana",
          "Minnesota",
          "Michigan",
          "Wisconsin"
         ],
         "xaxis": "x1",
         "y": [
          267167.13100000005,
          265843.505,
          177018.25699999998,
          144703.993,
          108461.346,
          98392.14400000001,
          81561.085,
          69921.57799999998,
          68304.34900000003,
          63461.21300000002,
          51775.378000000004,
          47759.216,
          46165.19900000001
         ],
         "yaxis": "y1"
        },
        {
         "showlegend": false,
         "type": "bar",
         "x": [
          "California",
          "New York",
          "Texas",
          "New Jersey",
          "Illinois",
          "Washington",
          "Hawaii",
          "Florida",
          "Virginia",
          "Massachusetts",
          "Pennsylvania",
          "Georgia",
          "Maryland"
         ],
         "xaxis": "x1",
         "y": [
          5192711.429,
          1558401.3520000004,
          1108442.6460000006,
          801003.107,
          640258.1550000004,
          530727.0090000001,
          516779.813,
          499744.14199999993,
          488908.37100000016,
          399790.825,
          389522.54000000004,
          358381.5689999997,
          354337.42299999995
         ],
         "yaxis": "y1"
        },
        {
         "showlegend": false,
         "type": "bar",
         "x": [
          "California",
          "Hawaii",
          "Washington",
          "Utah",
          "Texas",
          "Nevada",
          "Oregon",
          "Arizona",
          "Alaska",
          "Florida",
          "Arkansas",
          "Colorado",
          "Virginia"
         ],
         "xaxis": "x1",
         "y": [
          133270.866,
          127708.54399999998,
          42376.866,
          25687.61,
          19556.721999999998,
          17647.743,
          14370.323,
          11591.873,
          8648.932000000003,
          7714.932999999999,
          6634.705,
          6100.683,
          5579.529
         ],
         "yaxis": "y1"
        },
        {
         "showlegend": false,
         "type": "bar",
         "x": [
          "Pennsylvania",
          "Nevada",
          "Virginia",
          "Massachusetts",
          "Maryland",
          "Connecticut",
          "Oregon",
          "Michigan",
          "Indiana",
          "Ohio",
          "Utah",
          "Oklahoma",
          "Wisconsin"
         ],
         "xaxis": "x2",
         "y": [
          815240.6610000002,
          769964.118,
          709376.772,
          707176.664,
          533576.669,
          527256.773,
          486237.069,
          465625.295,
          421083.2379999998,
          390588.97199999983,
          389500.184,
          372094.68200000003,
          364493.9619999998
         ],
         "yaxis": "y2"
        },
        {
         "showlegend": false,
         "type": "bar",
         "x": [
          "Massachusetts",
          "Washington",
          "Tennessee",
          "Missouri",
          "Wisconsin",
          "Minnesota",
          "Kentucky",
          "Arizona",
          "Colorado",
          "Alabama",
          "Maryland",
          "South Carolina",
          "Oregon"
         ],
         "xaxis": "x2",
         "y": [
          4981396.972000001,
          4943261.9120000005,
          4856889.997,
          4850358.864000001,
          4730172.152999999,
          4427732.035000002,
          3761984.3389999997,
          3751935.669999999,
          3645899.058999999,
          3204688.466,
          3144715.0069999993,
          3051089.770000001,
          3042995.9429999995
         ],
         "yaxis": "y2"
        },
        {
         "showlegend": false,
         "type": "bar",
         "x": [
          "South Carolina",
          "Alabama",
          "New Jersey",
          "Mississippi",
          "Tennessee",
          "Missouri",
          "Indiana",
          "Arkansas",
          "Massachusetts",
          "Wisconsin",
          "Connecticut",
          "Kentucky",
          "District of Columbia"
         ],
         "xaxis": "x2",
         "y": [
          1304151.453,
          1270589.4200000002,
          1131770.7190000003,
          1112553.6539999999,
          1084329.7399999998,
          691727.8739999998,
          594117.391,
          456641.2460000001,
          434236.67000000004,
          354095.422,
          347027.48299999995,
          342227.9689999999,
          310792.32
         ],
         "yaxis": "y2"
        },
        {
         "showlegend": false,
         "type": "bar",
         "x": [
          "New York",
          "Florida",
          "North Dakota",
          "Oregon",
          "Colorado",
          "Utah",
          "Louisiana",
          "Nevada",
          "Missouri",
          "Alabama",
          "Kansas",
          "Georgia",
          "Idaho"
         ],
         "xaxis": "x2",
         "y": [
          44125.106000000014,
          41319.372,
          37623.189,
          36376.116,
          28890.705999999995,
          27077.234,
          24941.171000000002,
          24207.096999999998,
          22516.94400000001,
          22035.628,
          20475.650000000005,
          18752.270999999997,
          17468.393
         ],
         "yaxis": "y2"
        },
        {
         "showlegend": false,
         "type": "bar",
         "x": [
          "Michigan",
          "North Carolina",
          "Minnesota",
          "Ohio",
          "Nevada",
          "Arizona",
          "Oregon",
          "Colorado",
          "Connecticut",
          "Wisconsin",
          "Indiana",
          "Missouri",
          "Tennessee"
         ],
         "xaxis": "x2",
         "y": [
          268976.2309999999,
          242437.57100000005,
          239269.02799999996,
          215477.268,
          210728.368,
          193808.98000000004,
          154677.604,
          150856.98599999998,
          149296.496,
          143441.78800000003,
          120793.945,
          105870.09099999999,
          101734.199
         ],
         "yaxis": "y2"
        },
        {
         "showlegend": false,
         "type": "bar",
         "x": [
          "Missouri",
          "Oklahoma",
          "North Carolina",
          "South Carolina",
          "Georgia",
          "Tennessee",
          "Idaho",
          "Iowa",
          "Kentucky",
          "Indiana",
          "Maryland",
          "Louisiana",
          "Alabama"
         ],
         "xaxis": "x2",
         "y": [
          5084.781000000001,
          4927.117,
          4271.653,
          2563.355,
          2401.4,
          2386.338,
          1907.962,
          1737.9289999999996,
          1689.4659999999997,
          1237.4830000000002,
          1112.2740000000001,
          1096.755,
          1095.3180000000002
         ],
         "yaxis": "y2"
        },
        {
         "showlegend": false,
         "type": "bar",
         "x": [
          "Kansas",
          "Tennessee",
          "Minnesota",
          "South Carolina",
          "Missouri",
          "Louisiana",
          "Arkansas",
          "Alabama",
          "Idaho",
          "Nebraska",
          "Iowa",
          "Kentucky",
          "Rhode Island"
         ],
         "xaxis": "x3",
         "y": [
          323249.80299999996,
          320249.3840000001,
          270369.73,
          254494.55599999998,
          233451.34700000007,
          218823.67700000003,
          203252.52099999995,
          193191.55699999997,
          191383.94399999996,
          186139.84499999997,
          167975.46200000006,
          143915.87799999988,
          143599.537
         ],
         "yaxis": "y3"
        },
        {
         "showlegend": false,
         "type": "bar",
         "x": [
          "Louisiana",
          "Iowa",
          "Oklahoma",
          "Connecticut",
          "Utah",
          "Kansas",
          "Arkansas",
          "Mississippi",
          "West Virginia",
          "Nebraska",
          "Nevada",
          "Idaho",
          "Maine"
         ],
         "xaxis": "x3",
         "y": [
          2750817.9560000007,
          2703825.4270000006,
          2591157.2609999995,
          2487570.943,
          2307625.579,
          2228869.670999999,
          2177132.3449999997,
          1714455.023000001,
          1713394.4120000005,
          1509869.9310000003,
          1455066.152,
          1342450.6389999997,
          1247587.0269999998
         ],
         "yaxis": "y3"
        },
        {
         "showlegend": false,
         "type": "bar",
         "x": [
          "Minnesota",
          "Oklahoma",
          "Arizona",
          "Washington",
          "Nevada",
          "Colorado",
          "Delaware",
          "Kansas",
          "Iowa",
          "Nebraska",
          "Oregon",
          "West Virginia",
          "Rhode Island"
         ],
         "xaxis": "x3",
         "y": [
          294057.53700000007,
          273972.16699999996,
          263020.036,
          243277,
          225585.43799999997,
          202914.1729999999,
          195086.302,
          163778.268,
          95564.05300000003,
          85548.86900000004,
          69312.107,
          60441.404000000024,
          56451.659
         ],
         "yaxis": "y3"
        },
        {
         "showlegend": false,
         "type": "bar",
         "x": [
          "Ohio",
          "Virginia",
          "Arkansas",
          "Pennsylvania",
          "Illinois",
          "South Carolina",
          "Tennessee",
          "Nebraska",
          "Indiana",
          "Mississippi",
          "Maryland",
          "Wyoming",
          "Massachusetts"
         ],
         "xaxis": "x3",
         "y": [
          16995.359999999997,
          16693.058000000008,
          16567.564,
          15152.88,
          14633.300000000003,
          14055.953999999996,
          14039.538,
          12955.325,
          12073.614,
          12020.468000000003,
          11239.583000000002,
          11034.229000000001,
          8676.187000000002
         ],
         "yaxis": "y3"
        },
        {
         "showlegend": false,
         "type": "bar",
         "x": [
          "Louisiana",
          "Kansas",
          "Oklahoma",
          "South Carolina",
          "Utah",
          "Iowa",
          "Alabama",
          "Kentucky",
          "Alaska",
          "Arkansas",
          "Nebraska",
          "Rhode Island",
          "Delaware"
         ],
         "xaxis": "x3",
         "y": [
          77331.92299999998,
          74624.38500000001,
          72992.73,
          66476.99100000001,
          62888.865,
          62669.75799999998,
          59354.70199999999,
          54739.18499999999,
          42337.394000000015,
          39995.948,
          37638.167000000016,
          33644.729,
          33322.161
         ],
         "yaxis": "y3"
        },
        {
         "showlegend": false,
         "type": "bar",
         "x": [
          "Kansas",
          "New Mexico",
          "Ohio",
          "New York",
          "Nebraska",
          "Montana",
          "Rhode Island",
          "Michigan",
          "Minnesota",
          "Massachusetts",
          "Wisconsin",
          "Wyoming",
          "West Virginia"
         ],
         "xaxis": "x3",
         "y": [
          1043.7649999999999,
          1003.9919999999998,
          993.2170000000001,
          988.6679999999999,
          963.07,
          757.6629999999999,
          630.4590000000001,
          582.5060000000001,
          564.219,
          552.763,
          409.644,
          405.996,
          365.95500000000004
         ],
         "yaxis": "y3"
        },
        {
         "showlegend": false,
         "type": "bar",
         "x": [
          "Hawaii",
          "Mississippi",
          "Delaware",
          "District of Columbia",
          "Wyoming",
          "Alaska",
          "New Hampshire",
          "Montana",
          "South Dakota",
          "West Virginia",
          "North Dakota",
          "Maine",
          "Vermont"
         ],
         "xaxis": "x4",
         "y": [
          138599.93399999998,
          86617.26400000001,
          80657.025,
          66043.368,
          55774.1,
          47872.021000000015,
          42403.494000000006,
          33671.055,
          27931.408999999992,
          25340.31499999999,
          20532.274999999998,
          19478.815,
          10700.984000000002
         ],
         "yaxis": "y4"
        },
        {
         "showlegend": false,
         "type": "bar",
         "x": [
          "New Hampshire",
          "Montana",
          "New Mexico",
          "Rhode Island",
          "South Dakota",
          "North Dakota",
          "Delaware",
          "Vermont",
          "Wyoming",
          "Alaska",
          "Hawaii",
          "District of Columbia",
          "Puerto Rico"
         ],
         "xaxis": "x4",
         "y": [
          1210608.164,
          882635.004,
          817222.4760000001,
          785473.248,
          701669.4300000002,
          628142.3820000001,
          591725.6429999999,
          586536.1160000002,
          489682.88599999994,
          457452.8659999999,
          322411.099,
          230504.30400000003,
          24868.407000000003
         ],
         "yaxis": "y4"
        },
        {
         "showlegend": false,
         "type": "bar",
         "x": [
          "New Mexico",
          "Utah",
          "Hawaii",
          "Alaska",
          "New Hampshire",
          "Maine",
          "South Dakota",
          "North Dakota",
          "Idaho",
          "Vermont",
          "Wyoming",
          "Montana",
          "Puerto Rico"
         ],
         "xaxis": "x4",
         "y": [
          37654.547999999995,
          29349.638000000003,
          27136.666,
          23626.875999999993,
          15690.567000000001,
          14585.182000000003,
          12722.978999999998,
          11654.923,
          9334.908,
          6707.532,
          5938.772000000001,
          4575.914,
          2667.5590000000007
         ],
         "yaxis": "y4"
        },
        {
         "showlegend": false,
         "type": "bar",
         "x": [
          "Iowa",
          "New Jersey",
          "Maine",
          "Kentucky",
          "Connecticut",
          "Rhode Island",
          "Delaware",
          "West Virginia",
          "New Hampshire",
          "Vermont",
          "Hawaii",
          "District of Columbia",
          "Puerto Rico"
         ],
         "xaxis": "x4",
         "y": [
          8483.642,
          8449.364000000001,
          7515.032000000001,
          7217.141999999999,
          4143.359,
          3863.3600000000006,
          2738.246,
          2592.772,
          2150.284,
          1952.1200000000001,
          1858.8690000000001,
          1294.968,
          4.670999999999999
         ],
         "yaxis": "y4"
        },
        {
         "showlegend": false,
         "type": "bar",
         "x": [
          "New Hampshire",
          "Mississippi",
          "New Mexico",
          "District of Columbia",
          "Idaho",
          "Maine",
          "West Virginia",
          "South Dakota",
          "North Dakota",
          "Vermont",
          "Montana",
          "Wyoming",
          "Puerto Rico"
         ],
         "xaxis": "x4",
         "y": [
          31030.17,
          28655.448999999993,
          27081.664999999997,
          23309.424,
          20785.939000000006,
          14628.230000000001,
          13316.454000000003,
          10200.297,
          8745.159999999998,
          8656.794000000002,
          6819.773999999999,
          5178.042,
          2659.542
         ],
         "yaxis": "y4"
        },
        {
         "showlegend": false,
         "type": "bar",
         "x": [
          "Pennsylvania",
          "South Dakota",
          "Illinois",
          "North Dakota",
          "New Jersey",
          "Mississippi",
          "Vermont",
          "New Hampshire",
          "Maine",
          "Puerto Rico",
          "District of Columbia",
          "Delaware",
          "Connecticut"
         ],
         "xaxis": "x4",
         "y": [
          346.36299999999994,
          295.49199999999996,
          288.77,
          258.921,
          252.5,
          187.35500000000002,
          136.95100000000002,
          89.34100000000001,
          30.402,
          18.441000000000003,
          0,
          0,
          0
         ],
         "yaxis": "y4"
        }
       ],
       "layout": {
        "annotations": [
         {
          "font": {
           "size": 16
          },
          "showarrow": false,
          "text": "1st Quartile",
          "x": 0.225,
          "xanchor": "center",
          "xref": "paper",
          "y": 1,
          "yanchor": "bottom",
          "yref": "paper"
         },
         {
          "font": {
           "size": 16
          },
          "showarrow": false,
          "text": "2nd Quartile",
          "x": 0.775,
          "xanchor": "center",
          "xref": "paper",
          "y": 1,
          "yanchor": "bottom",
          "yref": "paper"
         },
         {
          "font": {
           "size": 16
          },
          "showarrow": false,
          "text": "3rd Quartile",
          "x": 0.225,
          "xanchor": "center",
          "xref": "paper",
          "y": 0.375,
          "yanchor": "bottom",
          "yref": "paper"
         },
         {
          "font": {
           "size": 16
          },
          "showarrow": false,
          "text": "4th Quartile",
          "x": 0.775,
          "xanchor": "center",
          "xref": "paper",
          "y": 0.375,
          "yanchor": "bottom",
          "yref": "paper"
         }
        ],
        "height": 700,
        "showlegend": false,
        "title": "Racial Population in all 52 States",
        "updatemenus": [
         {
          "active": -1,
          "buttons": [
           {
            "args": [
             {
              "visible": [
               true,
               false,
               false,
               false,
               false,
               false
              ]
             },
             {
              "title": "Hispanic"
             }
            ],
            "label": "Hispanic",
            "method": "update"
           },
           {
            "args": [
             {
              "visible": [
               false,
               true,
               false,
               false,
               false,
               false
              ]
             },
             {
              "title": "White"
             }
            ],
            "label": "White",
            "method": "update"
           },
           {
            "args": [
             {
              "visible": [
               false,
               false,
               true,
               false,
               false,
               false
              ]
             },
             {
              "title": "Black"
             }
            ],
            "label": "Black",
            "method": "update"
           },
           {
            "args": [
             {
              "visible": [
               false,
               false,
               false,
               true,
               false,
               false
              ]
             },
             {
              "title": "Native"
             }
            ],
            "label": "Native",
            "method": "update"
           },
           {
            "args": [
             {
              "visible": [
               false,
               false,
               false,
               false,
               true,
               false
              ]
             },
             {
              "title": "Asian"
             }
            ],
            "label": "Asian",
            "method": "update"
           },
           {
            "args": [
             {
              "visible": [
               false,
               false,
               false,
               false,
               false,
               true
              ]
             },
             {
              "title": "Pacific"
             }
            ],
            "label": "Pacific",
            "method": "update"
           }
          ],
          "x": -0.15
         }
        ],
        "width": 1000,
        "xaxis1": {
         "anchor": "y1",
         "domain": [
          0,
          0.45
         ]
        },
        "xaxis2": {
         "anchor": "y2",
         "domain": [
          0.55,
          1
         ]
        },
        "xaxis3": {
         "anchor": "y3",
         "domain": [
          0,
          0.45
         ]
        },
        "xaxis4": {
         "anchor": "y4",
         "domain": [
          0.55,
          1
         ]
        },
        "yaxis1": {
         "anchor": "x1",
         "domain": [
          0.625,
          1
         ]
        },
        "yaxis2": {
         "anchor": "x2",
         "domain": [
          0.625,
          1
         ]
        },
        "yaxis3": {
         "anchor": "x3",
         "domain": [
          0,
          0.375
         ]
        },
        "yaxis4": {
         "anchor": "x4",
         "domain": [
          0,
          0.375
         ]
        }
       }
      },
      "text/html": [
       "<div id=\"3fa57a26-972d-47ce-8b5f-80265be2e36d\" style=\"height: 700px; width: 1000px;\" class=\"plotly-graph-div\"></div><script type=\"text/javascript\">require([\"plotly\"], function(Plotly) { window.PLOTLYENV=window.PLOTLYENV || {};window.PLOTLYENV.BASE_URL=\"https://plot.ly\";Plotly.newPlot(\"3fa57a26-972d-47ce-8b5f-80265be2e36d\", [{\"type\": \"bar\", \"x\": [\"California\", \"Texas\", \"Florida\", \"New York\", \"Puerto Rico\", \"Illinois\", \"Arizona\", \"New Jersey\", \"Colorado\", \"New Mexico\", \"Georgia\", \"North Carolina\", \"Washington\"], \"y\": [14746532.032999998, 10194837.559999991, 4662134.837, 3617636.3590000006, 3547284.0209999993, 2120792.3290000004, 2015062.8630000001, 1688186.3800000004, 1112575.628, 986910.9329999998, 914556.3089999998, 869613.223, 836260.3939999999], \"showlegend\": false, \"xaxis\": \"x1\", \"yaxis\": \"y1\"}, {\"type\": \"bar\", \"x\": [\"California\", \"Texas\", \"New York\", \"Florida\", \"Pennsylvania\", \"Ohio\", \"Illinois\", \"Michigan\", \"North Carolina\", \"Georgia\", \"Indiana\", \"Virginia\", \"New Jersey\"], \"y\": [14878725.560999997, 11636307.436999999, 11169069.494000003, 11013332.006000003, 9979061.065999998, 9291060.975000001, 8043137.392000002, 7512845.460000002, 6324234.337000001, 5460393.624999998, 5288487.117, 5237894.664999999, 5093783.116], \"showlegend\": false, \"xaxis\": \"x1\", \"yaxis\": \"y1\"}, {\"type\": \"bar\", \"x\": [\"Texas\", \"Georgia\", \"Florida\", \"New York\", \"California\", \"North Carolina\", \"Illinois\", \"Maryland\", \"Virginia\", \"Louisiana\", \"Ohio\", \"Michigan\", \"Pennsylvania\"], \"y\": [3073829.2819999964, 3054274.573000001, 3033825.6819999986, 2831158.4860000005, 2157961.356, 2084965.8400000003, 1821204.951, 1723691.2629999998, 1560970.1439999999, 1474422.329, 1393793.4810000001, 1366280.845, 1347726.5210000002], \"showlegend\": false, \"xaxis\": \"x1\", \"yaxis\": \"y1\"}, {\"type\": \"bar\", \"x\": [\"Oklahoma\", \"Arizona\", \"New Mexico\", \"California\", \"North Carolina\", \"Alaska\", \"Washington\", \"South Dakota\", \"Texas\", \"Montana\", \"Minnesota\", \"Michigan\", \"Wisconsin\"], \"y\": [267167.13100000005, 265843.505, 177018.25699999998, 144703.993, 108461.346, 98392.14400000001, 81561.085, 69921.57799999998, 68304.34900000003, 63461.21300000002, 51775.378000000004, 47759.216, 46165.19900000001], \"showlegend\": false, \"xaxis\": \"x1\", \"yaxis\": \"y1\"}, {\"type\": \"bar\", \"x\": [\"California\", \"New York\", \"Texas\", \"New Jersey\", \"Illinois\", \"Washington\", \"Hawaii\", \"Florida\", \"Virginia\", \"Massachusetts\", \"Pennsylvania\", \"Georgia\", \"Maryland\"], \"y\": [5192711.429, 1558401.3520000004, 1108442.6460000006, 801003.107, 640258.1550000004, 530727.0090000001, 516779.813, 499744.14199999993, 488908.37100000016, 399790.825, 389522.54000000004, 358381.5689999997, 354337.42299999995], \"showlegend\": false, \"xaxis\": \"x1\", \"yaxis\": \"y1\"}, {\"type\": \"bar\", \"x\": [\"California\", \"Hawaii\", \"Washington\", \"Utah\", \"Texas\", \"Nevada\", \"Oregon\", \"Arizona\", \"Alaska\", \"Florida\", \"Arkansas\", \"Colorado\", \"Virginia\"], \"y\": [133270.866, 127708.54399999998, 42376.866, 25687.61, 19556.721999999998, 17647.743, 14370.323, 11591.873, 8648.932000000003, 7714.932999999999, 6634.705, 6100.683, 5579.529], \"showlegend\": false, \"xaxis\": \"x1\", \"yaxis\": \"y1\"}, {\"type\": \"bar\", \"x\": [\"Pennsylvania\", \"Nevada\", \"Virginia\", \"Massachusetts\", \"Maryland\", \"Connecticut\", \"Oregon\", \"Michigan\", \"Indiana\", \"Ohio\", \"Utah\", \"Oklahoma\", \"Wisconsin\"], \"y\": [815240.6610000002, 769964.118, 709376.772, 707176.664, 533576.669, 527256.773, 486237.069, 465625.295, 421083.2379999998, 390588.97199999983, 389500.184, 372094.68200000003, 364493.9619999998], \"showlegend\": false, \"xaxis\": \"x2\", \"yaxis\": \"y2\"}, {\"type\": \"bar\", \"x\": [\"Massachusetts\", \"Washington\", \"Tennessee\", \"Missouri\", \"Wisconsin\", \"Minnesota\", \"Kentucky\", \"Arizona\", \"Colorado\", \"Alabama\", \"Maryland\", \"South Carolina\", \"Oregon\"], \"y\": [4981396.972000001, 4943261.9120000005, 4856889.997, 4850358.864000001, 4730172.152999999, 4427732.035000002, 3761984.3389999997, 3751935.669999999, 3645899.058999999, 3204688.466, 3144715.0069999993, 3051089.770000001, 3042995.9429999995], \"showlegend\": false, \"xaxis\": \"x2\", \"yaxis\": \"y2\"}, {\"type\": \"bar\", \"x\": [\"South Carolina\", \"Alabama\", \"New Jersey\", \"Mississippi\", \"Tennessee\", \"Missouri\", \"Indiana\", \"Arkansas\", \"Massachusetts\", \"Wisconsin\", \"Connecticut\", \"Kentucky\", \"District of Columbia\"], \"y\": [1304151.453, 1270589.4200000002, 1131770.7190000003, 1112553.6539999999, 1084329.7399999998, 691727.8739999998, 594117.391, 456641.2460000001, 434236.67000000004, 354095.422, 347027.48299999995, 342227.9689999999, 310792.32], \"showlegend\": false, \"xaxis\": \"x2\", \"yaxis\": \"y2\"}, {\"type\": \"bar\", \"x\": [\"New York\", \"Florida\", \"North Dakota\", \"Oregon\", \"Colorado\", \"Utah\", \"Louisiana\", \"Nevada\", \"Missouri\", \"Alabama\", \"Kansas\", \"Georgia\", \"Idaho\"], \"y\": [44125.106000000014, 41319.372, 37623.189, 36376.116, 28890.705999999995, 27077.234, 24941.171000000002, 24207.096999999998, 22516.94400000001, 22035.628, 20475.650000000005, 18752.270999999997, 17468.393], \"showlegend\": false, \"xaxis\": \"x2\", \"yaxis\": \"y2\"}, {\"type\": \"bar\", \"x\": [\"Michigan\", \"North Carolina\", \"Minnesota\", \"Ohio\", \"Nevada\", \"Arizona\", \"Oregon\", \"Colorado\", \"Connecticut\", \"Wisconsin\", \"Indiana\", \"Missouri\", \"Tennessee\"], \"y\": [268976.2309999999, 242437.57100000005, 239269.02799999996, 215477.268, 210728.368, 193808.98000000004, 154677.604, 150856.98599999998, 149296.496, 143441.78800000003, 120793.945, 105870.09099999999, 101734.199], \"showlegend\": false, \"xaxis\": \"x2\", \"yaxis\": \"y2\"}, {\"type\": \"bar\", \"x\": [\"Missouri\", \"Oklahoma\", \"North Carolina\", \"South Carolina\", \"Georgia\", \"Tennessee\", \"Idaho\", \"Iowa\", \"Kentucky\", \"Indiana\", \"Maryland\", \"Louisiana\", \"Alabama\"], \"y\": [5084.781000000001, 4927.117, 4271.653, 2563.355, 2401.4, 2386.338, 1907.962, 1737.9289999999996, 1689.4659999999997, 1237.4830000000002, 1112.2740000000001, 1096.755, 1095.3180000000002], \"showlegend\": false, \"xaxis\": \"x2\", \"yaxis\": \"y2\"}, {\"type\": \"bar\", \"x\": [\"Kansas\", \"Tennessee\", \"Minnesota\", \"South Carolina\", \"Missouri\", \"Louisiana\", \"Arkansas\", \"Alabama\", \"Idaho\", \"Nebraska\", \"Iowa\", \"Kentucky\", \"Rhode Island\"], \"y\": [323249.80299999996, 320249.3840000001, 270369.73, 254494.55599999998, 233451.34700000007, 218823.67700000003, 203252.52099999995, 193191.55699999997, 191383.94399999996, 186139.84499999997, 167975.46200000006, 143915.87799999988, 143599.537], \"showlegend\": false, \"xaxis\": \"x3\", \"yaxis\": \"y3\"}, {\"type\": \"bar\", \"x\": [\"Louisiana\", \"Iowa\", \"Oklahoma\", \"Connecticut\", \"Utah\", \"Kansas\", \"Arkansas\", \"Mississippi\", \"West Virginia\", \"Nebraska\", \"Nevada\", \"Idaho\", \"Maine\"], \"y\": [2750817.9560000007, 2703825.4270000006, 2591157.2609999995, 2487570.943, 2307625.579, 2228869.670999999, 2177132.3449999997, 1714455.023000001, 1713394.4120000005, 1509869.9310000003, 1455066.152, 1342450.6389999997, 1247587.0269999998], \"showlegend\": false, \"xaxis\": \"x3\", \"yaxis\": \"y3\"}, {\"type\": \"bar\", \"x\": [\"Minnesota\", \"Oklahoma\", \"Arizona\", \"Washington\", \"Nevada\", \"Colorado\", \"Delaware\", \"Kansas\", \"Iowa\", \"Nebraska\", \"Oregon\", \"West Virginia\", \"Rhode Island\"], \"y\": [294057.53700000007, 273972.16699999996, 263020.036, 243277.0, 225585.43799999997, 202914.1729999999, 195086.302, 163778.268, 95564.05300000003, 85548.86900000004, 69312.107, 60441.404000000024, 56451.659], \"showlegend\": false, \"xaxis\": \"x3\", \"yaxis\": \"y3\"}, {\"type\": \"bar\", \"x\": [\"Ohio\", \"Virginia\", \"Arkansas\", \"Pennsylvania\", \"Illinois\", \"South Carolina\", \"Tennessee\", \"Nebraska\", \"Indiana\", \"Mississippi\", \"Maryland\", \"Wyoming\", \"Massachusetts\"], \"y\": [16995.359999999997, 16693.058000000008, 16567.564, 15152.88, 14633.300000000003, 14055.953999999996, 14039.538, 12955.325, 12073.614, 12020.468000000003, 11239.583000000002, 11034.229000000001, 8676.187000000002], \"showlegend\": false, \"xaxis\": \"x3\", \"yaxis\": \"y3\"}, {\"type\": \"bar\", \"x\": [\"Louisiana\", \"Kansas\", \"Oklahoma\", \"South Carolina\", \"Utah\", \"Iowa\", \"Alabama\", \"Kentucky\", \"Alaska\", \"Arkansas\", \"Nebraska\", \"Rhode Island\", \"Delaware\"], \"y\": [77331.92299999998, 74624.38500000001, 72992.73, 66476.99100000001, 62888.865, 62669.75799999998, 59354.70199999999, 54739.18499999999, 42337.394000000015, 39995.948, 37638.167000000016, 33644.729, 33322.161], \"showlegend\": false, \"xaxis\": \"x3\", \"yaxis\": \"y3\"}, {\"type\": \"bar\", \"x\": [\"Kansas\", \"New Mexico\", \"Ohio\", \"New York\", \"Nebraska\", \"Montana\", \"Rhode Island\", \"Michigan\", \"Minnesota\", \"Massachusetts\", \"Wisconsin\", \"Wyoming\", \"West Virginia\"], \"y\": [1043.7649999999999, 1003.9919999999998, 993.2170000000001, 988.6679999999999, 963.07, 757.6629999999999, 630.4590000000001, 582.5060000000001, 564.219, 552.763, 409.644, 405.996, 365.95500000000004], \"showlegend\": false, \"xaxis\": \"x3\", \"yaxis\": \"y3\"}, {\"type\": \"bar\", \"x\": [\"Hawaii\", \"Mississippi\", \"Delaware\", \"District of Columbia\", \"Wyoming\", \"Alaska\", \"New Hampshire\", \"Montana\", \"South Dakota\", \"West Virginia\", \"North Dakota\", \"Maine\", \"Vermont\"], \"y\": [138599.93399999998, 86617.26400000001, 80657.025, 66043.368, 55774.1, 47872.021000000015, 42403.494000000006, 33671.055, 27931.408999999992, 25340.31499999999, 20532.274999999998, 19478.815, 10700.984000000002], \"showlegend\": false, \"xaxis\": \"x4\", \"yaxis\": \"y4\"}, {\"type\": \"bar\", \"x\": [\"New Hampshire\", \"Montana\", \"New Mexico\", \"Rhode Island\", \"South Dakota\", \"North Dakota\", \"Delaware\", \"Vermont\", \"Wyoming\", \"Alaska\", \"Hawaii\", \"District of Columbia\", \"Puerto Rico\"], \"y\": [1210608.164, 882635.004, 817222.4760000001, 785473.248, 701669.4300000002, 628142.3820000001, 591725.6429999999, 586536.1160000002, 489682.88599999994, 457452.8659999999, 322411.099, 230504.30400000003, 24868.407000000003], \"showlegend\": false, \"xaxis\": \"x4\", \"yaxis\": \"y4\"}, {\"type\": \"bar\", \"x\": [\"New Mexico\", \"Utah\", \"Hawaii\", \"Alaska\", \"New Hampshire\", \"Maine\", \"South Dakota\", \"North Dakota\", \"Idaho\", \"Vermont\", \"Wyoming\", \"Montana\", \"Puerto Rico\"], \"y\": [37654.547999999995, 29349.638000000003, 27136.666, 23626.875999999993, 15690.567000000001, 14585.182000000003, 12722.978999999998, 11654.923, 9334.908, 6707.532, 5938.772000000001, 4575.914, 2667.5590000000007], \"showlegend\": false, \"xaxis\": \"x4\", \"yaxis\": \"y4\"}, {\"type\": \"bar\", \"x\": [\"Iowa\", \"New Jersey\", \"Maine\", \"Kentucky\", \"Connecticut\", \"Rhode Island\", \"Delaware\", \"West Virginia\", \"New Hampshire\", \"Vermont\", \"Hawaii\", \"District of Columbia\", \"Puerto Rico\"], \"y\": [8483.642, 8449.364000000001, 7515.032000000001, 7217.141999999999, 4143.359, 3863.3600000000006, 2738.246, 2592.772, 2150.284, 1952.1200000000001, 1858.8690000000001, 1294.968, 4.670999999999999], \"showlegend\": false, \"xaxis\": \"x4\", \"yaxis\": \"y4\"}, {\"type\": \"bar\", \"x\": [\"New Hampshire\", \"Mississippi\", \"New Mexico\", \"District of Columbia\", \"Idaho\", \"Maine\", \"West Virginia\", \"South Dakota\", \"North Dakota\", \"Vermont\", \"Montana\", \"Wyoming\", \"Puerto Rico\"], \"y\": [31030.17, 28655.448999999993, 27081.664999999997, 23309.424, 20785.939000000006, 14628.230000000001, 13316.454000000003, 10200.297, 8745.159999999998, 8656.794000000002, 6819.773999999999, 5178.042, 2659.542], \"showlegend\": false, \"xaxis\": \"x4\", \"yaxis\": \"y4\"}, {\"type\": \"bar\", \"x\": [\"Pennsylvania\", \"South Dakota\", \"Illinois\", \"North Dakota\", \"New Jersey\", \"Mississippi\", \"Vermont\", \"New Hampshire\", \"Maine\", \"Puerto Rico\", \"District of Columbia\", \"Delaware\", \"Connecticut\"], \"y\": [346.36299999999994, 295.49199999999996, 288.77, 258.921, 252.5, 187.35500000000002, 136.95100000000002, 89.34100000000001, 30.402, 18.441000000000003, 0.0, 0.0, 0.0], \"showlegend\": false, \"xaxis\": \"x4\", \"yaxis\": \"y4\"}], {\"xaxis1\": {\"domain\": [0.0, 0.45], \"anchor\": \"y1\"}, \"yaxis1\": {\"domain\": [0.625, 1.0], \"anchor\": \"x1\"}, \"xaxis2\": {\"domain\": [0.55, 1.0], \"anchor\": \"y2\"}, \"yaxis2\": {\"domain\": [0.625, 1.0], \"anchor\": \"x2\"}, \"xaxis3\": {\"domain\": [0.0, 0.45], \"anchor\": \"y3\"}, \"yaxis3\": {\"domain\": [0.0, 0.375], \"anchor\": \"x3\"}, \"xaxis4\": {\"domain\": [0.55, 1.0], \"anchor\": \"y4\"}, \"yaxis4\": {\"domain\": [0.0, 0.375], \"anchor\": \"x4\"}, \"annotations\": [{\"y\": 1.0, \"xref\": \"paper\", \"x\": 0.225, \"yref\": \"paper\", \"text\": \"1st Quartile\", \"showarrow\": false, \"font\": {\"size\": 16}, \"xanchor\": \"center\", \"yanchor\": \"bottom\"}, {\"y\": 1.0, \"xref\": \"paper\", \"x\": 0.775, \"yref\": \"paper\", \"text\": \"2nd Quartile\", \"showarrow\": false, \"font\": {\"size\": 16}, \"xanchor\": \"center\", \"yanchor\": \"bottom\"}, {\"y\": 0.375, \"xref\": \"paper\", \"x\": 0.225, \"yref\": \"paper\", \"text\": \"3rd Quartile\", \"showarrow\": false, \"font\": {\"size\": 16}, \"xanchor\": \"center\", \"yanchor\": \"bottom\"}, {\"y\": 0.375, \"xref\": \"paper\", \"x\": 0.775, \"yref\": \"paper\", \"text\": \"4th Quartile\", \"showarrow\": false, \"font\": {\"size\": 16}, \"xanchor\": \"center\", \"yanchor\": \"bottom\"}], \"title\": \"Racial Population in all 52 States\", \"showlegend\": false, \"updatemenus\": [{\"active\": -1, \"x\": -0.15, \"buttons\": [{\"label\": \"Hispanic\", \"method\": \"update\", \"args\": [{\"visible\": [true, false, false, false, false, false]}, {\"title\": \"Hispanic\"}]}, {\"label\": \"White\", \"method\": \"update\", \"args\": [{\"visible\": [false, true, false, false, false, false]}, {\"title\": \"White\"}]}, {\"label\": \"Black\", \"method\": \"update\", \"args\": [{\"visible\": [false, false, true, false, false, false]}, {\"title\": \"Black\"}]}, {\"label\": \"Native\", \"method\": \"update\", \"args\": [{\"visible\": [false, false, false, true, false, false]}, {\"title\": \"Native\"}]}, {\"label\": \"Asian\", \"method\": \"update\", \"args\": [{\"visible\": [false, false, false, false, true, false]}, {\"title\": \"Asian\"}]}, {\"label\": \"Pacific\", \"method\": \"update\", \"args\": [{\"visible\": [false, false, false, false, false, true]}, {\"title\": \"Pacific\"}]}]}], \"height\": 700, \"width\": 1000}, {\"showLink\": true, \"linkText\": \"Export to plot.ly\"})});</script>"
      ],
      "text/vnd.plotly.v1+html": [
       "<div id=\"3fa57a26-972d-47ce-8b5f-80265be2e36d\" style=\"height: 700px; width: 1000px;\" class=\"plotly-graph-div\"></div><script type=\"text/javascript\">require([\"plotly\"], function(Plotly) { window.PLOTLYENV=window.PLOTLYENV || {};window.PLOTLYENV.BASE_URL=\"https://plot.ly\";Plotly.newPlot(\"3fa57a26-972d-47ce-8b5f-80265be2e36d\", [{\"type\": \"bar\", \"x\": [\"California\", \"Texas\", \"Florida\", \"New York\", \"Puerto Rico\", \"Illinois\", \"Arizona\", \"New Jersey\", \"Colorado\", \"New Mexico\", \"Georgia\", \"North Carolina\", \"Washington\"], \"y\": [14746532.032999998, 10194837.559999991, 4662134.837, 3617636.3590000006, 3547284.0209999993, 2120792.3290000004, 2015062.8630000001, 1688186.3800000004, 1112575.628, 986910.9329999998, 914556.3089999998, 869613.223, 836260.3939999999], \"showlegend\": false, \"xaxis\": \"x1\", \"yaxis\": \"y1\"}, {\"type\": \"bar\", \"x\": [\"California\", \"Texas\", \"New York\", \"Florida\", \"Pennsylvania\", \"Ohio\", \"Illinois\", \"Michigan\", \"North Carolina\", \"Georgia\", \"Indiana\", \"Virginia\", \"New Jersey\"], \"y\": [14878725.560999997, 11636307.436999999, 11169069.494000003, 11013332.006000003, 9979061.065999998, 9291060.975000001, 8043137.392000002, 7512845.460000002, 6324234.337000001, 5460393.624999998, 5288487.117, 5237894.664999999, 5093783.116], \"showlegend\": false, \"xaxis\": \"x1\", \"yaxis\": \"y1\"}, {\"type\": \"bar\", \"x\": [\"Texas\", \"Georgia\", \"Florida\", \"New York\", \"California\", \"North Carolina\", \"Illinois\", \"Maryland\", \"Virginia\", \"Louisiana\", \"Ohio\", \"Michigan\", \"Pennsylvania\"], \"y\": [3073829.2819999964, 3054274.573000001, 3033825.6819999986, 2831158.4860000005, 2157961.356, 2084965.8400000003, 1821204.951, 1723691.2629999998, 1560970.1439999999, 1474422.329, 1393793.4810000001, 1366280.845, 1347726.5210000002], \"showlegend\": false, \"xaxis\": \"x1\", \"yaxis\": \"y1\"}, {\"type\": \"bar\", \"x\": [\"Oklahoma\", \"Arizona\", \"New Mexico\", \"California\", \"North Carolina\", \"Alaska\", \"Washington\", \"South Dakota\", \"Texas\", \"Montana\", \"Minnesota\", \"Michigan\", \"Wisconsin\"], \"y\": [267167.13100000005, 265843.505, 177018.25699999998, 144703.993, 108461.346, 98392.14400000001, 81561.085, 69921.57799999998, 68304.34900000003, 63461.21300000002, 51775.378000000004, 47759.216, 46165.19900000001], \"showlegend\": false, \"xaxis\": \"x1\", \"yaxis\": \"y1\"}, {\"type\": \"bar\", \"x\": [\"California\", \"New York\", \"Texas\", \"New Jersey\", \"Illinois\", \"Washington\", \"Hawaii\", \"Florida\", \"Virginia\", \"Massachusetts\", \"Pennsylvania\", \"Georgia\", \"Maryland\"], \"y\": [5192711.429, 1558401.3520000004, 1108442.6460000006, 801003.107, 640258.1550000004, 530727.0090000001, 516779.813, 499744.14199999993, 488908.37100000016, 399790.825, 389522.54000000004, 358381.5689999997, 354337.42299999995], \"showlegend\": false, \"xaxis\": \"x1\", \"yaxis\": \"y1\"}, {\"type\": \"bar\", \"x\": [\"California\", \"Hawaii\", \"Washington\", \"Utah\", \"Texas\", \"Nevada\", \"Oregon\", \"Arizona\", \"Alaska\", \"Florida\", \"Arkansas\", \"Colorado\", \"Virginia\"], \"y\": [133270.866, 127708.54399999998, 42376.866, 25687.61, 19556.721999999998, 17647.743, 14370.323, 11591.873, 8648.932000000003, 7714.932999999999, 6634.705, 6100.683, 5579.529], \"showlegend\": false, \"xaxis\": \"x1\", \"yaxis\": \"y1\"}, {\"type\": \"bar\", \"x\": [\"Pennsylvania\", \"Nevada\", \"Virginia\", \"Massachusetts\", \"Maryland\", \"Connecticut\", \"Oregon\", \"Michigan\", \"Indiana\", \"Ohio\", \"Utah\", \"Oklahoma\", \"Wisconsin\"], \"y\": [815240.6610000002, 769964.118, 709376.772, 707176.664, 533576.669, 527256.773, 486237.069, 465625.295, 421083.2379999998, 390588.97199999983, 389500.184, 372094.68200000003, 364493.9619999998], \"showlegend\": false, \"xaxis\": \"x2\", \"yaxis\": \"y2\"}, {\"type\": \"bar\", \"x\": [\"Massachusetts\", \"Washington\", \"Tennessee\", \"Missouri\", \"Wisconsin\", \"Minnesota\", \"Kentucky\", \"Arizona\", \"Colorado\", \"Alabama\", \"Maryland\", \"South Carolina\", \"Oregon\"], \"y\": [4981396.972000001, 4943261.9120000005, 4856889.997, 4850358.864000001, 4730172.152999999, 4427732.035000002, 3761984.3389999997, 3751935.669999999, 3645899.058999999, 3204688.466, 3144715.0069999993, 3051089.770000001, 3042995.9429999995], \"showlegend\": false, \"xaxis\": \"x2\", \"yaxis\": \"y2\"}, {\"type\": \"bar\", \"x\": [\"South Carolina\", \"Alabama\", \"New Jersey\", \"Mississippi\", \"Tennessee\", \"Missouri\", \"Indiana\", \"Arkansas\", \"Massachusetts\", \"Wisconsin\", \"Connecticut\", \"Kentucky\", \"District of Columbia\"], \"y\": [1304151.453, 1270589.4200000002, 1131770.7190000003, 1112553.6539999999, 1084329.7399999998, 691727.8739999998, 594117.391, 456641.2460000001, 434236.67000000004, 354095.422, 347027.48299999995, 342227.9689999999, 310792.32], \"showlegend\": false, \"xaxis\": \"x2\", \"yaxis\": \"y2\"}, {\"type\": \"bar\", \"x\": [\"New York\", \"Florida\", \"North Dakota\", \"Oregon\", \"Colorado\", \"Utah\", \"Louisiana\", \"Nevada\", \"Missouri\", \"Alabama\", \"Kansas\", \"Georgia\", \"Idaho\"], \"y\": [44125.106000000014, 41319.372, 37623.189, 36376.116, 28890.705999999995, 27077.234, 24941.171000000002, 24207.096999999998, 22516.94400000001, 22035.628, 20475.650000000005, 18752.270999999997, 17468.393], \"showlegend\": false, \"xaxis\": \"x2\", \"yaxis\": \"y2\"}, {\"type\": \"bar\", \"x\": [\"Michigan\", \"North Carolina\", \"Minnesota\", \"Ohio\", \"Nevada\", \"Arizona\", \"Oregon\", \"Colorado\", \"Connecticut\", \"Wisconsin\", \"Indiana\", \"Missouri\", \"Tennessee\"], \"y\": [268976.2309999999, 242437.57100000005, 239269.02799999996, 215477.268, 210728.368, 193808.98000000004, 154677.604, 150856.98599999998, 149296.496, 143441.78800000003, 120793.945, 105870.09099999999, 101734.199], \"showlegend\": false, \"xaxis\": \"x2\", \"yaxis\": \"y2\"}, {\"type\": \"bar\", \"x\": [\"Missouri\", \"Oklahoma\", \"North Carolina\", \"South Carolina\", \"Georgia\", \"Tennessee\", \"Idaho\", \"Iowa\", \"Kentucky\", \"Indiana\", \"Maryland\", \"Louisiana\", \"Alabama\"], \"y\": [5084.781000000001, 4927.117, 4271.653, 2563.355, 2401.4, 2386.338, 1907.962, 1737.9289999999996, 1689.4659999999997, 1237.4830000000002, 1112.2740000000001, 1096.755, 1095.3180000000002], \"showlegend\": false, \"xaxis\": \"x2\", \"yaxis\": \"y2\"}, {\"type\": \"bar\", \"x\": [\"Kansas\", \"Tennessee\", \"Minnesota\", \"South Carolina\", \"Missouri\", \"Louisiana\", \"Arkansas\", \"Alabama\", \"Idaho\", \"Nebraska\", \"Iowa\", \"Kentucky\", \"Rhode Island\"], \"y\": [323249.80299999996, 320249.3840000001, 270369.73, 254494.55599999998, 233451.34700000007, 218823.67700000003, 203252.52099999995, 193191.55699999997, 191383.94399999996, 186139.84499999997, 167975.46200000006, 143915.87799999988, 143599.537], \"showlegend\": false, \"xaxis\": \"x3\", \"yaxis\": \"y3\"}, {\"type\": \"bar\", \"x\": [\"Louisiana\", \"Iowa\", \"Oklahoma\", \"Connecticut\", \"Utah\", \"Kansas\", \"Arkansas\", \"Mississippi\", \"West Virginia\", \"Nebraska\", \"Nevada\", \"Idaho\", \"Maine\"], \"y\": [2750817.9560000007, 2703825.4270000006, 2591157.2609999995, 2487570.943, 2307625.579, 2228869.670999999, 2177132.3449999997, 1714455.023000001, 1713394.4120000005, 1509869.9310000003, 1455066.152, 1342450.6389999997, 1247587.0269999998], \"showlegend\": false, \"xaxis\": \"x3\", \"yaxis\": \"y3\"}, {\"type\": \"bar\", \"x\": [\"Minnesota\", \"Oklahoma\", \"Arizona\", \"Washington\", \"Nevada\", \"Colorado\", \"Delaware\", \"Kansas\", \"Iowa\", \"Nebraska\", \"Oregon\", \"West Virginia\", \"Rhode Island\"], \"y\": [294057.53700000007, 273972.16699999996, 263020.036, 243277.0, 225585.43799999997, 202914.1729999999, 195086.302, 163778.268, 95564.05300000003, 85548.86900000004, 69312.107, 60441.404000000024, 56451.659], \"showlegend\": false, \"xaxis\": \"x3\", \"yaxis\": \"y3\"}, {\"type\": \"bar\", \"x\": [\"Ohio\", \"Virginia\", \"Arkansas\", \"Pennsylvania\", \"Illinois\", \"South Carolina\", \"Tennessee\", \"Nebraska\", \"Indiana\", \"Mississippi\", \"Maryland\", \"Wyoming\", \"Massachusetts\"], \"y\": [16995.359999999997, 16693.058000000008, 16567.564, 15152.88, 14633.300000000003, 14055.953999999996, 14039.538, 12955.325, 12073.614, 12020.468000000003, 11239.583000000002, 11034.229000000001, 8676.187000000002], \"showlegend\": false, \"xaxis\": \"x3\", \"yaxis\": \"y3\"}, {\"type\": \"bar\", \"x\": [\"Louisiana\", \"Kansas\", \"Oklahoma\", \"South Carolina\", \"Utah\", \"Iowa\", \"Alabama\", \"Kentucky\", \"Alaska\", \"Arkansas\", \"Nebraska\", \"Rhode Island\", \"Delaware\"], \"y\": [77331.92299999998, 74624.38500000001, 72992.73, 66476.99100000001, 62888.865, 62669.75799999998, 59354.70199999999, 54739.18499999999, 42337.394000000015, 39995.948, 37638.167000000016, 33644.729, 33322.161], \"showlegend\": false, \"xaxis\": \"x3\", \"yaxis\": \"y3\"}, {\"type\": \"bar\", \"x\": [\"Kansas\", \"New Mexico\", \"Ohio\", \"New York\", \"Nebraska\", \"Montana\", \"Rhode Island\", \"Michigan\", \"Minnesota\", \"Massachusetts\", \"Wisconsin\", \"Wyoming\", \"West Virginia\"], \"y\": [1043.7649999999999, 1003.9919999999998, 993.2170000000001, 988.6679999999999, 963.07, 757.6629999999999, 630.4590000000001, 582.5060000000001, 564.219, 552.763, 409.644, 405.996, 365.95500000000004], \"showlegend\": false, \"xaxis\": \"x3\", \"yaxis\": \"y3\"}, {\"type\": \"bar\", \"x\": [\"Hawaii\", \"Mississippi\", \"Delaware\", \"District of Columbia\", \"Wyoming\", \"Alaska\", \"New Hampshire\", \"Montana\", \"South Dakota\", \"West Virginia\", \"North Dakota\", \"Maine\", \"Vermont\"], \"y\": [138599.93399999998, 86617.26400000001, 80657.025, 66043.368, 55774.1, 47872.021000000015, 42403.494000000006, 33671.055, 27931.408999999992, 25340.31499999999, 20532.274999999998, 19478.815, 10700.984000000002], \"showlegend\": false, \"xaxis\": \"x4\", \"yaxis\": \"y4\"}, {\"type\": \"bar\", \"x\": [\"New Hampshire\", \"Montana\", \"New Mexico\", \"Rhode Island\", \"South Dakota\", \"North Dakota\", \"Delaware\", \"Vermont\", \"Wyoming\", \"Alaska\", \"Hawaii\", \"District of Columbia\", \"Puerto Rico\"], \"y\": [1210608.164, 882635.004, 817222.4760000001, 785473.248, 701669.4300000002, 628142.3820000001, 591725.6429999999, 586536.1160000002, 489682.88599999994, 457452.8659999999, 322411.099, 230504.30400000003, 24868.407000000003], \"showlegend\": false, \"xaxis\": \"x4\", \"yaxis\": \"y4\"}, {\"type\": \"bar\", \"x\": [\"New Mexico\", \"Utah\", \"Hawaii\", \"Alaska\", \"New Hampshire\", \"Maine\", \"South Dakota\", \"North Dakota\", \"Idaho\", \"Vermont\", \"Wyoming\", \"Montana\", \"Puerto Rico\"], \"y\": [37654.547999999995, 29349.638000000003, 27136.666, 23626.875999999993, 15690.567000000001, 14585.182000000003, 12722.978999999998, 11654.923, 9334.908, 6707.532, 5938.772000000001, 4575.914, 2667.5590000000007], \"showlegend\": false, \"xaxis\": \"x4\", \"yaxis\": \"y4\"}, {\"type\": \"bar\", \"x\": [\"Iowa\", \"New Jersey\", \"Maine\", \"Kentucky\", \"Connecticut\", \"Rhode Island\", \"Delaware\", \"West Virginia\", \"New Hampshire\", \"Vermont\", \"Hawaii\", \"District of Columbia\", \"Puerto Rico\"], \"y\": [8483.642, 8449.364000000001, 7515.032000000001, 7217.141999999999, 4143.359, 3863.3600000000006, 2738.246, 2592.772, 2150.284, 1952.1200000000001, 1858.8690000000001, 1294.968, 4.670999999999999], \"showlegend\": false, \"xaxis\": \"x4\", \"yaxis\": \"y4\"}, {\"type\": \"bar\", \"x\": [\"New Hampshire\", \"Mississippi\", \"New Mexico\", \"District of Columbia\", \"Idaho\", \"Maine\", \"West Virginia\", \"South Dakota\", \"North Dakota\", \"Vermont\", \"Montana\", \"Wyoming\", \"Puerto Rico\"], \"y\": [31030.17, 28655.448999999993, 27081.664999999997, 23309.424, 20785.939000000006, 14628.230000000001, 13316.454000000003, 10200.297, 8745.159999999998, 8656.794000000002, 6819.773999999999, 5178.042, 2659.542], \"showlegend\": false, \"xaxis\": \"x4\", \"yaxis\": \"y4\"}, {\"type\": \"bar\", \"x\": [\"Pennsylvania\", \"South Dakota\", \"Illinois\", \"North Dakota\", \"New Jersey\", \"Mississippi\", \"Vermont\", \"New Hampshire\", \"Maine\", \"Puerto Rico\", \"District of Columbia\", \"Delaware\", \"Connecticut\"], \"y\": [346.36299999999994, 295.49199999999996, 288.77, 258.921, 252.5, 187.35500000000002, 136.95100000000002, 89.34100000000001, 30.402, 18.441000000000003, 0.0, 0.0, 0.0], \"showlegend\": false, \"xaxis\": \"x4\", \"yaxis\": \"y4\"}], {\"xaxis1\": {\"domain\": [0.0, 0.45], \"anchor\": \"y1\"}, \"yaxis1\": {\"domain\": [0.625, 1.0], \"anchor\": \"x1\"}, \"xaxis2\": {\"domain\": [0.55, 1.0], \"anchor\": \"y2\"}, \"yaxis2\": {\"domain\": [0.625, 1.0], \"anchor\": \"x2\"}, \"xaxis3\": {\"domain\": [0.0, 0.45], \"anchor\": \"y3\"}, \"yaxis3\": {\"domain\": [0.0, 0.375], \"anchor\": \"x3\"}, \"xaxis4\": {\"domain\": [0.55, 1.0], \"anchor\": \"y4\"}, \"yaxis4\": {\"domain\": [0.0, 0.375], \"anchor\": \"x4\"}, \"annotations\": [{\"y\": 1.0, \"xref\": \"paper\", \"x\": 0.225, \"yref\": \"paper\", \"text\": \"1st Quartile\", \"showarrow\": false, \"font\": {\"size\": 16}, \"xanchor\": \"center\", \"yanchor\": \"bottom\"}, {\"y\": 1.0, \"xref\": \"paper\", \"x\": 0.775, \"yref\": \"paper\", \"text\": \"2nd Quartile\", \"showarrow\": false, \"font\": {\"size\": 16}, \"xanchor\": \"center\", \"yanchor\": \"bottom\"}, {\"y\": 0.375, \"xref\": \"paper\", \"x\": 0.225, \"yref\": \"paper\", \"text\": \"3rd Quartile\", \"showarrow\": false, \"font\": {\"size\": 16}, \"xanchor\": \"center\", \"yanchor\": \"bottom\"}, {\"y\": 0.375, \"xref\": \"paper\", \"x\": 0.775, \"yref\": \"paper\", \"text\": \"4th Quartile\", \"showarrow\": false, \"font\": {\"size\": 16}, \"xanchor\": \"center\", \"yanchor\": \"bottom\"}], \"title\": \"Racial Population in all 52 States\", \"showlegend\": false, \"updatemenus\": [{\"active\": -1, \"x\": -0.15, \"buttons\": [{\"label\": \"Hispanic\", \"method\": \"update\", \"args\": [{\"visible\": [true, false, false, false, false, false]}, {\"title\": \"Hispanic\"}]}, {\"label\": \"White\", \"method\": \"update\", \"args\": [{\"visible\": [false, true, false, false, false, false]}, {\"title\": \"White\"}]}, {\"label\": \"Black\", \"method\": \"update\", \"args\": [{\"visible\": [false, false, true, false, false, false]}, {\"title\": \"Black\"}]}, {\"label\": \"Native\", \"method\": \"update\", \"args\": [{\"visible\": [false, false, false, true, false, false]}, {\"title\": \"Native\"}]}, {\"label\": \"Asian\", \"method\": \"update\", \"args\": [{\"visible\": [false, false, false, false, true, false]}, {\"title\": \"Asian\"}]}, {\"label\": \"Pacific\", \"method\": \"update\", \"args\": [{\"visible\": [false, false, false, false, false, true]}, {\"title\": \"Pacific\"}]}]}], \"height\": 700, \"width\": 1000}, {\"showLink\": true, \"linkText\": \"Export to plot.ly\"})});</script>"
      ]
     },
     "metadata": {},
     "output_type": "display_data"
    }
   ],
   "source": [
    "races = ['Hispanic', 'White', 'Black', 'Native', 'Asian', 'Pacific']\n",
    "\n",
    "datas = []\n",
    "for race in races:\n",
    "    data = county.groupby(\"State\")[race + \"_pop\"].sum().sort_values(ascending=False)\n",
    "    datas.append(data)\n",
    "\n",
    "### Create individual figures\n",
    "fig = tools.make_subplots(rows=2, cols=2, subplot_titles=('1st Quartile', '2nd Quartile',\n",
    "                                                          '3rd Quartile', '4th Quartile'))\n",
    "\n",
    "for i in range(4):\n",
    "    for data in datas:\n",
    "        start_i = 13 * i\n",
    "        end_i   = start_i + 13\n",
    "        \n",
    "        trace = go.Bar(\n",
    "                        x=data.iloc[start_i: end_i].index,\n",
    "                        y=data.iloc[start_i: end_i].values, \n",
    "                        showlegend=False\n",
    "                    )\n",
    "        \n",
    "        row_num = 1 + (i // 2)\n",
    "        col_num = 1 + (i % 2)\n",
    "        fig.append_trace(trace, row_num, col_num)\n",
    "\n",
    "### Create buttons for drop down menu\n",
    "buttons = []\n",
    "for i, label in enumerate(races):\n",
    "    visibility = [i==j for j in range(len(races))]\n",
    "    button = dict(\n",
    "                 label =  label,\n",
    "                 method = 'update',\n",
    "                 args = [{'visible': visibility},\n",
    "                     {'title': label}])\n",
    "    buttons.append(button)\n",
    "\n",
    "updatemenus = list([\n",
    "    dict(active=-1,\n",
    "         x=-0.15,\n",
    "         buttons=buttons\n",
    "    )\n",
    "])\n",
    "\n",
    "fig['layout']['title'] = 'Racial Population in all 52 States'\n",
    "fig['layout']['showlegend'] = False\n",
    "fig['layout']['updatemenus'] = updatemenus\n",
    "fig['layout'].update(height=800, width=1000)\n",
    "\n",
    "iplot(fig, filename='dropdown')"
   ]
  },
  {
   "cell_type": "markdown",
   "metadata": {},
   "source": [
    "#### Delete unneeded variables"
   ]
  },
  {
   "cell_type": "code",
   "execution_count": null,
   "metadata": {
    "collapsed": true
   },
   "outputs": [],
   "source": [
    "del races, race, race_pops, race_reps\n",
    "races = ['Hispanic', 'White', 'Black', 'Native', 'Asian', 'Pacific']\n",
    "county = county.drop([race + \"_pop\" for race in races], axis=1)"
   ]
  },
  {
   "cell_type": "markdown",
   "metadata": {},
   "source": [
    "### Career and Sector Plotly"
   ]
  },
  {
   "cell_type": "code",
   "execution_count": 34,
   "metadata": {},
   "outputs": [
    {
     "name": "stdout",
     "output_type": "stream",
     "text": [
      "This is the format of your plot grid:\n",
      "[ (1,1) x1,y1 ]  [ (1,2) x2,y2 ]\n",
      "\n"
     ]
    },
    {
     "data": {
      "application/vnd.plotly.v1+json": {
       "data": [
        {
         "showlegend": false,
         "type": "bar",
         "x": [
          "Falls Church city, Virginia",
          "Los Alamos, New Mexico",
          "Arlington, Virginia",
          "District of Columbia, District of Columbia",
          "Howard, Maryland",
          "New York, New York",
          "Alexandria city, Virginia",
          "Loudoun, Virginia",
          "Montgomery, Maryland",
          "Fairfax, Virginia"
         ],
         "xaxis": "x1",
         "y": [
          74,
          68.3,
          68,
          60.9,
          60,
          59.2,
          58.1,
          56.4,
          56.2,
          56.1
         ],
         "yaxis": "y1"
        },
        {
         "showlegend": false,
         "type": "bar",
         "x": [
          "Vieques, Puerto Rico",
          "Tunica, Mississippi",
          "Kinney, Texas",
          "Kenedy, Texas",
          "Bronx, New York",
          "Culebra, Puerto Rico",
          "Brooks, Texas",
          "Fremont, Colorado",
          "Culberson, Texas",
          "Mahnomen, Minnesota"
         ],
         "xaxis": "x1",
         "y": [
          38.2,
          36.6,
          36.5,
          34.1,
          33.3,
          32.7,
          32.4,
          32.2,
          32.2,
          31.5
         ],
         "yaxis": "y1"
        },
        {
         "showlegend": false,
         "type": "bar",
         "x": [
          "Foard, Texas",
          "Naranjito, Puerto Rico",
          "Toa Baja, Puerto Rico",
          "Hormigueros, Puerto Rico",
          "Bayamón, Puerto Rico",
          "Glades, Florida",
          "Loving, Texas",
          "Dimmit, Texas",
          "Toa Alta, Puerto Rico",
          "Lanier, Georgia"
         ],
         "xaxis": "x1",
         "y": [
          35.4,
          35.2,
          34.9,
          34.5,
          33.6,
          32.5,
          32.3,
          31.9,
          31.8,
          31.8
         ],
         "yaxis": "y1"
        },
        {
         "showlegend": false,
         "type": "bar",
         "x": [
          "Lander, Nevada",
          "King, Texas",
          "Hendry, Florida",
          "Treasure, Montana",
          "Cochran, Texas",
          "Greenlee, Arizona",
          "Yoakum, Texas",
          "Adams, Washington",
          "Esmeralda, Nevada",
          "DeSoto, Florida"
         ],
         "xaxis": "x1",
         "y": [
          40.3,
          39.2,
          33.7,
          33.5,
          33.2,
          31.4,
          31.1,
          31.1,
          30.9,
          30.6
         ],
         "yaxis": "y1"
        },
        {
         "showlegend": false,
         "type": "bar",
         "x": [
          "Aleutians East Borough, Alaska",
          "Aleutians West Census Area, Alaska",
          "LaGrange, Indiana",
          "Chickasaw, Mississippi",
          "Clinton, Indiana",
          "Blackford, Indiana",
          "Colfax, Nebraska",
          "Elk, Pennsylvania",
          "Whitfield, Georgia",
          "Roseau, Minnesota"
         ],
         "xaxis": "x1",
         "y": [
          55.6,
          40.9,
          40.9,
          35.9,
          34.9,
          34.5,
          34.5,
          34,
          33.5,
          33.1
         ],
         "yaxis": "y1"
        },
        {
         "showlegend": false,
         "type": "bar",
         "x": [
          "Switzerland, Indiana",
          "Allendale, South Carolina",
          "Aleutians West Census Area, Alaska",
          "Zapata, Texas",
          "Buena Vista city, Virginia",
          "Taliaferro, Georgia",
          "DeSoto, Florida",
          "Quitman, Georgia",
          "Aleutians East Borough, Alaska",
          "Tyrrell, North Carolina"
         ],
         "xaxis": "x2",
         "y": [
          17.4,
          17.2,
          16.9,
          16.7,
          16.2,
          16,
          15.7,
          14.5,
          13.6,
          13.5
         ],
         "yaxis": "y2"
        },
        {
         "showlegend": false,
         "type": "bar",
         "x": [
          "Dundy, Nebraska",
          "Lipscomb, Texas",
          "Ellis, Oklahoma",
          "Cavalier, North Dakota",
          "Sheridan, Kansas",
          "Petroleum, Montana",
          "Sully, South Dakota",
          "Slope, North Dakota",
          "McCone, Montana",
          "Glasscock, Texas"
         ],
         "xaxis": "x2",
         "y": [
          9.1,
          8.9,
          8.9,
          8.4,
          8.4,
          8.3,
          8.2,
          7.5,
          6.2,
          5
         ],
         "yaxis": "y2"
        },
        {
         "showlegend": false,
         "type": "bar",
         "x": [
          "Kinney, Texas",
          "Gooding, Idaho",
          "Robertson, Kentucky",
          "Wichita, Kansas",
          "Wibaux, Montana",
          "Carter, Montana",
          "Blaine, Nebraska",
          "Aleutians East Borough, Alaska",
          "Esmeralda, Nevada",
          "Arthur, Nebraska"
         ],
         "xaxis": "x2",
         "y": [
          11.6,
          11.4,
          11.3,
          11,
          10.9,
          9.6,
          8,
          7.2,
          7.1,
          4.1
         ],
         "yaxis": "y2"
        },
        {
         "showlegend": false,
         "type": "bar",
         "x": [
          "Williamson, Tennessee",
          "San Francisco, California",
          "Radford city, Virginia",
          "Tunica, Mississippi",
          "Arlington, Virginia",
          "District of Columbia, District of Columbia",
          "Falls Church city, Virginia",
          "Los Alamos, New Mexico",
          "New York, New York",
          "Lexington city, Virginia"
         ],
         "xaxis": "x2",
         "y": [
          3.8,
          3.7,
          3.5,
          3.5,
          3.5,
          2.9,
          2.4,
          2.4,
          2.1,
          1.7
         ],
         "yaxis": "y2"
        },
        {
         "showlegend": false,
         "type": "bar",
         "x": [
          "Hinsdale, Colorado",
          "Lexington city, Virginia",
          "Catron, New Mexico",
          "Arlington, Virginia",
          "Keya Paha, Nebraska",
          "King, Texas",
          "Lincoln, Nevada",
          "Falls Church city, Virginia",
          "Kinney, Texas",
          "Kenedy, Texas"
         ],
         "xaxis": "x2",
         "y": [
          3.1,
          2.8,
          2.7,
          2.7,
          2.5,
          2.4,
          2.4,
          1.5,
          1.3,
          0
         ],
         "yaxis": "y2"
        }
       ],
       "layout": {
        "annotations": [
         {
          "font": {
           "size": 16
          },
          "showarrow": false,
          "text": "Highest",
          "x": 0.225,
          "xanchor": "center",
          "xref": "paper",
          "y": 1,
          "yanchor": "bottom",
          "yref": "paper"
         },
         {
          "font": {
           "size": 16
          },
          "showarrow": false,
          "text": "Lowest",
          "x": 0.775,
          "xanchor": "center",
          "xref": "paper",
          "y": 1,
          "yanchor": "bottom",
          "yref": "paper"
         }
        ],
        "showlegend": false,
        "title": "Career",
        "updatemenus": [
         {
          "active": -1,
          "buttons": [
           {
            "args": [
             {
              "visible": [
               true,
               false,
               false,
               false,
               false
              ]
             },
             {
              "title": "Professional"
             }
            ],
            "label": "Professional",
            "method": "update"
           },
           {
            "args": [
             {
              "visible": [
               false,
               true,
               false,
               false,
               false
              ]
             },
             {
              "title": "Service"
             }
            ],
            "label": "Service",
            "method": "update"
           },
           {
            "args": [
             {
              "visible": [
               false,
               false,
               true,
               false,
               false
              ]
             },
             {
              "title": "Office"
             }
            ],
            "label": "Office",
            "method": "update"
           },
           {
            "args": [
             {
              "visible": [
               false,
               false,
               false,
               true,
               false
              ]
             },
             {
              "title": "Construction"
             }
            ],
            "label": "Construction",
            "method": "update"
           },
           {
            "args": [
             {
              "visible": [
               false,
               false,
               false,
               false,
               true
              ]
             },
             {
              "title": "Production"
             }
            ],
            "label": "Production",
            "method": "update"
           }
          ],
          "x": -0.15
         }
        ],
        "xaxis1": {
         "anchor": "y1",
         "domain": [
          0,
          0.45
         ]
        },
        "xaxis2": {
         "anchor": "y2",
         "domain": [
          0.55,
          1
         ]
        },
        "yaxis1": {
         "anchor": "x1",
         "domain": [
          0,
          1
         ]
        },
        "yaxis2": {
         "anchor": "x2",
         "domain": [
          0,
          1
         ]
        }
       }
      },
      "text/html": [
       "<div id=\"2fc59843-b7fd-49b1-9ea6-db9627147999\" style=\"height: 525px; width: 100%;\" class=\"plotly-graph-div\"></div><script type=\"text/javascript\">require([\"plotly\"], function(Plotly) { window.PLOTLYENV=window.PLOTLYENV || {};window.PLOTLYENV.BASE_URL=\"https://plot.ly\";Plotly.newPlot(\"2fc59843-b7fd-49b1-9ea6-db9627147999\", [{\"type\": \"bar\", \"x\": [\"Falls Church city, Virginia\", \"Los Alamos, New Mexico\", \"Arlington, Virginia\", \"District of Columbia, District of Columbia\", \"Howard, Maryland\", \"New York, New York\", \"Alexandria city, Virginia\", \"Loudoun, Virginia\", \"Montgomery, Maryland\", \"Fairfax, Virginia\"], \"y\": [74.0, 68.3, 68.0, 60.9, 60.0, 59.2, 58.1, 56.4, 56.2, 56.1], \"showlegend\": false, \"xaxis\": \"x1\", \"yaxis\": \"y1\"}, {\"type\": \"bar\", \"x\": [\"Vieques, Puerto Rico\", \"Tunica, Mississippi\", \"Kinney, Texas\", \"Kenedy, Texas\", \"Bronx, New York\", \"Culebra, Puerto Rico\", \"Brooks, Texas\", \"Fremont, Colorado\", \"Culberson, Texas\", \"Mahnomen, Minnesota\"], \"y\": [38.2, 36.6, 36.5, 34.1, 33.3, 32.7, 32.4, 32.2, 32.2, 31.5], \"showlegend\": false, \"xaxis\": \"x1\", \"yaxis\": \"y1\"}, {\"type\": \"bar\", \"x\": [\"Foard, Texas\", \"Naranjito, Puerto Rico\", \"Toa Baja, Puerto Rico\", \"Hormigueros, Puerto Rico\", \"Bayam\\u00f3n, Puerto Rico\", \"Glades, Florida\", \"Loving, Texas\", \"Dimmit, Texas\", \"Toa Alta, Puerto Rico\", \"Lanier, Georgia\"], \"y\": [35.4, 35.2, 34.9, 34.5, 33.6, 32.5, 32.3, 31.9, 31.8, 31.8], \"showlegend\": false, \"xaxis\": \"x1\", \"yaxis\": \"y1\"}, {\"type\": \"bar\", \"x\": [\"Lander, Nevada\", \"King, Texas\", \"Hendry, Florida\", \"Treasure, Montana\", \"Cochran, Texas\", \"Greenlee, Arizona\", \"Yoakum, Texas\", \"Adams, Washington\", \"Esmeralda, Nevada\", \"DeSoto, Florida\"], \"y\": [40.3, 39.2, 33.7, 33.5, 33.2, 31.4, 31.1, 31.1, 30.9, 30.6], \"showlegend\": false, \"xaxis\": \"x1\", \"yaxis\": \"y1\"}, {\"type\": \"bar\", \"x\": [\"Aleutians East Borough, Alaska\", \"Aleutians West Census Area, Alaska\", \"LaGrange, Indiana\", \"Chickasaw, Mississippi\", \"Clinton, Indiana\", \"Blackford, Indiana\", \"Colfax, Nebraska\", \"Elk, Pennsylvania\", \"Whitfield, Georgia\", \"Roseau, Minnesota\"], \"y\": [55.6, 40.9, 40.9, 35.9, 34.9, 34.5, 34.5, 34.0, 33.5, 33.1], \"showlegend\": false, \"xaxis\": \"x1\", \"yaxis\": \"y1\"}, {\"type\": \"bar\", \"x\": [\"Switzerland, Indiana\", \"Allendale, South Carolina\", \"Aleutians West Census Area, Alaska\", \"Zapata, Texas\", \"Buena Vista city, Virginia\", \"Taliaferro, Georgia\", \"DeSoto, Florida\", \"Quitman, Georgia\", \"Aleutians East Borough, Alaska\", \"Tyrrell, North Carolina\"], \"y\": [17.4, 17.2, 16.9, 16.7, 16.2, 16.0, 15.7, 14.5, 13.6, 13.5], \"showlegend\": false, \"xaxis\": \"x2\", \"yaxis\": \"y2\"}, {\"type\": \"bar\", \"x\": [\"Dundy, Nebraska\", \"Lipscomb, Texas\", \"Ellis, Oklahoma\", \"Cavalier, North Dakota\", \"Sheridan, Kansas\", \"Petroleum, Montana\", \"Sully, South Dakota\", \"Slope, North Dakota\", \"McCone, Montana\", \"Glasscock, Texas\"], \"y\": [9.1, 8.9, 8.9, 8.4, 8.4, 8.3, 8.2, 7.5, 6.2, 5.0], \"showlegend\": false, \"xaxis\": \"x2\", \"yaxis\": \"y2\"}, {\"type\": \"bar\", \"x\": [\"Kinney, Texas\", \"Gooding, Idaho\", \"Robertson, Kentucky\", \"Wichita, Kansas\", \"Wibaux, Montana\", \"Carter, Montana\", \"Blaine, Nebraska\", \"Aleutians East Borough, Alaska\", \"Esmeralda, Nevada\", \"Arthur, Nebraska\"], \"y\": [11.6, 11.4, 11.3, 11.0, 10.9, 9.6, 8.0, 7.2, 7.1, 4.1], \"showlegend\": false, \"xaxis\": \"x2\", \"yaxis\": \"y2\"}, {\"type\": \"bar\", \"x\": [\"Williamson, Tennessee\", \"San Francisco, California\", \"Radford city, Virginia\", \"Tunica, Mississippi\", \"Arlington, Virginia\", \"District of Columbia, District of Columbia\", \"Falls Church city, Virginia\", \"Los Alamos, New Mexico\", \"New York, New York\", \"Lexington city, Virginia\"], \"y\": [3.8, 3.7, 3.5, 3.5, 3.5, 2.9, 2.4, 2.4, 2.1, 1.7], \"showlegend\": false, \"xaxis\": \"x2\", \"yaxis\": \"y2\"}, {\"type\": \"bar\", \"x\": [\"Hinsdale, Colorado\", \"Lexington city, Virginia\", \"Catron, New Mexico\", \"Arlington, Virginia\", \"Keya Paha, Nebraska\", \"King, Texas\", \"Lincoln, Nevada\", \"Falls Church city, Virginia\", \"Kinney, Texas\", \"Kenedy, Texas\"], \"y\": [3.1, 2.8, 2.7, 2.7, 2.5, 2.4, 2.4, 1.5, 1.3, 0.0], \"showlegend\": false, \"xaxis\": \"x2\", \"yaxis\": \"y2\"}], {\"xaxis1\": {\"domain\": [0.0, 0.45], \"anchor\": \"y1\"}, \"yaxis1\": {\"domain\": [0.0, 1.0], \"anchor\": \"x1\"}, \"xaxis2\": {\"domain\": [0.55, 1.0], \"anchor\": \"y2\"}, \"yaxis2\": {\"domain\": [0.0, 1.0], \"anchor\": \"x2\"}, \"annotations\": [{\"y\": 1.0, \"xref\": \"paper\", \"x\": 0.225, \"yref\": \"paper\", \"text\": \"Highest\", \"showarrow\": false, \"font\": {\"size\": 16}, \"xanchor\": \"center\", \"yanchor\": \"bottom\"}, {\"y\": 1.0, \"xref\": \"paper\", \"x\": 0.775, \"yref\": \"paper\", \"text\": \"Lowest\", \"showarrow\": false, \"font\": {\"size\": 16}, \"xanchor\": \"center\", \"yanchor\": \"bottom\"}], \"title\": \"Career\", \"showlegend\": false, \"updatemenus\": [{\"active\": -1, \"x\": -0.15, \"buttons\": [{\"label\": \"Professional\", \"method\": \"update\", \"args\": [{\"visible\": [true, false, false, false, false]}, {\"title\": \"Professional\"}]}, {\"label\": \"Service\", \"method\": \"update\", \"args\": [{\"visible\": [false, true, false, false, false]}, {\"title\": \"Service\"}]}, {\"label\": \"Office\", \"method\": \"update\", \"args\": [{\"visible\": [false, false, true, false, false]}, {\"title\": \"Office\"}]}, {\"label\": \"Construction\", \"method\": \"update\", \"args\": [{\"visible\": [false, false, false, true, false]}, {\"title\": \"Construction\"}]}, {\"label\": \"Production\", \"method\": \"update\", \"args\": [{\"visible\": [false, false, false, false, true]}, {\"title\": \"Production\"}]}]}]}, {\"showLink\": true, \"linkText\": \"Export to plot.ly\"})});</script>"
      ],
      "text/vnd.plotly.v1+html": [
       "<div id=\"2fc59843-b7fd-49b1-9ea6-db9627147999\" style=\"height: 525px; width: 100%;\" class=\"plotly-graph-div\"></div><script type=\"text/javascript\">require([\"plotly\"], function(Plotly) { window.PLOTLYENV=window.PLOTLYENV || {};window.PLOTLYENV.BASE_URL=\"https://plot.ly\";Plotly.newPlot(\"2fc59843-b7fd-49b1-9ea6-db9627147999\", [{\"type\": \"bar\", \"x\": [\"Falls Church city, Virginia\", \"Los Alamos, New Mexico\", \"Arlington, Virginia\", \"District of Columbia, District of Columbia\", \"Howard, Maryland\", \"New York, New York\", \"Alexandria city, Virginia\", \"Loudoun, Virginia\", \"Montgomery, Maryland\", \"Fairfax, Virginia\"], \"y\": [74.0, 68.3, 68.0, 60.9, 60.0, 59.2, 58.1, 56.4, 56.2, 56.1], \"showlegend\": false, \"xaxis\": \"x1\", \"yaxis\": \"y1\"}, {\"type\": \"bar\", \"x\": [\"Vieques, Puerto Rico\", \"Tunica, Mississippi\", \"Kinney, Texas\", \"Kenedy, Texas\", \"Bronx, New York\", \"Culebra, Puerto Rico\", \"Brooks, Texas\", \"Fremont, Colorado\", \"Culberson, Texas\", \"Mahnomen, Minnesota\"], \"y\": [38.2, 36.6, 36.5, 34.1, 33.3, 32.7, 32.4, 32.2, 32.2, 31.5], \"showlegend\": false, \"xaxis\": \"x1\", \"yaxis\": \"y1\"}, {\"type\": \"bar\", \"x\": [\"Foard, Texas\", \"Naranjito, Puerto Rico\", \"Toa Baja, Puerto Rico\", \"Hormigueros, Puerto Rico\", \"Bayam\\u00f3n, Puerto Rico\", \"Glades, Florida\", \"Loving, Texas\", \"Dimmit, Texas\", \"Toa Alta, Puerto Rico\", \"Lanier, Georgia\"], \"y\": [35.4, 35.2, 34.9, 34.5, 33.6, 32.5, 32.3, 31.9, 31.8, 31.8], \"showlegend\": false, \"xaxis\": \"x1\", \"yaxis\": \"y1\"}, {\"type\": \"bar\", \"x\": [\"Lander, Nevada\", \"King, Texas\", \"Hendry, Florida\", \"Treasure, Montana\", \"Cochran, Texas\", \"Greenlee, Arizona\", \"Yoakum, Texas\", \"Adams, Washington\", \"Esmeralda, Nevada\", \"DeSoto, Florida\"], \"y\": [40.3, 39.2, 33.7, 33.5, 33.2, 31.4, 31.1, 31.1, 30.9, 30.6], \"showlegend\": false, \"xaxis\": \"x1\", \"yaxis\": \"y1\"}, {\"type\": \"bar\", \"x\": [\"Aleutians East Borough, Alaska\", \"Aleutians West Census Area, Alaska\", \"LaGrange, Indiana\", \"Chickasaw, Mississippi\", \"Clinton, Indiana\", \"Blackford, Indiana\", \"Colfax, Nebraska\", \"Elk, Pennsylvania\", \"Whitfield, Georgia\", \"Roseau, Minnesota\"], \"y\": [55.6, 40.9, 40.9, 35.9, 34.9, 34.5, 34.5, 34.0, 33.5, 33.1], \"showlegend\": false, \"xaxis\": \"x1\", \"yaxis\": \"y1\"}, {\"type\": \"bar\", \"x\": [\"Switzerland, Indiana\", \"Allendale, South Carolina\", \"Aleutians West Census Area, Alaska\", \"Zapata, Texas\", \"Buena Vista city, Virginia\", \"Taliaferro, Georgia\", \"DeSoto, Florida\", \"Quitman, Georgia\", \"Aleutians East Borough, Alaska\", \"Tyrrell, North Carolina\"], \"y\": [17.4, 17.2, 16.9, 16.7, 16.2, 16.0, 15.7, 14.5, 13.6, 13.5], \"showlegend\": false, \"xaxis\": \"x2\", \"yaxis\": \"y2\"}, {\"type\": \"bar\", \"x\": [\"Dundy, Nebraska\", \"Lipscomb, Texas\", \"Ellis, Oklahoma\", \"Cavalier, North Dakota\", \"Sheridan, Kansas\", \"Petroleum, Montana\", \"Sully, South Dakota\", \"Slope, North Dakota\", \"McCone, Montana\", \"Glasscock, Texas\"], \"y\": [9.1, 8.9, 8.9, 8.4, 8.4, 8.3, 8.2, 7.5, 6.2, 5.0], \"showlegend\": false, \"xaxis\": \"x2\", \"yaxis\": \"y2\"}, {\"type\": \"bar\", \"x\": [\"Kinney, Texas\", \"Gooding, Idaho\", \"Robertson, Kentucky\", \"Wichita, Kansas\", \"Wibaux, Montana\", \"Carter, Montana\", \"Blaine, Nebraska\", \"Aleutians East Borough, Alaska\", \"Esmeralda, Nevada\", \"Arthur, Nebraska\"], \"y\": [11.6, 11.4, 11.3, 11.0, 10.9, 9.6, 8.0, 7.2, 7.1, 4.1], \"showlegend\": false, \"xaxis\": \"x2\", \"yaxis\": \"y2\"}, {\"type\": \"bar\", \"x\": [\"Williamson, Tennessee\", \"San Francisco, California\", \"Radford city, Virginia\", \"Tunica, Mississippi\", \"Arlington, Virginia\", \"District of Columbia, District of Columbia\", \"Falls Church city, Virginia\", \"Los Alamos, New Mexico\", \"New York, New York\", \"Lexington city, Virginia\"], \"y\": [3.8, 3.7, 3.5, 3.5, 3.5, 2.9, 2.4, 2.4, 2.1, 1.7], \"showlegend\": false, \"xaxis\": \"x2\", \"yaxis\": \"y2\"}, {\"type\": \"bar\", \"x\": [\"Hinsdale, Colorado\", \"Lexington city, Virginia\", \"Catron, New Mexico\", \"Arlington, Virginia\", \"Keya Paha, Nebraska\", \"King, Texas\", \"Lincoln, Nevada\", \"Falls Church city, Virginia\", \"Kinney, Texas\", \"Kenedy, Texas\"], \"y\": [3.1, 2.8, 2.7, 2.7, 2.5, 2.4, 2.4, 1.5, 1.3, 0.0], \"showlegend\": false, \"xaxis\": \"x2\", \"yaxis\": \"y2\"}], {\"xaxis1\": {\"domain\": [0.0, 0.45], \"anchor\": \"y1\"}, \"yaxis1\": {\"domain\": [0.0, 1.0], \"anchor\": \"x1\"}, \"xaxis2\": {\"domain\": [0.55, 1.0], \"anchor\": \"y2\"}, \"yaxis2\": {\"domain\": [0.0, 1.0], \"anchor\": \"x2\"}, \"annotations\": [{\"y\": 1.0, \"xref\": \"paper\", \"x\": 0.225, \"yref\": \"paper\", \"text\": \"Highest\", \"showarrow\": false, \"font\": {\"size\": 16}, \"xanchor\": \"center\", \"yanchor\": \"bottom\"}, {\"y\": 1.0, \"xref\": \"paper\", \"x\": 0.775, \"yref\": \"paper\", \"text\": \"Lowest\", \"showarrow\": false, \"font\": {\"size\": 16}, \"xanchor\": \"center\", \"yanchor\": \"bottom\"}], \"title\": \"Career\", \"showlegend\": false, \"updatemenus\": [{\"active\": -1, \"x\": -0.15, \"buttons\": [{\"label\": \"Professional\", \"method\": \"update\", \"args\": [{\"visible\": [true, false, false, false, false]}, {\"title\": \"Professional\"}]}, {\"label\": \"Service\", \"method\": \"update\", \"args\": [{\"visible\": [false, true, false, false, false]}, {\"title\": \"Service\"}]}, {\"label\": \"Office\", \"method\": \"update\", \"args\": [{\"visible\": [false, false, true, false, false]}, {\"title\": \"Office\"}]}, {\"label\": \"Construction\", \"method\": \"update\", \"args\": [{\"visible\": [false, false, false, true, false]}, {\"title\": \"Construction\"}]}, {\"label\": \"Production\", \"method\": \"update\", \"args\": [{\"visible\": [false, false, false, false, true]}, {\"title\": \"Production\"}]}]}]}, {\"showLink\": true, \"linkText\": \"Export to plot.ly\"})});</script>"
      ]
     },
     "metadata": {},
     "output_type": "display_data"
    }
   ],
   "source": [
    "careers = ['Professional', 'Service', 'Office', 'Construction', 'Production']\n",
    "\n",
    "### Create individual figures\n",
    "car_fig = tools.make_subplots(rows=1, cols=2, subplot_titles=('Highest', 'Lowest',))\n",
    "\n",
    "###################################### Career plots ######################################\n",
    "\n",
    "datas = []\n",
    "for career in careers:\n",
    "    data = county.groupby([\"State\", \"County\"])[career].median().sort_values(ascending=False)\n",
    "    data = data.reset_index()\n",
    "    data[\"Place\"] = data[\"County\"] + \", \" + data[\"State\"]\n",
    "    data = data.rename(columns={career: \"Values\"})\n",
    "    datas.append(data)\n",
    "    \n",
    "for data in datas:\n",
    "    trace = go.Bar(\n",
    "                    x=data.head(10).Place,\n",
    "                    y=data.head(10).Values, \n",
    "                    showlegend=False\n",
    "                )\n",
    "    car_fig.append_trace(trace, 1, 1)\n",
    "\n",
    "for data in datas:\n",
    "    trace = go.Bar(\n",
    "                    x=data.tail(10).Place,\n",
    "                    y=data.tail(10).Values, \n",
    "                    showlegend=False\n",
    "                )\n",
    "    car_fig.append_trace(trace, 1, 2)\n",
    "\n",
    "### Create buttons for drop down menu\n",
    "buttons = []\n",
    "for i, label in enumerate(careers):\n",
    "    visibility = [i==j for j in range(len(careers))]\n",
    "    button = dict(\n",
    "                 label =  label,\n",
    "                 method = 'update',\n",
    "                 args = [{'visible': visibility},\n",
    "                     {'title': label}])\n",
    "    buttons.append(button)\n",
    "\n",
    "### Create menu\n",
    "updatemenus = list([\n",
    "    dict(active=-1,\n",
    "         x=-0.15,\n",
    "         buttons=buttons\n",
    "    )\n",
    "])\n",
    "\n",
    "### Final figure edits\n",
    "car_fig['layout']['title'] = 'Career'\n",
    "car_fig['layout']['showlegend'] = False\n",
    "car_fig['layout']['updatemenus'] = updatemenus\n",
    "\n",
    "iplot(car_fig, filename='dropdown')"
   ]
  },
  {
   "cell_type": "markdown",
   "metadata": {},
   "source": [
    "### In progress - I want to have subplots within subplots.\n",
    "\n",
    "Also the subplots each have a menu to change either between careers or sectors"
   ]
  },
  {
   "cell_type": "code",
   "execution_count": 36,
   "metadata": {},
   "outputs": [
    {
     "name": "stdout",
     "output_type": "stream",
     "text": [
      "This is the format of your plot grid:\n",
      "[ (1,1) x1,y1 ]\n",
      "[ (2,1) x2,y2 ]\n",
      "\n",
      "This is the format of your plot grid:\n",
      "[ (1,1) x1,y1 ]  [ (1,2) x2,y2 ]\n",
      "\n",
      "This is the format of your plot grid:\n",
      "[ (1,1) x1,y1 ]  [ (1,2) x2,y2 ]\n",
      "\n"
     ]
    },
    {
     "ename": "PlotlyDictKeyError",
     "evalue": "'xaxis' is not allowed in 'figure'\n\nPath To Error: ['xaxis']\n\nValid attributes for 'figure' at path [] under parents []:\n\n    ['data', 'frames', 'layout']\n\nRun `<figure-object>.help('attribute')` on any of the above.\n'<figure-object>' is the object at []",
     "output_type": "error",
     "traceback": [
      "\u001b[0;31m---------------------------------------------------------------------------\u001b[0m",
      "\u001b[0;31mPlotlyDictKeyError\u001b[0m                        Traceback (most recent call last)",
      "\u001b[0;32m<ipython-input-36-30680b83ef10>\u001b[0m in \u001b[0;36m<module>\u001b[0;34m()\u001b[0m\n\u001b[1;32m    110\u001b[0m \u001b[0;34m\u001b[0m\u001b[0m\n\u001b[1;32m    111\u001b[0m \u001b[0;31m###################################### Final plot ######################################\u001b[0m\u001b[0;34m\u001b[0m\u001b[0;34m\u001b[0m\u001b[0m\n\u001b[0;32m--> 112\u001b[0;31m \u001b[0mmain_fig\u001b[0m\u001b[0;34m.\u001b[0m\u001b[0mappend_trace\u001b[0m\u001b[0;34m(\u001b[0m\u001b[0mcar_fig\u001b[0m\u001b[0;34m,\u001b[0m \u001b[0;36m1\u001b[0m\u001b[0;34m,\u001b[0m \u001b[0;36m1\u001b[0m\u001b[0;34m)\u001b[0m\u001b[0;34m\u001b[0m\u001b[0m\n\u001b[0m\u001b[1;32m    113\u001b[0m \u001b[0mmain_fig\u001b[0m\u001b[0;34m.\u001b[0m\u001b[0mappend_trace\u001b[0m\u001b[0;34m(\u001b[0m\u001b[0msec_fig\u001b[0m\u001b[0;34m,\u001b[0m \u001b[0;36m2\u001b[0m\u001b[0;34m,\u001b[0m \u001b[0;36m1\u001b[0m\u001b[0;34m)\u001b[0m\u001b[0;34m\u001b[0m\u001b[0m\n\u001b[1;32m    114\u001b[0m \u001b[0;34m\u001b[0m\u001b[0m\n",
      "\u001b[0;32m/anaconda3/lib/python3.6/site-packages/plotly/graph_objs/graph_objs.py\u001b[0m in \u001b[0;36mappend_trace\u001b[0;34m(self, trace, row, col)\u001b[0m\n\u001b[1;32m   1274\u001b[0m                                 \u001b[0;34m\"cell got deleted.\"\u001b[0m\u001b[0;34m\u001b[0m\u001b[0m\n\u001b[1;32m   1275\u001b[0m                                 .format(r=row, c=col))\n\u001b[0;32m-> 1276\u001b[0;31m             \u001b[0mtrace\u001b[0m\u001b[0;34m[\u001b[0m\u001b[0;34m'xaxis'\u001b[0m\u001b[0;34m]\u001b[0m \u001b[0;34m=\u001b[0m \u001b[0mref\u001b[0m\u001b[0;34m[\u001b[0m\u001b[0;36m0\u001b[0m\u001b[0;34m]\u001b[0m\u001b[0;34m\u001b[0m\u001b[0m\n\u001b[0m\u001b[1;32m   1277\u001b[0m             \u001b[0mtrace\u001b[0m\u001b[0;34m[\u001b[0m\u001b[0;34m'yaxis'\u001b[0m\u001b[0;34m]\u001b[0m \u001b[0;34m=\u001b[0m \u001b[0mref\u001b[0m\u001b[0;34m[\u001b[0m\u001b[0;36m1\u001b[0m\u001b[0;34m]\u001b[0m\u001b[0;34m\u001b[0m\u001b[0m\n\u001b[1;32m   1278\u001b[0m         \u001b[0mself\u001b[0m\u001b[0;34m[\u001b[0m\u001b[0;34m'data'\u001b[0m\u001b[0;34m]\u001b[0m \u001b[0;34m+=\u001b[0m \u001b[0;34m[\u001b[0m\u001b[0mtrace\u001b[0m\u001b[0;34m]\u001b[0m\u001b[0;34m\u001b[0m\u001b[0m\n",
      "\u001b[0;32m/anaconda3/lib/python3.6/site-packages/plotly/graph_objs/graph_objs.py\u001b[0m in \u001b[0;36m__setitem__\u001b[0;34m(self, key, value, _raise)\u001b[0m\n\u001b[1;32m    426\u001b[0m                 \u001b[0;32mif\u001b[0m \u001b[0m_raise\u001b[0m\u001b[0;34m:\u001b[0m\u001b[0;34m\u001b[0m\u001b[0m\n\u001b[1;32m    427\u001b[0m                     \u001b[0mpath\u001b[0m \u001b[0;34m=\u001b[0m \u001b[0mself\u001b[0m\u001b[0;34m.\u001b[0m\u001b[0m_get_path\u001b[0m\u001b[0;34m(\u001b[0m\u001b[0;34m)\u001b[0m \u001b[0;34m+\u001b[0m \u001b[0;34m(\u001b[0m\u001b[0mkey\u001b[0m\u001b[0;34m,\u001b[0m \u001b[0;34m)\u001b[0m\u001b[0;34m\u001b[0m\u001b[0m\n\u001b[0;32m--> 428\u001b[0;31m                     \u001b[0;32mraise\u001b[0m \u001b[0mexceptions\u001b[0m\u001b[0;34m.\u001b[0m\u001b[0mPlotlyDictKeyError\u001b[0m\u001b[0;34m(\u001b[0m\u001b[0mself\u001b[0m\u001b[0;34m,\u001b[0m \u001b[0mpath\u001b[0m\u001b[0;34m)\u001b[0m\u001b[0;34m\u001b[0m\u001b[0m\n\u001b[0m\u001b[1;32m    429\u001b[0m                 \u001b[0;32mreturn\u001b[0m\u001b[0;34m\u001b[0m\u001b[0m\n\u001b[1;32m    430\u001b[0m \u001b[0;34m\u001b[0m\u001b[0m\n",
      "\u001b[0;31mPlotlyDictKeyError\u001b[0m: 'xaxis' is not allowed in 'figure'\n\nPath To Error: ['xaxis']\n\nValid attributes for 'figure' at path [] under parents []:\n\n    ['data', 'frames', 'layout']\n\nRun `<figure-object>.help('attribute')` on any of the above.\n'<figure-object>' is the object at []"
     ]
    }
   ],
   "source": [
    "careers = ['Professional', 'Service', 'Office', 'Construction', 'Production']\n",
    "sectors = ['PrivateWork', 'PublicWork', 'SelfEmployed', 'FamilyWork']\n",
    "\n",
    "### Create individual figures\n",
    "main_fig = tools.make_subplots(rows=2, cols=1, subplot_titles=('Career', 'Sector',))\n",
    "car_fig = tools.make_subplots(rows=1, cols=2, subplot_titles=('Highest', 'Lowest',))\n",
    "sec_fig = tools.make_subplots(rows=1, cols=2, subplot_titles=('Highest', 'Lowest',))\n",
    "\n",
    "###################################### Career plots ######################################\n",
    "\n",
    "datas = []\n",
    "for career in careers:\n",
    "    data = county.groupby([\"State\", \"County\"])[career].median().sort_values(ascending=False)\n",
    "    data = data.reset_index()\n",
    "    data[\"Place\"] = data[\"County\"] + \", \" + data[\"State\"]\n",
    "    data = data.rename(columns={career: \"Values\"})\n",
    "    datas.append(data)\n",
    "    \n",
    "for data in datas:\n",
    "    trace = go.Bar(\n",
    "                    x=data.head(10).Place,\n",
    "                    y=data.head(10).Values, \n",
    "                    showlegend=False\n",
    "                )\n",
    "    car_fig.append_trace(trace, 1, 1)\n",
    "\n",
    "for data in datas:\n",
    "    trace = go.Bar(\n",
    "                    x=data.tail(10).Place,\n",
    "                    y=data.tail(10).Values, \n",
    "                    showlegend=False\n",
    "                )\n",
    "    car_fig.append_trace(trace, 1, 2)\n",
    "\n",
    "### Create buttons for drop down menu\n",
    "buttons = []\n",
    "for i, label in enumerate(careers):\n",
    "    visibility = [i==j for j in range(len(careers))]\n",
    "    button = dict(\n",
    "                 label =  label,\n",
    "                 method = 'update',\n",
    "                 args = [{'visible': visibility},\n",
    "                     {'title': label}])\n",
    "    buttons.append(button)\n",
    "\n",
    "### Create menu\n",
    "updatemenus = list([\n",
    "    dict(active=-1,\n",
    "         x=-0.15,\n",
    "         buttons=buttons\n",
    "    )\n",
    "])\n",
    "\n",
    "### Final figure edits\n",
    "car_fig['layout']['title'] = 'Career'\n",
    "car_fig['layout']['showlegend'] = False\n",
    "car_fig['layout']['updatemenus'] = updatemenus\n",
    "\n",
    "\n",
    "###################################### Sector plots ######################################\n",
    "\n",
    "datas = []\n",
    "for sector in sectors:\n",
    "    data = county.groupby([\"State\", \"County\"])[sector].median().sort_values(ascending=False)\n",
    "    data = data.reset_index()\n",
    "    data[\"Place\"] = data[\"County\"] + \", \" + data[\"State\"]\n",
    "    data = data.rename(columns={sector: \"Values\"})\n",
    "    datas.append(data)\n",
    "    \n",
    "for data in datas:\n",
    "    trace = go.Bar(\n",
    "                    x=data.head(10).Place,\n",
    "                    y=data.head(10).Values, \n",
    "                    showlegend=False\n",
    "                )\n",
    "    sec_fig.append_trace(trace, 1, 1)\n",
    "\n",
    "for data in datas:\n",
    "    trace = go.Bar(\n",
    "                    x=data.tail(10).Place,\n",
    "                    y=data.tail(10).Values, \n",
    "                    showlegend=False\n",
    "                )\n",
    "    sec_fig.append_trace(trace, 1, 2)\n",
    "\n",
    "### Create buttons for drop down menu\n",
    "buttons = []\n",
    "for i, label in enumerate(sectors):\n",
    "    visibility = [i==j for j in range(len(sectors))]\n",
    "    button = dict(\n",
    "                 label =  label,\n",
    "                 method = 'update',\n",
    "                 args = [{'visible': visibility},\n",
    "                     {'title': label}])\n",
    "    buttons.append(button)\n",
    "\n",
    "\n",
    "### Create menu\n",
    "updatemenus = list([\n",
    "    dict(active=-1,\n",
    "         x=-0.15,\n",
    "         buttons=buttons\n",
    "    )\n",
    "])\n",
    "\n",
    "### Final figure edits\n",
    "sec_fig['layout']['title'] = 'Career'\n",
    "sec_fig['layout']['showlegend'] = False\n",
    "sec_fig['layout']['updatemenus'] = updatemenus\n",
    "\n",
    "###################################### Final plot ######################################\n",
    "main_fig.append_trace(car_fig, 1, 1)\n",
    "main_fig.append_trace(sec_fig, 2, 1)\n",
    "\n",
    "del careers, sectors, car_fig, car, sec_fig, sec\n",
    "iplot(main_fig, filename='dropdown')"
   ]
  },
  {
   "cell_type": "markdown",
   "metadata": {},
   "source": [
    "### Testing plotly - State"
   ]
  },
  {
   "cell_type": "code",
   "execution_count": 17,
   "metadata": {},
   "outputs": [
    {
     "name": "stdout",
     "output_type": "stream",
     "text": [
      "This is the format of your plot grid:\n",
      "[ (1,1) x1,y1 ]  [ (1,2) x2,y2 ]\n",
      "[ (2,1) x3,y3 ]  [ (2,2) x4,y4 ]\n",
      "\n"
     ]
    },
    {
     "data": {
      "application/vnd.plotly.v1+json": {
       "data": [
        {
         "showlegend": false,
         "type": "bar",
         "x": [
          "Alabama",
          "Mississippi",
          "Tennessee",
          "Ohio",
          "Indiana",
          "South Carolina",
          "Michigan",
          "Arkansas",
          "Oklahoma",
          "Kentucky",
          "Louisiana",
          "West Virginia",
          "Kansas"
         ],
         "xaxis": "x1",
         "y": [
          85.42353685448244,
          84.29072073347409,
          83.86016799456583,
          83.4446924004773,
          82.98550659991518,
          82.84192906612057,
          82.53959291842867,
          82.46239659280212,
          82.4592659802641,
          82.45539211884963,
          82.4385584529106,
          82.37469007572567,
          82.15348178197824
         ],
         "yaxis": "y1"
        },
        {
         "showlegend": false,
         "type": "bar",
         "x": [
          "Hawaii",
          "Alaska",
          "Utah",
          "Wyoming",
          "Arizona",
          "California",
          "Arkansas",
          "Texas",
          "Nevada",
          "Montana",
          "Oregon",
          "Oklahoma",
          "Georgia"
         ],
         "xaxis": "x1",
         "y": [
          14.046828092745566,
          12.565731719788657,
          11.96823084413024,
          11.21511836723428,
          11.100768888190299,
          10.91267200541864,
          10.87056180633681,
          10.841973337416944,
          10.836150467584925,
          10.485630319927385,
          10.431787025545328,
          10.42482385142035,
          10.37415422857481
         ],
         "yaxis": "y1"
        },
        {
         "showlegend": false,
         "type": "bar",
         "x": [
          "District of Columbia",
          "New York",
          "New Jersey",
          "Massachusetts",
          "Illinois",
          "Maryland",
          "Hawaii",
          "Pennsylvania",
          "Washington",
          "California",
          "Connecticut",
          "Virginia",
          "Oregon"
         ],
         "xaxis": "x1",
         "y": [
          37.4,
          27.981358640959517,
          10.938296763638435,
          9.489038482244505,
          9.084405396371734,
          9.042499297702838,
          6.391151739423836,
          5.830623795390748,
          5.659967641376438,
          4.913541714599943,
          4.877083074744617,
          4.098447695972811,
          4.094094535662146
         ],
         "yaxis": "y1"
        },
        {
         "showlegend": false,
         "type": "bar",
         "x": [
          "District of Columbia",
          "Alaska",
          "New York",
          "Vermont",
          "Montana",
          "Massachusetts",
          "Hawaii",
          "South Dakota",
          "Oregon",
          "North Dakota",
          "Maine",
          "Pennsylvania",
          "Wyoming"
         ],
         "xaxis": "x1",
         "y": [
          12.9,
          8.241294699164818,
          6.292518797424351,
          5.690334086600149,
          4.917203623931826,
          4.723897806992558,
          4.48863072504496,
          4.101368612056594,
          4.021133911093861,
          3.9881598858156417,
          3.981786171093221,
          3.9547310357110135,
          3.7919829767854276
         ],
         "yaxis": "y1"
        },
        {
         "showlegend": false,
         "type": "bar",
         "x": [
          "Alaska",
          "District of Columbia",
          "Hawaii",
          "Oregon",
          "Arizona",
          "California",
          "Montana",
          "Colorado",
          "Idaho",
          "Florida",
          "Nevada",
          "Wyoming",
          "Washington"
         ],
         "xaxis": "x1",
         "y": [
          6.143167138230782,
          5.2,
          3.530258358997624,
          3.387261504968099,
          2.724845421389693,
          2.4943172675564873,
          2.383224483319684,
          2.3603219682259917,
          2.347484855064529,
          2.2355138856340186,
          2.1530747835731403,
          2.107282306241903,
          2.0925200673856454
         ],
         "yaxis": "y1"
        },
        {
         "showlegend": false,
         "type": "bar",
         "x": [
          "Puerto Rico",
          "Missouri",
          "North Carolina",
          "Nebraska",
          "Delaware",
          "New Hampshire",
          "Iowa",
          "Wisconsin",
          "Texas",
          "North Dakota",
          "Rhode Island",
          "Georgia",
          "Florida"
         ],
         "xaxis": "x2",
         "y": [
          81.79447253795838,
          81.47424981572912,
          81.29225892105424,
          81.17436856900605,
          81.13474765071985,
          81.03343276436131,
          80.62205716066393,
          80.52717992336275,
          80.24296450447639,
          79.99054958150882,
          79.78489808391883,
          79.7692165033943,
          79.62243276568617
         ],
         "yaxis": "y2"
        },
        {
         "showlegend": false,
         "type": "bar",
         "x": [
          "Washington",
          "Maine",
          "New Mexico",
          "West Virginia",
          "Mississippi",
          "Idaho",
          "North Carolina",
          "Kentucky",
          "Louisiana",
          "Kansas",
          "Colorado",
          "Nebraska",
          "Florida"
         ],
         "xaxis": "x2",
         "y": [
          10.327103553894203,
          10.32064524866451,
          10.261481193234356,
          10.128855473096325,
          10.082382003700703,
          10.071030845375978,
          10.030754937390132,
          9.874041360791365,
          9.83328034163753,
          9.625363162710375,
          9.591715897195368,
          9.562260339741034,
          9.502783616749701
         ],
         "yaxis": "y2"
        },
        {
         "showlegend": false,
         "type": "bar",
         "x": [
          "Nevada",
          "Minnesota",
          "Colorado",
          "Delaware",
          "Rhode Island",
          "Utah",
          "Puerto Rico",
          "Arizona",
          "Florida",
          "Georgia",
          "Wisconsin",
          "Ohio",
          "Alaska"
         ],
         "xaxis": "x2",
         "y": [
          3.611221252067078,
          3.4533214028492543,
          3.043118062719813,
          2.972028292824036,
          2.9659477763720967,
          2.445079130213451,
          2.202448233680977,
          2.036389343576142,
          2.034543198404217,
          1.9810565888250984,
          1.9124549360453649,
          1.646181035086715,
          1.5695937276291116
         ],
         "yaxis": "y2"
        },
        {
         "showlegend": false,
         "type": "bar",
         "x": [
          "Rhode Island",
          "Iowa",
          "Washington",
          "Puerto Rico",
          "Wisconsin",
          "Illinois",
          "New Jersey",
          "Idaho",
          "Connecticut",
          "Colorado",
          "New Hampshire",
          "Minnesota",
          "Nebraska"
         ],
         "xaxis": "x2",
         "y": [
          3.7363235423917174,
          3.4969058931458807,
          3.4323320684209384,
          3.381222012501559,
          3.3159486649261933,
          3.10977961296625,
          3.066425490372021,
          3.0271768776286745,
          3.0153487872444282,
          2.956439572896355,
          2.891629593996682,
          2.846846722496854,
          2.8396178381428996
         ],
         "yaxis": "y2"
        },
        {
         "showlegend": false,
         "type": "bar",
         "x": [
          "Louisiana",
          "New Mexico",
          "Utah",
          "New Jersey",
          "Puerto Rico",
          "New York",
          "Texas",
          "Massachusetts",
          "Wisconsin",
          "Illinois",
          "Minnesota",
          "Maine",
          "Georgia"
         ],
         "xaxis": "x2",
         "y": [
          2.052286739774019,
          1.9987484387872658,
          1.977197327665455,
          1.8707569269305004,
          1.862436461662936,
          1.8604428395743358,
          1.7358271272192292,
          1.7191836477826097,
          1.6807191319856427,
          1.6602538061721037,
          1.650145382015072,
          1.6301828304867956,
          1.5933412267169582
         ],
         "yaxis": "y2"
        },
        {
         "showlegend": false,
         "type": "bar",
         "x": [
          "New Mexico",
          "South Dakota",
          "Connecticut",
          "Virginia",
          "Maine",
          "Minnesota",
          "Nevada",
          "Idaho",
          "Wyoming",
          "Arizona",
          "Pennsylvania",
          "Utah",
          "Colorado"
         ],
         "xaxis": "x3",
         "y": [
          79.61893171064771,
          78.59351937285784,
          78.3022187607668,
          78.07897552633456,
          78.03428508012942,
          78.0296525797027,
          78.00188298871306,
          77.90126553697479,
          76.84378423230788,
          76.52867327077318,
          76.11878830873586,
          75.92484415572338,
          75.44704571363839
         ],
         "yaxis": "y3"
        },
        {
         "showlegend": false,
         "type": "bar",
         "x": [
          "Virginia",
          "Missouri",
          "South Dakota",
          "Vermont",
          "Maryland",
          "South Carolina",
          "Tennessee",
          "Alabama",
          "North Dakota",
          "Indiana",
          "Michigan",
          "Iowa",
          "Minnesota"
         ],
         "xaxis": "x3",
         "y": [
          9.489978211449468,
          9.464620603799753,
          9.447684744838057,
          9.44461190799931,
          9.443247121930591,
          9.364050493388278,
          9.267402807704764,
          9.245189727198577,
          9.203020203979824,
          9.050048404199039,
          8.934669757936186,
          8.795076750607556,
          8.788322605062662
         ],
         "yaxis": "y3"
        },
        {
         "showlegend": false,
         "type": "bar",
         "x": [
          "Wyoming",
          "Texas",
          "Missouri",
          "Michigan",
          "Louisiana",
          "Vermont",
          "Indiana",
          "Iowa",
          "New Mexico",
          "North Carolina",
          "Kentucky",
          "New Hampshire",
          "Montana"
         ],
         "xaxis": "x3",
         "y": [
          1.556640485510084,
          1.513875415649062,
          1.463595088403705,
          1.4398223193389554,
          1.3162604294294813,
          1.1513279519441304,
          1.1014964425692053,
          1.0914353718055059,
          1.046654194558175,
          1.0411520057269774,
          1.0162375865662825,
          0.8638883371935228,
          0.8172918274286265
         ],
         "yaxis": "y3"
        },
        {
         "showlegend": false,
         "type": "bar",
         "x": [
          "West Virginia",
          "California",
          "Utah",
          "Maryland",
          "Kansas",
          "Kentucky",
          "Ohio",
          "Virginia",
          "New Mexico",
          "Michigan",
          "Nevada",
          "Delaware",
          "South Carolina"
         ],
         "xaxis": "x3",
         "y": [
          2.781299218977866,
          2.649466129140732,
          2.569182769455865,
          2.470085294116655,
          2.359241192580539,
          2.314162952121425,
          2.3057318012984984,
          2.298581661040884,
          2.256598214015816,
          2.2075015572334156,
          2.1826628400406487,
          2.1678449226836953,
          2.16532865201935
         ],
         "yaxis": "y3"
        },
        {
         "showlegend": false,
         "type": "bar",
         "x": [
          "Vermont",
          "South Carolina",
          "Virginia",
          "Iowa",
          "South Dakota",
          "Rhode Island",
          "Mississippi",
          "Indiana",
          "Pennsylvania",
          "Oklahoma",
          "Kansas",
          "Nebraska",
          "North Carolina"
         ],
         "xaxis": "x3",
         "y": [
          1.5871172223605337,
          1.5775392793332852,
          1.556761184647974,
          1.528806546316404,
          1.5209199587281637,
          1.5142161473187297,
          1.4735878311197055,
          1.4698759942118957,
          1.4111074177129272,
          1.3802016659337155,
          1.3336452946383792,
          1.330409417101529,
          1.3105333156328993
         ],
         "yaxis": "y3"
        },
        {
         "showlegend": false,
         "type": "bar",
         "x": [
          "Vermont",
          "Montana",
          "California",
          "Maryland",
          "Illinois",
          "Washington",
          "New Jersey",
          "Oregon",
          "Massachusetts",
          "Hawaii",
          "Alaska",
          "New York",
          "District of Columbia"
         ],
         "xaxis": "x4",
         "y": [
          75.37057359991319,
          75.0336949183945,
          73.73619696271855,
          73.58466064967462,
          73.43074547523446,
          73.02471696940962,
          72.00355271032464,
          71.81365222620747,
          71.78749511228399,
          66.91372773499803,
          66.86735817283109,
          53.215070247434404,
          33.7
         ],
         "yaxis": "y4"
        },
        {
         "showlegend": false,
         "type": "bar",
         "x": [
          "Pennsylvania",
          "Puerto Rico",
          "Rhode Island",
          "Illinois",
          "Wisconsin",
          "Delaware",
          "Connecticut",
          "New Jersey",
          "New Hampshire",
          "Ohio",
          "Massachusetts",
          "New York",
          "District of Columbia"
         ],
         "xaxis": "x4",
         "y": [
          8.746726479372255,
          8.684692915829512,
          8.534816131564137,
          8.526308232691285,
          8.496623126975646,
          8.403599854930738,
          8.227782168761072,
          8.145861563249595,
          7.9933828021576785,
          7.966126954122315,
          7.727871479092208,
          6.7718710768277655,
          5.7
         ],
         "yaxis": "y4"
        },
        {
         "showlegend": false,
         "type": "bar",
         "x": [
          "West Virginia",
          "Tennessee",
          "Idaho",
          "Nebraska",
          "Maine",
          "South Carolina",
          "South Dakota",
          "Kansas",
          "Oklahoma",
          "North Dakota",
          "Arkansas",
          "Mississippi",
          "Alabama"
         ],
         "xaxis": "x4",
         "y": [
          0.7664221516457637,
          0.7633396901201069,
          0.7589676019317719,
          0.722382948220385,
          0.6198190504852908,
          0.5957426108972417,
          0.5441000249054188,
          0.47575602655663496,
          0.4536620851368133,
          0.45249390277700796,
          0.42538073725715037,
          0.40785735058721645,
          0.4075812835619444
         ],
         "yaxis": "y4"
        },
        {
         "showlegend": false,
         "type": "bar",
         "x": [
          "Arizona",
          "Indiana",
          "Missouri",
          "Louisiana",
          "Oklahoma",
          "North Carolina",
          "Arkansas",
          "Texas",
          "Georgia",
          "Mississippi",
          "Florida",
          "Tennessee",
          "Alabama"
         ],
         "xaxis": "x4",
         "y": [
          2.1056283958513253,
          2.094610852009813,
          1.9743485677157422,
          1.8979710515295056,
          1.7847449160759978,
          1.7763422019346622,
          1.7747108046493005,
          1.6232683025571708,
          1.5885552299845709,
          1.5352448611667484,
          1.449283189278588,
          1.3211416983929045,
          1.121333700435969
         ],
         "yaxis": "y4"
        },
        {
         "showlegend": false,
         "type": "bar",
         "x": [
          "Michigan",
          "Missouri",
          "Kentucky",
          "Maryland",
          "Arkansas",
          "New Hampshire",
          "Tennessee",
          "North Dakota",
          "Connecticut",
          "Delaware",
          "Ohio",
          "West Virginia",
          "Alabama"
         ],
         "xaxis": "x4",
         "y": [
          1.2923792375207452,
          1.2863105430730692,
          1.2703741773744341,
          1.2634432154384643,
          1.2564105363787808,
          1.2502733346372643,
          1.2127137530453729,
          1.1786303419987807,
          1.1678132884636683,
          1.1342551276156183,
          1.1242510588955035,
          1.0864038953884048,
          1.0415444601314117
         ],
         "yaxis": "y4"
        }
       ],
       "layout": {
        "annotations": [
         {
          "font": {
           "size": 16
          },
          "showarrow": false,
          "text": "1st Quartile",
          "x": 0.225,
          "xanchor": "center",
          "xref": "paper",
          "y": 1,
          "yanchor": "bottom",
          "yref": "paper"
         },
         {
          "font": {
           "size": 16
          },
          "showarrow": false,
          "text": "2nd Quartile",
          "x": 0.775,
          "xanchor": "center",
          "xref": "paper",
          "y": 1,
          "yanchor": "bottom",
          "yref": "paper"
         },
         {
          "font": {
           "size": 16
          },
          "showarrow": false,
          "text": "3rd Quartile",
          "x": 0.225,
          "xanchor": "center",
          "xref": "paper",
          "y": 0.375,
          "yanchor": "bottom",
          "yref": "paper"
         },
         {
          "font": {
           "size": 16
          },
          "showarrow": false,
          "text": "4th Quartile",
          "x": 0.775,
          "xanchor": "center",
          "xref": "paper",
          "y": 0.375,
          "yanchor": "bottom",
          "yref": "paper"
         }
        ],
        "height": 800,
        "showlegend": false,
        "title": "Transportation across the states",
        "updatemenus": [
         {
          "active": -1,
          "buttons": [
           {
            "args": [
             {
              "visible": [
               true,
               false,
               false,
               false,
               false
              ]
             },
             {
              "title": "Drive"
             }
            ],
            "label": "Drive",
            "method": "update"
           },
           {
            "args": [
             {
              "visible": [
               false,
               true,
               false,
               false,
               false
              ]
             },
             {
              "title": "Carpool"
             }
            ],
            "label": "Carpool",
            "method": "update"
           },
           {
            "args": [
             {
              "visible": [
               false,
               false,
               true,
               false,
               false
              ]
             },
             {
              "title": "Transit"
             }
            ],
            "label": "Transit",
            "method": "update"
           },
           {
            "args": [
             {
              "visible": [
               false,
               false,
               false,
               true,
               false
              ]
             },
             {
              "title": "Walk"
             }
            ],
            "label": "Walk",
            "method": "update"
           },
           {
            "args": [
             {
              "visible": [
               false,
               false,
               false,
               false,
               true
              ]
             },
             {
              "title": "OtherTransp"
             }
            ],
            "label": "OtherTransp",
            "method": "update"
           }
          ],
          "x": -0.15
         }
        ],
        "width": 1000,
        "xaxis1": {
         "anchor": "y1",
         "domain": [
          0,
          0.45
         ]
        },
        "xaxis2": {
         "anchor": "y2",
         "domain": [
          0.55,
          1
         ]
        },
        "xaxis3": {
         "anchor": "y3",
         "domain": [
          0,
          0.45
         ]
        },
        "xaxis4": {
         "anchor": "y4",
         "domain": [
          0.55,
          1
         ]
        },
        "yaxis1": {
         "anchor": "x1",
         "domain": [
          0.625,
          1
         ]
        },
        "yaxis2": {
         "anchor": "x2",
         "domain": [
          0.625,
          1
         ]
        },
        "yaxis3": {
         "anchor": "x3",
         "domain": [
          0,
          0.375
         ]
        },
        "yaxis4": {
         "anchor": "x4",
         "domain": [
          0,
          0.375
         ]
        }
       }
      },
      "text/html": [
       "<div id=\"7b44370d-5752-46d1-a7e8-80d17b0a1732\" style=\"height: 800px; width: 1000px;\" class=\"plotly-graph-div\"></div><script type=\"text/javascript\">require([\"plotly\"], function(Plotly) { window.PLOTLYENV=window.PLOTLYENV || {};window.PLOTLYENV.BASE_URL=\"https://plot.ly\";Plotly.newPlot(\"7b44370d-5752-46d1-a7e8-80d17b0a1732\", [{\"type\": \"bar\", \"x\": [\"Alabama\", \"Mississippi\", \"Tennessee\", \"Ohio\", \"Indiana\", \"South Carolina\", \"Michigan\", \"Arkansas\", \"Oklahoma\", \"Kentucky\", \"Louisiana\", \"West Virginia\", \"Kansas\"], \"y\": [85.42353685448244, 84.29072073347409, 83.86016799456583, 83.4446924004773, 82.98550659991518, 82.84192906612057, 82.53959291842867, 82.46239659280212, 82.4592659802641, 82.45539211884963, 82.4385584529106, 82.37469007572567, 82.15348178197824], \"showlegend\": false, \"xaxis\": \"x1\", \"yaxis\": \"y1\"}, {\"type\": \"bar\", \"x\": [\"Hawaii\", \"Alaska\", \"Utah\", \"Wyoming\", \"Arizona\", \"California\", \"Arkansas\", \"Texas\", \"Nevada\", \"Montana\", \"Oregon\", \"Oklahoma\", \"Georgia\"], \"y\": [14.046828092745566, 12.565731719788657, 11.96823084413024, 11.21511836723428, 11.100768888190299, 10.91267200541864, 10.87056180633681, 10.841973337416944, 10.836150467584925, 10.485630319927385, 10.431787025545328, 10.42482385142035, 10.37415422857481], \"showlegend\": false, \"xaxis\": \"x1\", \"yaxis\": \"y1\"}, {\"type\": \"bar\", \"x\": [\"District of Columbia\", \"New York\", \"New Jersey\", \"Massachusetts\", \"Illinois\", \"Maryland\", \"Hawaii\", \"Pennsylvania\", \"Washington\", \"California\", \"Connecticut\", \"Virginia\", \"Oregon\"], \"y\": [37.4, 27.981358640959517, 10.938296763638435, 9.489038482244505, 9.084405396371734, 9.042499297702838, 6.391151739423836, 5.830623795390748, 5.659967641376438, 4.913541714599943, 4.877083074744617, 4.098447695972811, 4.094094535662146], \"showlegend\": false, \"xaxis\": \"x1\", \"yaxis\": \"y1\"}, {\"type\": \"bar\", \"x\": [\"District of Columbia\", \"Alaska\", \"New York\", \"Vermont\", \"Montana\", \"Massachusetts\", \"Hawaii\", \"South Dakota\", \"Oregon\", \"North Dakota\", \"Maine\", \"Pennsylvania\", \"Wyoming\"], \"y\": [12.9, 8.241294699164818, 6.292518797424351, 5.690334086600149, 4.917203623931826, 4.723897806992558, 4.48863072504496, 4.101368612056594, 4.021133911093861, 3.9881598858156417, 3.981786171093221, 3.9547310357110135, 3.7919829767854276], \"showlegend\": false, \"xaxis\": \"x1\", \"yaxis\": \"y1\"}, {\"type\": \"bar\", \"x\": [\"Alaska\", \"District of Columbia\", \"Hawaii\", \"Oregon\", \"Arizona\", \"California\", \"Montana\", \"Colorado\", \"Idaho\", \"Florida\", \"Nevada\", \"Wyoming\", \"Washington\"], \"y\": [6.143167138230782, 5.2, 3.530258358997624, 3.387261504968099, 2.724845421389693, 2.4943172675564873, 2.383224483319684, 2.3603219682259917, 2.347484855064529, 2.2355138856340186, 2.1530747835731403, 2.107282306241903, 2.0925200673856454], \"showlegend\": false, \"xaxis\": \"x1\", \"yaxis\": \"y1\"}, {\"type\": \"bar\", \"x\": [\"Puerto Rico\", \"Missouri\", \"North Carolina\", \"Nebraska\", \"Delaware\", \"New Hampshire\", \"Iowa\", \"Wisconsin\", \"Texas\", \"North Dakota\", \"Rhode Island\", \"Georgia\", \"Florida\"], \"y\": [81.79447253795838, 81.47424981572912, 81.29225892105424, 81.17436856900605, 81.13474765071985, 81.03343276436131, 80.62205716066393, 80.52717992336275, 80.24296450447639, 79.99054958150882, 79.78489808391883, 79.7692165033943, 79.62243276568617], \"showlegend\": false, \"xaxis\": \"x2\", \"yaxis\": \"y2\"}, {\"type\": \"bar\", \"x\": [\"Washington\", \"Maine\", \"New Mexico\", \"West Virginia\", \"Mississippi\", \"Idaho\", \"North Carolina\", \"Kentucky\", \"Louisiana\", \"Kansas\", \"Colorado\", \"Nebraska\", \"Florida\"], \"y\": [10.327103553894203, 10.32064524866451, 10.261481193234356, 10.128855473096325, 10.082382003700703, 10.071030845375978, 10.030754937390132, 9.874041360791365, 9.83328034163753, 9.625363162710375, 9.591715897195368, 9.562260339741034, 9.502783616749701], \"showlegend\": false, \"xaxis\": \"x2\", \"yaxis\": \"y2\"}, {\"type\": \"bar\", \"x\": [\"Nevada\", \"Minnesota\", \"Colorado\", \"Delaware\", \"Rhode Island\", \"Utah\", \"Puerto Rico\", \"Arizona\", \"Florida\", \"Georgia\", \"Wisconsin\", \"Ohio\", \"Alaska\"], \"y\": [3.611221252067078, 3.4533214028492543, 3.043118062719813, 2.972028292824036, 2.9659477763720967, 2.445079130213451, 2.202448233680977, 2.036389343576142, 2.034543198404217, 1.9810565888250984, 1.9124549360453649, 1.646181035086715, 1.5695937276291116], \"showlegend\": false, \"xaxis\": \"x2\", \"yaxis\": \"y2\"}, {\"type\": \"bar\", \"x\": [\"Rhode Island\", \"Iowa\", \"Washington\", \"Puerto Rico\", \"Wisconsin\", \"Illinois\", \"New Jersey\", \"Idaho\", \"Connecticut\", \"Colorado\", \"New Hampshire\", \"Minnesota\", \"Nebraska\"], \"y\": [3.7363235423917174, 3.4969058931458807, 3.4323320684209384, 3.381222012501559, 3.3159486649261933, 3.10977961296625, 3.066425490372021, 3.0271768776286745, 3.0153487872444282, 2.956439572896355, 2.891629593996682, 2.846846722496854, 2.8396178381428996], \"showlegend\": false, \"xaxis\": \"x2\", \"yaxis\": \"y2\"}, {\"type\": \"bar\", \"x\": [\"Louisiana\", \"New Mexico\", \"Utah\", \"New Jersey\", \"Puerto Rico\", \"New York\", \"Texas\", \"Massachusetts\", \"Wisconsin\", \"Illinois\", \"Minnesota\", \"Maine\", \"Georgia\"], \"y\": [2.052286739774019, 1.9987484387872658, 1.977197327665455, 1.8707569269305004, 1.862436461662936, 1.8604428395743358, 1.7358271272192292, 1.7191836477826097, 1.6807191319856427, 1.6602538061721037, 1.650145382015072, 1.6301828304867956, 1.5933412267169582], \"showlegend\": false, \"xaxis\": \"x2\", \"yaxis\": \"y2\"}, {\"type\": \"bar\", \"x\": [\"New Mexico\", \"South Dakota\", \"Connecticut\", \"Virginia\", \"Maine\", \"Minnesota\", \"Nevada\", \"Idaho\", \"Wyoming\", \"Arizona\", \"Pennsylvania\", \"Utah\", \"Colorado\"], \"y\": [79.61893171064771, 78.59351937285784, 78.3022187607668, 78.07897552633456, 78.03428508012942, 78.0296525797027, 78.00188298871306, 77.90126553697479, 76.84378423230788, 76.52867327077318, 76.11878830873586, 75.92484415572338, 75.44704571363839], \"showlegend\": false, \"xaxis\": \"x3\", \"yaxis\": \"y3\"}, {\"type\": \"bar\", \"x\": [\"Virginia\", \"Missouri\", \"South Dakota\", \"Vermont\", \"Maryland\", \"South Carolina\", \"Tennessee\", \"Alabama\", \"North Dakota\", \"Indiana\", \"Michigan\", \"Iowa\", \"Minnesota\"], \"y\": [9.489978211449468, 9.464620603799753, 9.447684744838057, 9.44461190799931, 9.443247121930591, 9.364050493388278, 9.267402807704764, 9.245189727198577, 9.203020203979824, 9.050048404199039, 8.934669757936186, 8.795076750607556, 8.788322605062662], \"showlegend\": false, \"xaxis\": \"x3\", \"yaxis\": \"y3\"}, {\"type\": \"bar\", \"x\": [\"Wyoming\", \"Texas\", \"Missouri\", \"Michigan\", \"Louisiana\", \"Vermont\", \"Indiana\", \"Iowa\", \"New Mexico\", \"North Carolina\", \"Kentucky\", \"New Hampshire\", \"Montana\"], \"y\": [1.556640485510084, 1.513875415649062, 1.463595088403705, 1.4398223193389554, 1.3162604294294813, 1.1513279519441304, 1.1014964425692053, 1.0914353718055059, 1.046654194558175, 1.0411520057269774, 1.0162375865662825, 0.8638883371935228, 0.8172918274286265], \"showlegend\": false, \"xaxis\": \"x3\", \"yaxis\": \"y3\"}, {\"type\": \"bar\", \"x\": [\"West Virginia\", \"California\", \"Utah\", \"Maryland\", \"Kansas\", \"Kentucky\", \"Ohio\", \"Virginia\", \"New Mexico\", \"Michigan\", \"Nevada\", \"Delaware\", \"South Carolina\"], \"y\": [2.781299218977866, 2.649466129140732, 2.569182769455865, 2.470085294116655, 2.359241192580539, 2.314162952121425, 2.3057318012984984, 2.298581661040884, 2.256598214015816, 2.2075015572334156, 2.1826628400406487, 2.1678449226836953, 2.16532865201935], \"showlegend\": false, \"xaxis\": \"x3\", \"yaxis\": \"y3\"}, {\"type\": \"bar\", \"x\": [\"Vermont\", \"South Carolina\", \"Virginia\", \"Iowa\", \"South Dakota\", \"Rhode Island\", \"Mississippi\", \"Indiana\", \"Pennsylvania\", \"Oklahoma\", \"Kansas\", \"Nebraska\", \"North Carolina\"], \"y\": [1.5871172223605337, 1.5775392793332852, 1.556761184647974, 1.528806546316404, 1.5209199587281637, 1.5142161473187297, 1.4735878311197055, 1.4698759942118957, 1.4111074177129272, 1.3802016659337155, 1.3336452946383792, 1.330409417101529, 1.3105333156328993], \"showlegend\": false, \"xaxis\": \"x3\", \"yaxis\": \"y3\"}, {\"type\": \"bar\", \"x\": [\"Vermont\", \"Montana\", \"California\", \"Maryland\", \"Illinois\", \"Washington\", \"New Jersey\", \"Oregon\", \"Massachusetts\", \"Hawaii\", \"Alaska\", \"New York\", \"District of Columbia\"], \"y\": [75.37057359991319, 75.0336949183945, 73.73619696271855, 73.58466064967462, 73.43074547523446, 73.02471696940962, 72.00355271032464, 71.81365222620747, 71.78749511228399, 66.91372773499803, 66.86735817283109, 53.215070247434404, 33.7], \"showlegend\": false, \"xaxis\": \"x4\", \"yaxis\": \"y4\"}, {\"type\": \"bar\", \"x\": [\"Pennsylvania\", \"Puerto Rico\", \"Rhode Island\", \"Illinois\", \"Wisconsin\", \"Delaware\", \"Connecticut\", \"New Jersey\", \"New Hampshire\", \"Ohio\", \"Massachusetts\", \"New York\", \"District of Columbia\"], \"y\": [8.746726479372255, 8.684692915829512, 8.534816131564137, 8.526308232691285, 8.496623126975646, 8.403599854930738, 8.227782168761072, 8.145861563249595, 7.9933828021576785, 7.966126954122315, 7.727871479092208, 6.7718710768277655, 5.7], \"showlegend\": false, \"xaxis\": \"x4\", \"yaxis\": \"y4\"}, {\"type\": \"bar\", \"x\": [\"West Virginia\", \"Tennessee\", \"Idaho\", \"Nebraska\", \"Maine\", \"South Carolina\", \"South Dakota\", \"Kansas\", \"Oklahoma\", \"North Dakota\", \"Arkansas\", \"Mississippi\", \"Alabama\"], \"y\": [0.7664221516457637, 0.7633396901201069, 0.7589676019317719, 0.722382948220385, 0.6198190504852908, 0.5957426108972417, 0.5441000249054188, 0.47575602655663496, 0.4536620851368133, 0.45249390277700796, 0.42538073725715037, 0.40785735058721645, 0.4075812835619444], \"showlegend\": false, \"xaxis\": \"x4\", \"yaxis\": \"y4\"}, {\"type\": \"bar\", \"x\": [\"Arizona\", \"Indiana\", \"Missouri\", \"Louisiana\", \"Oklahoma\", \"North Carolina\", \"Arkansas\", \"Texas\", \"Georgia\", \"Mississippi\", \"Florida\", \"Tennessee\", \"Alabama\"], \"y\": [2.1056283958513253, 2.094610852009813, 1.9743485677157422, 1.8979710515295056, 1.7847449160759978, 1.7763422019346622, 1.7747108046493005, 1.6232683025571708, 1.5885552299845709, 1.5352448611667484, 1.449283189278588, 1.3211416983929045, 1.121333700435969], \"showlegend\": false, \"xaxis\": \"x4\", \"yaxis\": \"y4\"}, {\"type\": \"bar\", \"x\": [\"Michigan\", \"Missouri\", \"Kentucky\", \"Maryland\", \"Arkansas\", \"New Hampshire\", \"Tennessee\", \"North Dakota\", \"Connecticut\", \"Delaware\", \"Ohio\", \"West Virginia\", \"Alabama\"], \"y\": [1.2923792375207452, 1.2863105430730692, 1.2703741773744341, 1.2634432154384643, 1.2564105363787808, 1.2502733346372643, 1.2127137530453729, 1.1786303419987807, 1.1678132884636683, 1.1342551276156183, 1.1242510588955035, 1.0864038953884048, 1.0415444601314117], \"showlegend\": false, \"xaxis\": \"x4\", \"yaxis\": \"y4\"}], {\"xaxis1\": {\"domain\": [0.0, 0.45], \"anchor\": \"y1\"}, \"yaxis1\": {\"domain\": [0.625, 1.0], \"anchor\": \"x1\"}, \"xaxis2\": {\"domain\": [0.55, 1.0], \"anchor\": \"y2\"}, \"yaxis2\": {\"domain\": [0.625, 1.0], \"anchor\": \"x2\"}, \"xaxis3\": {\"domain\": [0.0, 0.45], \"anchor\": \"y3\"}, \"yaxis3\": {\"domain\": [0.0, 0.375], \"anchor\": \"x3\"}, \"xaxis4\": {\"domain\": [0.55, 1.0], \"anchor\": \"y4\"}, \"yaxis4\": {\"domain\": [0.0, 0.375], \"anchor\": \"x4\"}, \"annotations\": [{\"y\": 1.0, \"xref\": \"paper\", \"x\": 0.225, \"yref\": \"paper\", \"text\": \"1st Quartile\", \"showarrow\": false, \"font\": {\"size\": 16}, \"xanchor\": \"center\", \"yanchor\": \"bottom\"}, {\"y\": 1.0, \"xref\": \"paper\", \"x\": 0.775, \"yref\": \"paper\", \"text\": \"2nd Quartile\", \"showarrow\": false, \"font\": {\"size\": 16}, \"xanchor\": \"center\", \"yanchor\": \"bottom\"}, {\"y\": 0.375, \"xref\": \"paper\", \"x\": 0.225, \"yref\": \"paper\", \"text\": \"3rd Quartile\", \"showarrow\": false, \"font\": {\"size\": 16}, \"xanchor\": \"center\", \"yanchor\": \"bottom\"}, {\"y\": 0.375, \"xref\": \"paper\", \"x\": 0.775, \"yref\": \"paper\", \"text\": \"4th Quartile\", \"showarrow\": false, \"font\": {\"size\": 16}, \"xanchor\": \"center\", \"yanchor\": \"bottom\"}], \"title\": \"Transportation across the states\", \"showlegend\": false, \"updatemenus\": [{\"active\": -1, \"x\": -0.15, \"buttons\": [{\"label\": \"Drive\", \"method\": \"update\", \"args\": [{\"visible\": [true, false, false, false, false]}, {\"title\": \"Drive\"}]}, {\"label\": \"Carpool\", \"method\": \"update\", \"args\": [{\"visible\": [false, true, false, false, false]}, {\"title\": \"Carpool\"}]}, {\"label\": \"Transit\", \"method\": \"update\", \"args\": [{\"visible\": [false, false, true, false, false]}, {\"title\": \"Transit\"}]}, {\"label\": \"Walk\", \"method\": \"update\", \"args\": [{\"visible\": [false, false, false, true, false]}, {\"title\": \"Walk\"}]}, {\"label\": \"OtherTransp\", \"method\": \"update\", \"args\": [{\"visible\": [false, false, false, false, true]}, {\"title\": \"OtherTransp\"}]}]}], \"height\": 800, \"width\": 1000}, {\"showLink\": true, \"linkText\": \"Export to plot.ly\"})});</script>"
      ],
      "text/vnd.plotly.v1+html": [
       "<div id=\"7b44370d-5752-46d1-a7e8-80d17b0a1732\" style=\"height: 800px; width: 1000px;\" class=\"plotly-graph-div\"></div><script type=\"text/javascript\">require([\"plotly\"], function(Plotly) { window.PLOTLYENV=window.PLOTLYENV || {};window.PLOTLYENV.BASE_URL=\"https://plot.ly\";Plotly.newPlot(\"7b44370d-5752-46d1-a7e8-80d17b0a1732\", [{\"type\": \"bar\", \"x\": [\"Alabama\", \"Mississippi\", \"Tennessee\", \"Ohio\", \"Indiana\", \"South Carolina\", \"Michigan\", \"Arkansas\", \"Oklahoma\", \"Kentucky\", \"Louisiana\", \"West Virginia\", \"Kansas\"], \"y\": [85.42353685448244, 84.29072073347409, 83.86016799456583, 83.4446924004773, 82.98550659991518, 82.84192906612057, 82.53959291842867, 82.46239659280212, 82.4592659802641, 82.45539211884963, 82.4385584529106, 82.37469007572567, 82.15348178197824], \"showlegend\": false, \"xaxis\": \"x1\", \"yaxis\": \"y1\"}, {\"type\": \"bar\", \"x\": [\"Hawaii\", \"Alaska\", \"Utah\", \"Wyoming\", \"Arizona\", \"California\", \"Arkansas\", \"Texas\", \"Nevada\", \"Montana\", \"Oregon\", \"Oklahoma\", \"Georgia\"], \"y\": [14.046828092745566, 12.565731719788657, 11.96823084413024, 11.21511836723428, 11.100768888190299, 10.91267200541864, 10.87056180633681, 10.841973337416944, 10.836150467584925, 10.485630319927385, 10.431787025545328, 10.42482385142035, 10.37415422857481], \"showlegend\": false, \"xaxis\": \"x1\", \"yaxis\": \"y1\"}, {\"type\": \"bar\", \"x\": [\"District of Columbia\", \"New York\", \"New Jersey\", \"Massachusetts\", \"Illinois\", \"Maryland\", \"Hawaii\", \"Pennsylvania\", \"Washington\", \"California\", \"Connecticut\", \"Virginia\", \"Oregon\"], \"y\": [37.4, 27.981358640959517, 10.938296763638435, 9.489038482244505, 9.084405396371734, 9.042499297702838, 6.391151739423836, 5.830623795390748, 5.659967641376438, 4.913541714599943, 4.877083074744617, 4.098447695972811, 4.094094535662146], \"showlegend\": false, \"xaxis\": \"x1\", \"yaxis\": \"y1\"}, {\"type\": \"bar\", \"x\": [\"District of Columbia\", \"Alaska\", \"New York\", \"Vermont\", \"Montana\", \"Massachusetts\", \"Hawaii\", \"South Dakota\", \"Oregon\", \"North Dakota\", \"Maine\", \"Pennsylvania\", \"Wyoming\"], \"y\": [12.9, 8.241294699164818, 6.292518797424351, 5.690334086600149, 4.917203623931826, 4.723897806992558, 4.48863072504496, 4.101368612056594, 4.021133911093861, 3.9881598858156417, 3.981786171093221, 3.9547310357110135, 3.7919829767854276], \"showlegend\": false, \"xaxis\": \"x1\", \"yaxis\": \"y1\"}, {\"type\": \"bar\", \"x\": [\"Alaska\", \"District of Columbia\", \"Hawaii\", \"Oregon\", \"Arizona\", \"California\", \"Montana\", \"Colorado\", \"Idaho\", \"Florida\", \"Nevada\", \"Wyoming\", \"Washington\"], \"y\": [6.143167138230782, 5.2, 3.530258358997624, 3.387261504968099, 2.724845421389693, 2.4943172675564873, 2.383224483319684, 2.3603219682259917, 2.347484855064529, 2.2355138856340186, 2.1530747835731403, 2.107282306241903, 2.0925200673856454], \"showlegend\": false, \"xaxis\": \"x1\", \"yaxis\": \"y1\"}, {\"type\": \"bar\", \"x\": [\"Puerto Rico\", \"Missouri\", \"North Carolina\", \"Nebraska\", \"Delaware\", \"New Hampshire\", \"Iowa\", \"Wisconsin\", \"Texas\", \"North Dakota\", \"Rhode Island\", \"Georgia\", \"Florida\"], \"y\": [81.79447253795838, 81.47424981572912, 81.29225892105424, 81.17436856900605, 81.13474765071985, 81.03343276436131, 80.62205716066393, 80.52717992336275, 80.24296450447639, 79.99054958150882, 79.78489808391883, 79.7692165033943, 79.62243276568617], \"showlegend\": false, \"xaxis\": \"x2\", \"yaxis\": \"y2\"}, {\"type\": \"bar\", \"x\": [\"Washington\", \"Maine\", \"New Mexico\", \"West Virginia\", \"Mississippi\", \"Idaho\", \"North Carolina\", \"Kentucky\", \"Louisiana\", \"Kansas\", \"Colorado\", \"Nebraska\", \"Florida\"], \"y\": [10.327103553894203, 10.32064524866451, 10.261481193234356, 10.128855473096325, 10.082382003700703, 10.071030845375978, 10.030754937390132, 9.874041360791365, 9.83328034163753, 9.625363162710375, 9.591715897195368, 9.562260339741034, 9.502783616749701], \"showlegend\": false, \"xaxis\": \"x2\", \"yaxis\": \"y2\"}, {\"type\": \"bar\", \"x\": [\"Nevada\", \"Minnesota\", \"Colorado\", \"Delaware\", \"Rhode Island\", \"Utah\", \"Puerto Rico\", \"Arizona\", \"Florida\", \"Georgia\", \"Wisconsin\", \"Ohio\", \"Alaska\"], \"y\": [3.611221252067078, 3.4533214028492543, 3.043118062719813, 2.972028292824036, 2.9659477763720967, 2.445079130213451, 2.202448233680977, 2.036389343576142, 2.034543198404217, 1.9810565888250984, 1.9124549360453649, 1.646181035086715, 1.5695937276291116], \"showlegend\": false, \"xaxis\": \"x2\", \"yaxis\": \"y2\"}, {\"type\": \"bar\", \"x\": [\"Rhode Island\", \"Iowa\", \"Washington\", \"Puerto Rico\", \"Wisconsin\", \"Illinois\", \"New Jersey\", \"Idaho\", \"Connecticut\", \"Colorado\", \"New Hampshire\", \"Minnesota\", \"Nebraska\"], \"y\": [3.7363235423917174, 3.4969058931458807, 3.4323320684209384, 3.381222012501559, 3.3159486649261933, 3.10977961296625, 3.066425490372021, 3.0271768776286745, 3.0153487872444282, 2.956439572896355, 2.891629593996682, 2.846846722496854, 2.8396178381428996], \"showlegend\": false, \"xaxis\": \"x2\", \"yaxis\": \"y2\"}, {\"type\": \"bar\", \"x\": [\"Louisiana\", \"New Mexico\", \"Utah\", \"New Jersey\", \"Puerto Rico\", \"New York\", \"Texas\", \"Massachusetts\", \"Wisconsin\", \"Illinois\", \"Minnesota\", \"Maine\", \"Georgia\"], \"y\": [2.052286739774019, 1.9987484387872658, 1.977197327665455, 1.8707569269305004, 1.862436461662936, 1.8604428395743358, 1.7358271272192292, 1.7191836477826097, 1.6807191319856427, 1.6602538061721037, 1.650145382015072, 1.6301828304867956, 1.5933412267169582], \"showlegend\": false, \"xaxis\": \"x2\", \"yaxis\": \"y2\"}, {\"type\": \"bar\", \"x\": [\"New Mexico\", \"South Dakota\", \"Connecticut\", \"Virginia\", \"Maine\", \"Minnesota\", \"Nevada\", \"Idaho\", \"Wyoming\", \"Arizona\", \"Pennsylvania\", \"Utah\", \"Colorado\"], \"y\": [79.61893171064771, 78.59351937285784, 78.3022187607668, 78.07897552633456, 78.03428508012942, 78.0296525797027, 78.00188298871306, 77.90126553697479, 76.84378423230788, 76.52867327077318, 76.11878830873586, 75.92484415572338, 75.44704571363839], \"showlegend\": false, \"xaxis\": \"x3\", \"yaxis\": \"y3\"}, {\"type\": \"bar\", \"x\": [\"Virginia\", \"Missouri\", \"South Dakota\", \"Vermont\", \"Maryland\", \"South Carolina\", \"Tennessee\", \"Alabama\", \"North Dakota\", \"Indiana\", \"Michigan\", \"Iowa\", \"Minnesota\"], \"y\": [9.489978211449468, 9.464620603799753, 9.447684744838057, 9.44461190799931, 9.443247121930591, 9.364050493388278, 9.267402807704764, 9.245189727198577, 9.203020203979824, 9.050048404199039, 8.934669757936186, 8.795076750607556, 8.788322605062662], \"showlegend\": false, \"xaxis\": \"x3\", \"yaxis\": \"y3\"}, {\"type\": \"bar\", \"x\": [\"Wyoming\", \"Texas\", \"Missouri\", \"Michigan\", \"Louisiana\", \"Vermont\", \"Indiana\", \"Iowa\", \"New Mexico\", \"North Carolina\", \"Kentucky\", \"New Hampshire\", \"Montana\"], \"y\": [1.556640485510084, 1.513875415649062, 1.463595088403705, 1.4398223193389554, 1.3162604294294813, 1.1513279519441304, 1.1014964425692053, 1.0914353718055059, 1.046654194558175, 1.0411520057269774, 1.0162375865662825, 0.8638883371935228, 0.8172918274286265], \"showlegend\": false, \"xaxis\": \"x3\", \"yaxis\": \"y3\"}, {\"type\": \"bar\", \"x\": [\"West Virginia\", \"California\", \"Utah\", \"Maryland\", \"Kansas\", \"Kentucky\", \"Ohio\", \"Virginia\", \"New Mexico\", \"Michigan\", \"Nevada\", \"Delaware\", \"South Carolina\"], \"y\": [2.781299218977866, 2.649466129140732, 2.569182769455865, 2.470085294116655, 2.359241192580539, 2.314162952121425, 2.3057318012984984, 2.298581661040884, 2.256598214015816, 2.2075015572334156, 2.1826628400406487, 2.1678449226836953, 2.16532865201935], \"showlegend\": false, \"xaxis\": \"x3\", \"yaxis\": \"y3\"}, {\"type\": \"bar\", \"x\": [\"Vermont\", \"South Carolina\", \"Virginia\", \"Iowa\", \"South Dakota\", \"Rhode Island\", \"Mississippi\", \"Indiana\", \"Pennsylvania\", \"Oklahoma\", \"Kansas\", \"Nebraska\", \"North Carolina\"], \"y\": [1.5871172223605337, 1.5775392793332852, 1.556761184647974, 1.528806546316404, 1.5209199587281637, 1.5142161473187297, 1.4735878311197055, 1.4698759942118957, 1.4111074177129272, 1.3802016659337155, 1.3336452946383792, 1.330409417101529, 1.3105333156328993], \"showlegend\": false, \"xaxis\": \"x3\", \"yaxis\": \"y3\"}, {\"type\": \"bar\", \"x\": [\"Vermont\", \"Montana\", \"California\", \"Maryland\", \"Illinois\", \"Washington\", \"New Jersey\", \"Oregon\", \"Massachusetts\", \"Hawaii\", \"Alaska\", \"New York\", \"District of Columbia\"], \"y\": [75.37057359991319, 75.0336949183945, 73.73619696271855, 73.58466064967462, 73.43074547523446, 73.02471696940962, 72.00355271032464, 71.81365222620747, 71.78749511228399, 66.91372773499803, 66.86735817283109, 53.215070247434404, 33.7], \"showlegend\": false, \"xaxis\": \"x4\", \"yaxis\": \"y4\"}, {\"type\": \"bar\", \"x\": [\"Pennsylvania\", \"Puerto Rico\", \"Rhode Island\", \"Illinois\", \"Wisconsin\", \"Delaware\", \"Connecticut\", \"New Jersey\", \"New Hampshire\", \"Ohio\", \"Massachusetts\", \"New York\", \"District of Columbia\"], \"y\": [8.746726479372255, 8.684692915829512, 8.534816131564137, 8.526308232691285, 8.496623126975646, 8.403599854930738, 8.227782168761072, 8.145861563249595, 7.9933828021576785, 7.966126954122315, 7.727871479092208, 6.7718710768277655, 5.7], \"showlegend\": false, \"xaxis\": \"x4\", \"yaxis\": \"y4\"}, {\"type\": \"bar\", \"x\": [\"West Virginia\", \"Tennessee\", \"Idaho\", \"Nebraska\", \"Maine\", \"South Carolina\", \"South Dakota\", \"Kansas\", \"Oklahoma\", \"North Dakota\", \"Arkansas\", \"Mississippi\", \"Alabama\"], \"y\": [0.7664221516457637, 0.7633396901201069, 0.7589676019317719, 0.722382948220385, 0.6198190504852908, 0.5957426108972417, 0.5441000249054188, 0.47575602655663496, 0.4536620851368133, 0.45249390277700796, 0.42538073725715037, 0.40785735058721645, 0.4075812835619444], \"showlegend\": false, \"xaxis\": \"x4\", \"yaxis\": \"y4\"}, {\"type\": \"bar\", \"x\": [\"Arizona\", \"Indiana\", \"Missouri\", \"Louisiana\", \"Oklahoma\", \"North Carolina\", \"Arkansas\", \"Texas\", \"Georgia\", \"Mississippi\", \"Florida\", \"Tennessee\", \"Alabama\"], \"y\": [2.1056283958513253, 2.094610852009813, 1.9743485677157422, 1.8979710515295056, 1.7847449160759978, 1.7763422019346622, 1.7747108046493005, 1.6232683025571708, 1.5885552299845709, 1.5352448611667484, 1.449283189278588, 1.3211416983929045, 1.121333700435969], \"showlegend\": false, \"xaxis\": \"x4\", \"yaxis\": \"y4\"}, {\"type\": \"bar\", \"x\": [\"Michigan\", \"Missouri\", \"Kentucky\", \"Maryland\", \"Arkansas\", \"New Hampshire\", \"Tennessee\", \"North Dakota\", \"Connecticut\", \"Delaware\", \"Ohio\", \"West Virginia\", \"Alabama\"], \"y\": [1.2923792375207452, 1.2863105430730692, 1.2703741773744341, 1.2634432154384643, 1.2564105363787808, 1.2502733346372643, 1.2127137530453729, 1.1786303419987807, 1.1678132884636683, 1.1342551276156183, 1.1242510588955035, 1.0864038953884048, 1.0415444601314117], \"showlegend\": false, \"xaxis\": \"x4\", \"yaxis\": \"y4\"}], {\"xaxis1\": {\"domain\": [0.0, 0.45], \"anchor\": \"y1\"}, \"yaxis1\": {\"domain\": [0.625, 1.0], \"anchor\": \"x1\"}, \"xaxis2\": {\"domain\": [0.55, 1.0], \"anchor\": \"y2\"}, \"yaxis2\": {\"domain\": [0.625, 1.0], \"anchor\": \"x2\"}, \"xaxis3\": {\"domain\": [0.0, 0.45], \"anchor\": \"y3\"}, \"yaxis3\": {\"domain\": [0.0, 0.375], \"anchor\": \"x3\"}, \"xaxis4\": {\"domain\": [0.55, 1.0], \"anchor\": \"y4\"}, \"yaxis4\": {\"domain\": [0.0, 0.375], \"anchor\": \"x4\"}, \"annotations\": [{\"y\": 1.0, \"xref\": \"paper\", \"x\": 0.225, \"yref\": \"paper\", \"text\": \"1st Quartile\", \"showarrow\": false, \"font\": {\"size\": 16}, \"xanchor\": \"center\", \"yanchor\": \"bottom\"}, {\"y\": 1.0, \"xref\": \"paper\", \"x\": 0.775, \"yref\": \"paper\", \"text\": \"2nd Quartile\", \"showarrow\": false, \"font\": {\"size\": 16}, \"xanchor\": \"center\", \"yanchor\": \"bottom\"}, {\"y\": 0.375, \"xref\": \"paper\", \"x\": 0.225, \"yref\": \"paper\", \"text\": \"3rd Quartile\", \"showarrow\": false, \"font\": {\"size\": 16}, \"xanchor\": \"center\", \"yanchor\": \"bottom\"}, {\"y\": 0.375, \"xref\": \"paper\", \"x\": 0.775, \"yref\": \"paper\", \"text\": \"4th Quartile\", \"showarrow\": false, \"font\": {\"size\": 16}, \"xanchor\": \"center\", \"yanchor\": \"bottom\"}], \"title\": \"Transportation across the states\", \"showlegend\": false, \"updatemenus\": [{\"active\": -1, \"x\": -0.15, \"buttons\": [{\"label\": \"Drive\", \"method\": \"update\", \"args\": [{\"visible\": [true, false, false, false, false]}, {\"title\": \"Drive\"}]}, {\"label\": \"Carpool\", \"method\": \"update\", \"args\": [{\"visible\": [false, true, false, false, false]}, {\"title\": \"Carpool\"}]}, {\"label\": \"Transit\", \"method\": \"update\", \"args\": [{\"visible\": [false, false, true, false, false]}, {\"title\": \"Transit\"}]}, {\"label\": \"Walk\", \"method\": \"update\", \"args\": [{\"visible\": [false, false, false, true, false]}, {\"title\": \"Walk\"}]}, {\"label\": \"OtherTransp\", \"method\": \"update\", \"args\": [{\"visible\": [false, false, false, false, true]}, {\"title\": \"OtherTransp\"}]}]}], \"height\": 800, \"width\": 1000}, {\"showLink\": true, \"linkText\": \"Export to plot.ly\"})});</script>"
      ]
     },
     "metadata": {},
     "output_type": "display_data"
    }
   ],
   "source": [
    "transportations = ['Drive', 'Carpool', 'Transit', 'Walk', 'OtherTransp']\n",
    "\n",
    "datas = []\n",
    "for tran in transportations:\n",
    "    county[\"trans\"] = county.TotalPop * county[tran]\n",
    "    data = county.groupby(\"State\")[\"trans\"].sum() / county.groupby(\"State\")[\"TotalPop\"].sum()\n",
    "    datas.append(data.sort_values(ascending=False))\n",
    "\n",
    "### Create individual figures\n",
    "fig = tools.make_subplots(rows=2, cols=2, subplot_titles=('1st Quartile', '2nd Quartile',\n",
    "                                                          '3rd Quartile', '4th Quartile'))\n",
    "\n",
    "for i in range(4):\n",
    "    for data in datas:\n",
    "        start_i = 13 * i\n",
    "        end_i   = start_i + 13\n",
    "        \n",
    "        trace = go.Bar(\n",
    "                        x=data.iloc[start_i: end_i].index,\n",
    "                        y=data.iloc[start_i: end_i].values, \n",
    "                        showlegend=False\n",
    "                    )\n",
    "        \n",
    "        row_num = 1 + (i // 2)\n",
    "        col_num = 1 + (i % 2)\n",
    "        fig.append_trace(trace, row_num, col_num)\n",
    "\n",
    "### Create buttons for drop down menu\n",
    "buttons = []\n",
    "for i, label in enumerate(transportations):\n",
    "    visibility = [i==j for j in range(len(transportations))]\n",
    "    button = dict(\n",
    "                 label =  label,\n",
    "                 method = 'update',\n",
    "                 args = [{'visible': visibility},\n",
    "                     {'title': label}])\n",
    "    buttons.append(button)\n",
    "\n",
    "updatemenus = list([\n",
    "    dict(active=-1,\n",
    "         x=-0.15,\n",
    "         buttons=buttons\n",
    "    )\n",
    "])\n",
    "\n",
    "fig['layout']['title'] = 'Transportation across the states'\n",
    "fig['layout']['showlegend'] = False\n",
    "fig['layout']['updatemenus'] = updatemenus\n",
    "fig['layout'].update(height=800, width=1000)\n",
    "\n",
    "iplot(fig, filename='dropdown')"
   ]
  },
  {
   "cell_type": "markdown",
   "metadata": {},
   "source": [
    "### Testing plotly - County"
   ]
  },
  {
   "cell_type": "code",
   "execution_count": 3,
   "metadata": {},
   "outputs": [
    {
     "data": {
      "application/vnd.plotly.v1+json": {
       "data": [
        {
         "showlegend": false,
         "type": "box",
         "x": [
          [
           "Texas",
           "Kenedy"
          ],
          [
           "Alabama",
           "Conecuh"
          ],
          [
           "Virginia",
           "Norton city"
          ],
          [
           "North Carolina",
           "Clay"
          ],
          [
           "Puerto Rico",
           "Hatillo"
          ],
          [
           "Virginia",
           "Covington city"
          ],
          [
           "Georgia",
           "Wheeler"
          ],
          [
           "Georgia",
           "Webster"
          ],
          [
           "Puerto Rico",
           "Lares"
          ],
          [
           "Puerto Rico",
           "Lajas"
          ]
         ],
         "y": [
          94.6,
          93.6,
          92.9,
          92.9,
          92.7,
          92.7,
          92.6,
          92.3,
          92.2,
          91.7
         ]
        },
        {
         "showlegend": false,
         "type": "box",
         "x": [
          [
           "Georgia",
           "Clay"
          ],
          [
           "Indiana",
           "LaGrange"
          ],
          [
           "Georgia",
           "Jenkins"
          ],
          [
           "Arkansas",
           "Sevier"
          ],
          [
           "Kansas",
           "Seward"
          ],
          [
           "Texas",
           "Cochran"
          ],
          [
           "Texas",
           "Jim Hogg"
          ],
          [
           "Texas",
           "Roberts"
          ],
          [
           "Ohio",
           "Holmes"
          ],
          [
           "Kentucky",
           "Powell"
          ]
         ],
         "y": [
          29.9,
          27,
          25.3,
          24.4,
          23.4,
          22.8,
          22.6,
          22.4,
          21.8,
          21.6
         ]
        },
        {
         "showlegend": false,
         "type": "box",
         "x": [
          [
           "New York",
           "Kings"
          ],
          [
           "New York",
           "Bronx"
          ],
          [
           "New York",
           "New York"
          ],
          [
           "New York",
           "Queens"
          ],
          [
           "New Jersey",
           "Hudson"
          ],
          [
           "District of Columbia",
           "District of Columbia"
          ],
          [
           "California",
           "San Francisco"
          ],
          [
           "Massachusetts",
           "Suffolk"
          ],
          [
           "New York",
           "Richmond"
          ],
          [
           "Virginia",
           "Arlington"
          ]
         ],
         "y": [
          61.7,
          59.7,
          59.2,
          52.3,
          41,
          37.4,
          33.1,
          32.5,
          29.8,
          26.4
         ]
        },
        {
         "showlegend": false,
         "type": "box",
         "x": [
          [
           "Alaska",
           "Aleutians East Borough"
          ],
          [
           "Alaska",
           "Kusilvak Census Area"
          ],
          [
           "Alaska",
           "Northwest Arctic Borough"
          ],
          [
           "Alaska",
           "Aleutians West Census Area"
          ],
          [
           "Hawaii",
           "Kalawao"
          ],
          [
           "Alaska",
           "Yukon-Koyukuk Census Area"
          ],
          [
           "Alaska",
           "North Slope Borough"
          ],
          [
           "Alaska",
           "Skagway Municipality"
          ],
          [
           "Alaska",
           "Nome Census Area"
          ],
          [
           "Alaska",
           "Lake and Peninsula Borough"
          ]
         ],
         "y": [
          71.2,
          47.6,
          46.9,
          42.5,
          40.3,
          38.1,
          37.9,
          37.8,
          36.9,
          36.2
         ]
        },
        {
         "showlegend": false,
         "type": "box",
         "x": [
          [
           "Alaska",
           "Kusilvak Census Area"
          ],
          [
           "Alaska",
           "Lake and Peninsula Borough"
          ],
          [
           "Alaska",
           "Nome Census Area"
          ],
          [
           "Alaska",
           "Bethel Census Area"
          ],
          [
           "Alaska",
           "Northwest Arctic Borough"
          ],
          [
           "Alaska",
           "Yukon-Koyukuk Census Area"
          ],
          [
           "Colorado",
           "San Juan"
          ],
          [
           "Alaska",
           "Dillingham Census Area"
          ],
          [
           "Hawaii",
           "Kalawao"
          ],
          [
           "Indiana",
           "LaGrange"
          ]
         ],
         "y": [
          39.1,
          32.4,
          22.7,
          22.6,
          21.2,
          20.1,
          19.9,
          17.7,
          14.9,
          11.5
         ]
        }
       ],
       "layout": {
        "showlegend": false,
        "title": "Counties with most popular transportation methods",
        "updatemenus": [
         {
          "active": -1,
          "buttons": [
           {
            "args": [
             {
              "visible": [
               true,
               false,
               false,
               false,
               false
              ]
             },
             {
              "title": "Top counties for Drive"
             }
            ],
            "label": "Drive",
            "method": "update"
           },
           {
            "args": [
             {
              "visible": [
               false,
               true,
               false,
               false,
               false
              ]
             },
             {
              "title": "Top counties for Carpool"
             }
            ],
            "label": "Carpool",
            "method": "update"
           },
           {
            "args": [
             {
              "visible": [
               false,
               false,
               true,
               false,
               false
              ]
             },
             {
              "title": "Top counties for Transit"
             }
            ],
            "label": "Transit",
            "method": "update"
           },
           {
            "args": [
             {
              "visible": [
               false,
               false,
               false,
               true,
               false
              ]
             },
             {
              "title": "Top counties for Walk"
             }
            ],
            "label": "Walk",
            "method": "update"
           },
           {
            "args": [
             {
              "visible": [
               false,
               false,
               false,
               false,
               true
              ]
             },
             {
              "title": "Top counties for OtherTransp"
             }
            ],
            "label": "OtherTransp",
            "method": "update"
           }
          ],
          "x": -0.15
         }
        ]
       }
      },
      "text/html": [
       "<div id=\"4c1dc2a1-fb07-4b16-b8ac-418d22ba2e69\" style=\"height: 525px; width: 100%;\" class=\"plotly-graph-div\"></div><script type=\"text/javascript\">require([\"plotly\"], function(Plotly) { window.PLOTLYENV=window.PLOTLYENV || {};window.PLOTLYENV.BASE_URL=\"https://plot.ly\";Plotly.newPlot(\"4c1dc2a1-fb07-4b16-b8ac-418d22ba2e69\", [{\"type\": \"box\", \"x\": [[\"Texas\", \"Kenedy\"], [\"Alabama\", \"Conecuh\"], [\"Virginia\", \"Norton city\"], [\"North Carolina\", \"Clay\"], [\"Puerto Rico\", \"Hatillo\"], [\"Virginia\", \"Covington city\"], [\"Georgia\", \"Wheeler\"], [\"Georgia\", \"Webster\"], [\"Puerto Rico\", \"Lares\"], [\"Puerto Rico\", \"Lajas\"]], \"y\": [94.6, 93.6, 92.9, 92.9, 92.7, 92.7, 92.6, 92.3, 92.2, 91.7], \"showlegend\": false}, {\"type\": \"box\", \"x\": [[\"Georgia\", \"Clay\"], [\"Indiana\", \"LaGrange\"], [\"Georgia\", \"Jenkins\"], [\"Arkansas\", \"Sevier\"], [\"Kansas\", \"Seward\"], [\"Texas\", \"Cochran\"], [\"Texas\", \"Jim Hogg\"], [\"Texas\", \"Roberts\"], [\"Ohio\", \"Holmes\"], [\"Kentucky\", \"Powell\"]], \"y\": [29.9, 27.0, 25.3, 24.4, 23.4, 22.8, 22.6, 22.4, 21.8, 21.6], \"showlegend\": false}, {\"type\": \"box\", \"x\": [[\"New York\", \"Kings\"], [\"New York\", \"Bronx\"], [\"New York\", \"New York\"], [\"New York\", \"Queens\"], [\"New Jersey\", \"Hudson\"], [\"District of Columbia\", \"District of Columbia\"], [\"California\", \"San Francisco\"], [\"Massachusetts\", \"Suffolk\"], [\"New York\", \"Richmond\"], [\"Virginia\", \"Arlington\"]], \"y\": [61.7, 59.7, 59.2, 52.3, 41.0, 37.4, 33.1, 32.5, 29.8, 26.4], \"showlegend\": false}, {\"type\": \"box\", \"x\": [[\"Alaska\", \"Aleutians East Borough\"], [\"Alaska\", \"Kusilvak Census Area\"], [\"Alaska\", \"Northwest Arctic Borough\"], [\"Alaska\", \"Aleutians West Census Area\"], [\"Hawaii\", \"Kalawao\"], [\"Alaska\", \"Yukon-Koyukuk Census Area\"], [\"Alaska\", \"North Slope Borough\"], [\"Alaska\", \"Skagway Municipality\"], [\"Alaska\", \"Nome Census Area\"], [\"Alaska\", \"Lake and Peninsula Borough\"]], \"y\": [71.2, 47.6, 46.9, 42.5, 40.3, 38.1, 37.9, 37.8, 36.9, 36.2], \"showlegend\": false}, {\"type\": \"box\", \"x\": [[\"Alaska\", \"Kusilvak Census Area\"], [\"Alaska\", \"Lake and Peninsula Borough\"], [\"Alaska\", \"Nome Census Area\"], [\"Alaska\", \"Bethel Census Area\"], [\"Alaska\", \"Northwest Arctic Borough\"], [\"Alaska\", \"Yukon-Koyukuk Census Area\"], [\"Colorado\", \"San Juan\"], [\"Alaska\", \"Dillingham Census Area\"], [\"Hawaii\", \"Kalawao\"], [\"Indiana\", \"LaGrange\"]], \"y\": [39.1, 32.4, 22.7, 22.6, 21.2, 20.1, 19.9, 17.7, 14.9, 11.5], \"showlegend\": false}], {\"title\": \"Counties with most popular transportation methods\", \"showlegend\": false, \"updatemenus\": [{\"active\": -1, \"x\": -0.15, \"buttons\": [{\"label\": \"Drive\", \"method\": \"update\", \"args\": [{\"visible\": [true, false, false, false, false]}, {\"title\": \"Top counties for Drive\"}]}, {\"label\": \"Carpool\", \"method\": \"update\", \"args\": [{\"visible\": [false, true, false, false, false]}, {\"title\": \"Top counties for Carpool\"}]}, {\"label\": \"Transit\", \"method\": \"update\", \"args\": [{\"visible\": [false, false, true, false, false]}, {\"title\": \"Top counties for Transit\"}]}, {\"label\": \"Walk\", \"method\": \"update\", \"args\": [{\"visible\": [false, false, false, true, false]}, {\"title\": \"Top counties for Walk\"}]}, {\"label\": \"OtherTransp\", \"method\": \"update\", \"args\": [{\"visible\": [false, false, false, false, true]}, {\"title\": \"Top counties for OtherTransp\"}]}]}]}, {\"showLink\": true, \"linkText\": \"Export to plot.ly\"})});</script>"
      ],
      "text/vnd.plotly.v1+html": [
       "<div id=\"4c1dc2a1-fb07-4b16-b8ac-418d22ba2e69\" style=\"height: 525px; width: 100%;\" class=\"plotly-graph-div\"></div><script type=\"text/javascript\">require([\"plotly\"], function(Plotly) { window.PLOTLYENV=window.PLOTLYENV || {};window.PLOTLYENV.BASE_URL=\"https://plot.ly\";Plotly.newPlot(\"4c1dc2a1-fb07-4b16-b8ac-418d22ba2e69\", [{\"type\": \"box\", \"x\": [[\"Texas\", \"Kenedy\"], [\"Alabama\", \"Conecuh\"], [\"Virginia\", \"Norton city\"], [\"North Carolina\", \"Clay\"], [\"Puerto Rico\", \"Hatillo\"], [\"Virginia\", \"Covington city\"], [\"Georgia\", \"Wheeler\"], [\"Georgia\", \"Webster\"], [\"Puerto Rico\", \"Lares\"], [\"Puerto Rico\", \"Lajas\"]], \"y\": [94.6, 93.6, 92.9, 92.9, 92.7, 92.7, 92.6, 92.3, 92.2, 91.7], \"showlegend\": false}, {\"type\": \"box\", \"x\": [[\"Georgia\", \"Clay\"], [\"Indiana\", \"LaGrange\"], [\"Georgia\", \"Jenkins\"], [\"Arkansas\", \"Sevier\"], [\"Kansas\", \"Seward\"], [\"Texas\", \"Cochran\"], [\"Texas\", \"Jim Hogg\"], [\"Texas\", \"Roberts\"], [\"Ohio\", \"Holmes\"], [\"Kentucky\", \"Powell\"]], \"y\": [29.9, 27.0, 25.3, 24.4, 23.4, 22.8, 22.6, 22.4, 21.8, 21.6], \"showlegend\": false}, {\"type\": \"box\", \"x\": [[\"New York\", \"Kings\"], [\"New York\", \"Bronx\"], [\"New York\", \"New York\"], [\"New York\", \"Queens\"], [\"New Jersey\", \"Hudson\"], [\"District of Columbia\", \"District of Columbia\"], [\"California\", \"San Francisco\"], [\"Massachusetts\", \"Suffolk\"], [\"New York\", \"Richmond\"], [\"Virginia\", \"Arlington\"]], \"y\": [61.7, 59.7, 59.2, 52.3, 41.0, 37.4, 33.1, 32.5, 29.8, 26.4], \"showlegend\": false}, {\"type\": \"box\", \"x\": [[\"Alaska\", \"Aleutians East Borough\"], [\"Alaska\", \"Kusilvak Census Area\"], [\"Alaska\", \"Northwest Arctic Borough\"], [\"Alaska\", \"Aleutians West Census Area\"], [\"Hawaii\", \"Kalawao\"], [\"Alaska\", \"Yukon-Koyukuk Census Area\"], [\"Alaska\", \"North Slope Borough\"], [\"Alaska\", \"Skagway Municipality\"], [\"Alaska\", \"Nome Census Area\"], [\"Alaska\", \"Lake and Peninsula Borough\"]], \"y\": [71.2, 47.6, 46.9, 42.5, 40.3, 38.1, 37.9, 37.8, 36.9, 36.2], \"showlegend\": false}, {\"type\": \"box\", \"x\": [[\"Alaska\", \"Kusilvak Census Area\"], [\"Alaska\", \"Lake and Peninsula Borough\"], [\"Alaska\", \"Nome Census Area\"], [\"Alaska\", \"Bethel Census Area\"], [\"Alaska\", \"Northwest Arctic Borough\"], [\"Alaska\", \"Yukon-Koyukuk Census Area\"], [\"Colorado\", \"San Juan\"], [\"Alaska\", \"Dillingham Census Area\"], [\"Hawaii\", \"Kalawao\"], [\"Indiana\", \"LaGrange\"]], \"y\": [39.1, 32.4, 22.7, 22.6, 21.2, 20.1, 19.9, 17.7, 14.9, 11.5], \"showlegend\": false}], {\"title\": \"Counties with most popular transportation methods\", \"showlegend\": false, \"updatemenus\": [{\"active\": -1, \"x\": -0.15, \"buttons\": [{\"label\": \"Drive\", \"method\": \"update\", \"args\": [{\"visible\": [true, false, false, false, false]}, {\"title\": \"Top counties for Drive\"}]}, {\"label\": \"Carpool\", \"method\": \"update\", \"args\": [{\"visible\": [false, true, false, false, false]}, {\"title\": \"Top counties for Carpool\"}]}, {\"label\": \"Transit\", \"method\": \"update\", \"args\": [{\"visible\": [false, false, true, false, false]}, {\"title\": \"Top counties for Transit\"}]}, {\"label\": \"Walk\", \"method\": \"update\", \"args\": [{\"visible\": [false, false, false, true, false]}, {\"title\": \"Top counties for Walk\"}]}, {\"label\": \"OtherTransp\", \"method\": \"update\", \"args\": [{\"visible\": [false, false, false, false, true]}, {\"title\": \"Top counties for OtherTransp\"}]}]}]}, {\"showLink\": true, \"linkText\": \"Export to plot.ly\"})});</script>"
      ]
     },
     "metadata": {},
     "output_type": "display_data"
    }
   ],
   "source": [
    "transportations = ['Drive', 'Carpool', 'Transit', 'Walk', 'OtherTransp']\n",
    "\n",
    "datas = []\n",
    "for tran in transportations:\n",
    "    datas.append(county.groupby([\"State\", \"County\"])[tran].median().sort_values(ascending=False).head(10))\n",
    "\n",
    "traces = []\n",
    "\n",
    "for data in datas:\n",
    "    traces.append(go.Box(\n",
    "                            x=data.index,\n",
    "                            y=data.values, \n",
    "                            showlegend=False\n",
    "                        ))\n",
    "buttons = []\n",
    "\n",
    "for i, tran in enumerate(transportations):\n",
    "    visibility = [i==j for j in range(len(transportations))]\n",
    "    button = dict(\n",
    "                 label =  tran,\n",
    "                 method = 'update',\n",
    "                 args = [{'visible': visibility},\n",
    "                     {'title': 'Top counties for {}'.format(tran)}])\n",
    "    buttons.append(button)\n",
    "\n",
    "updatemenus = list([\n",
    "    dict(active=-1,\n",
    "         x=-0.15,\n",
    "         buttons=buttons\n",
    "    )\n",
    "])\n",
    "\n",
    "layout = dict(title='Counties with most popular transportation methods', \n",
    "              showlegend=False,\n",
    "              updatemenus=updatemenus)\n",
    "\n",
    "fig = dict(data=traces, layout=layout)\n",
    "\n",
    "iplot(fig, filename='dropdown')"
   ]
  },
  {
   "cell_type": "code",
   "execution_count": null,
   "metadata": {
    "collapsed": true
   },
   "outputs": [],
   "source": []
  }
 ],
 "metadata": {
  "kernelspec": {
   "display_name": "Python 3",
   "language": "python",
   "name": "python3"
  },
  "language_info": {
   "codemirror_mode": {
    "name": "ipython",
    "version": 3
   },
   "file_extension": ".py",
   "mimetype": "text/x-python",
   "name": "python",
   "nbconvert_exporter": "python",
   "pygments_lexer": "ipython3",
   "version": "3.6.3"
  }
 },
 "nbformat": 4,
 "nbformat_minor": 2
}
